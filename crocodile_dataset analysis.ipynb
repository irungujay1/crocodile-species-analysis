{
 "cells": [
  {
   "cell_type": "code",
   "execution_count": null,
   "id": "cf3cc6d4-f91d-4b40-bfdf-e7c395d70f4d",
   "metadata": {},
   "outputs": [
    {
     "data": {
      "text/html": [
       "<div>\n",
       "<style scoped>\n",
       "    .dataframe tbody tr th:only-of-type {\n",
       "        vertical-align: middle;\n",
       "    }\n",
       "\n",
       "    .dataframe tbody tr th {\n",
       "        vertical-align: top;\n",
       "    }\n",
       "\n",
       "    .dataframe thead th {\n",
       "        text-align: right;\n",
       "    }\n",
       "</style>\n",
       "<table border=\"1\" class=\"dataframe\">\n",
       "  <thead>\n",
       "    <tr style=\"text-align: right;\">\n",
       "      <th></th>\n",
       "      <th>observation_id</th>\n",
       "      <th>common_name</th>\n",
       "      <th>scientific_name</th>\n",
       "      <th>family</th>\n",
       "      <th>genus</th>\n",
       "      <th>observed_length_m</th>\n",
       "      <th>observed_weight_kg</th>\n",
       "      <th>age_class</th>\n",
       "      <th>sex</th>\n",
       "      <th>date_of_observation</th>\n",
       "      <th>country_region</th>\n",
       "      <th>habitat_type</th>\n",
       "      <th>conservation_status</th>\n",
       "      <th>observer_name</th>\n",
       "      <th>notes</th>\n",
       "    </tr>\n",
       "  </thead>\n",
       "  <tbody>\n",
       "    <tr>\n",
       "      <th>0</th>\n",
       "      <td>1</td>\n",
       "      <td>Morelet's Crocodile</td>\n",
       "      <td>Crocodylus moreletii</td>\n",
       "      <td>Crocodylidae</td>\n",
       "      <td>Crocodylus</td>\n",
       "      <td>1.90</td>\n",
       "      <td>62.0</td>\n",
       "      <td>Adult</td>\n",
       "      <td>Male</td>\n",
       "      <td>31-03-2018</td>\n",
       "      <td>Belize</td>\n",
       "      <td>Swamps</td>\n",
       "      <td>Least Concern</td>\n",
       "      <td>Allison Hill</td>\n",
       "      <td>Cause bill scientist nation opportunity.</td>\n",
       "    </tr>\n",
       "    <tr>\n",
       "      <th>1</th>\n",
       "      <td>2</td>\n",
       "      <td>American Crocodile</td>\n",
       "      <td>Crocodylus acutus</td>\n",
       "      <td>Crocodylidae</td>\n",
       "      <td>Crocodylus</td>\n",
       "      <td>4.09</td>\n",
       "      <td>334.5</td>\n",
       "      <td>Adult</td>\n",
       "      <td>Male</td>\n",
       "      <td>28-01-2015</td>\n",
       "      <td>Venezuela</td>\n",
       "      <td>Mangroves</td>\n",
       "      <td>Vulnerable</td>\n",
       "      <td>Brandon Hall</td>\n",
       "      <td>Ago current practice nation determine operatio...</td>\n",
       "    </tr>\n",
       "    <tr>\n",
       "      <th>2</th>\n",
       "      <td>3</td>\n",
       "      <td>Orinoco Crocodile</td>\n",
       "      <td>Crocodylus intermedius</td>\n",
       "      <td>Crocodylidae</td>\n",
       "      <td>Crocodylus</td>\n",
       "      <td>1.08</td>\n",
       "      <td>118.2</td>\n",
       "      <td>Juvenile</td>\n",
       "      <td>Unknown</td>\n",
       "      <td>07-12-2010</td>\n",
       "      <td>Venezuela</td>\n",
       "      <td>Flooded Savannas</td>\n",
       "      <td>Critically Endangered</td>\n",
       "      <td>Melissa Peterson</td>\n",
       "      <td>Democratic shake bill here grow gas enough ana...</td>\n",
       "    </tr>\n",
       "    <tr>\n",
       "      <th>3</th>\n",
       "      <td>4</td>\n",
       "      <td>Morelet's Crocodile</td>\n",
       "      <td>Crocodylus moreletii</td>\n",
       "      <td>Crocodylidae</td>\n",
       "      <td>Crocodylus</td>\n",
       "      <td>2.42</td>\n",
       "      <td>90.4</td>\n",
       "      <td>Adult</td>\n",
       "      <td>Male</td>\n",
       "      <td>01-11-2019</td>\n",
       "      <td>Mexico</td>\n",
       "      <td>Rivers</td>\n",
       "      <td>Least Concern</td>\n",
       "      <td>Edward Fuller</td>\n",
       "      <td>Officer relate animal direction eye bag do.</td>\n",
       "    </tr>\n",
       "    <tr>\n",
       "      <th>4</th>\n",
       "      <td>5</td>\n",
       "      <td>Mugger Crocodile (Marsh Crocodile)</td>\n",
       "      <td>Crocodylus palustris</td>\n",
       "      <td>Crocodylidae</td>\n",
       "      <td>Crocodylus</td>\n",
       "      <td>3.75</td>\n",
       "      <td>269.4</td>\n",
       "      <td>Adult</td>\n",
       "      <td>Unknown</td>\n",
       "      <td>15-07-2019</td>\n",
       "      <td>India</td>\n",
       "      <td>Rivers</td>\n",
       "      <td>Vulnerable</td>\n",
       "      <td>Donald Reid</td>\n",
       "      <td>Class great prove reduce raise author play mov...</td>\n",
       "    </tr>\n",
       "  </tbody>\n",
       "</table>\n",
       "</div>"
      ],
      "text/plain": [
       "   observation_id                         common_name         scientific_name  \\\n",
       "0               1                 Morelet's Crocodile    Crocodylus moreletii   \n",
       "1               2                  American Crocodile       Crocodylus acutus   \n",
       "2               3                   Orinoco Crocodile  Crocodylus intermedius   \n",
       "3               4                 Morelet's Crocodile    Crocodylus moreletii   \n",
       "4               5  Mugger Crocodile (Marsh Crocodile)    Crocodylus palustris   \n",
       "\n",
       "         family       genus  observed_length_m  observed_weight_kg age_class  \\\n",
       "0  Crocodylidae  Crocodylus               1.90                62.0     Adult   \n",
       "1  Crocodylidae  Crocodylus               4.09               334.5     Adult   \n",
       "2  Crocodylidae  Crocodylus               1.08               118.2  Juvenile   \n",
       "3  Crocodylidae  Crocodylus               2.42                90.4     Adult   \n",
       "4  Crocodylidae  Crocodylus               3.75               269.4     Adult   \n",
       "\n",
       "       sex date_of_observation country_region      habitat_type  \\\n",
       "0     Male          31-03-2018         Belize            Swamps   \n",
       "1     Male          28-01-2015      Venezuela         Mangroves   \n",
       "2  Unknown          07-12-2010      Venezuela  Flooded Savannas   \n",
       "3     Male          01-11-2019         Mexico            Rivers   \n",
       "4  Unknown          15-07-2019          India            Rivers   \n",
       "\n",
       "     conservation_status     observer_name  \\\n",
       "0          Least Concern      Allison Hill   \n",
       "1             Vulnerable      Brandon Hall   \n",
       "2  Critically Endangered  Melissa Peterson   \n",
       "3          Least Concern     Edward Fuller   \n",
       "4             Vulnerable       Donald Reid   \n",
       "\n",
       "                                               notes  \n",
       "0           Cause bill scientist nation opportunity.  \n",
       "1  Ago current practice nation determine operatio...  \n",
       "2  Democratic shake bill here grow gas enough ana...  \n",
       "3        Officer relate animal direction eye bag do.  \n",
       "4  Class great prove reduce raise author play mov...  "
      ]
     },
     "execution_count": 1,
     "metadata": {},
     "output_type": "execute_result"
    }
   ],
   "source": [
    "import pandas as pd\n",
    "import numpy as np\n",
    "import matplotlib.pyplot as plt\n",
    "from sklearn.model_selection import train_test_split\n",
    "from sklearn.linear_model import LinearRegression\n",
    "from sklearn.metrics import mean_squared_error, r2_score\n",
    "\n",
    "# Load dataset\n",
    "df = pd.read_csv(\"crocodile_dataset.csv\")\n",
    "\n",
    "# Clean column names\n",
    "df.columns = (df.columns\n",
    "              .str.strip()\n",
    "              .str.replace(' ', '_', regex=False)\n",
    "              .str.replace('(', '', regex=False)\n",
    "              .str.replace(')', '', regex=False)\n",
    "              .str.replace('/', '_', regex=False)\n",
    "              .str.replace('-', '_', regex=False)\n",
    "              .str.lower())\n",
    "\n",
    "df.head()"
   ]
  },
  {
   "cell_type": "code",
   "execution_count": null,
   "id": "b5373393-7bb5-4e78-8c14-00fc4ce7e6f2",
   "metadata": {},
   "outputs": [
    {
     "name": "stdout",
     "output_type": "stream",
     "text": [
      "count    1000.000000\n",
      "mean        2.415110\n",
      "std         1.097542\n",
      "min         0.140000\n",
      "25%         1.637500\n",
      "50%         2.430000\n",
      "75%         3.010000\n",
      "max         6.120000\n",
      "Name: observed_length_m, dtype: float64\n"
     ]
    },
    {
     "data": {
      "image/png": "[encoded data removed]",
      "text/plain": [
       "<Figure size 800x400 with 1 Axes>"
      ]
     },
     "metadata": {},
     "output_type": "display_data"
    },
    {
     "data": {
      "image/png": "[encoded data removed]",
      "text/plain": [
       "<Figure size 900x500 with 1 Axes>"
      ]
     },
     "metadata": {},
     "output_type": "display_data"
    }
   ],
   "source": [
    "# Numeric stats\n",
    "if 'observed_length_m' in df.columns:\n",
    "    print(df['observed_length_m'].describe())\n",
    "\n",
    "    plt.figure(figsize=(8,4))\n",
    "    plt.hist(df['observed_length_m'].dropna(), bins=30)\n",
    "    plt.title(\"Distribution of Observed Length (m)\")\n",
    "    plt.xlabel(\"Length (m)\")\n",
    "    plt.ylabel(\"Count\")\n",
    "    plt.show()\n",
    "\n",
    "if 'age_class' in df.columns and 'observed_weight_kg' in df.columns:\n",
    "    age_order = df['age_class'].dropna().unique().tolist()\n",
    "    data_box = [df.loc[df['age_class']==a, 'observed_weight_kg'].dropna().values for a in age_order]\n",
    "\n",
    "    plt.figure(figsize=(9,5))\n",
    "    plt.boxplot(data_box, labels=age_order)\n",
    "    plt.title(\"Observed Weight by Age Class\")\n",
    "    plt.ylabel(\"Weight (kg)\")\n",
    "    plt.show()"
   ]
  },
  {
   "cell_type": "code",
   "execution_count": null,
   "id": "fc918868-5940-4109-9f41-dc5a644508b0",
   "metadata": {},
   "outputs": [
    {
     "name": "stdout",
     "output_type": "stream",
     "text": [
      "                                        observed_length_m  observed_weight_kg\n",
      "common_name                                                                  \n",
      "Saltwater Crocodile                              4.407759          634.644828\n",
      "Nile Crocodile                                   3.666667          455.960417\n",
      "Orinoco Crocodile                                3.021897          295.748276\n",
      "American Crocodile                               2.878636          189.000000\n",
      "Mugger Crocodile (Marsh Crocodile)               2.820000          161.242553\n",
      "Borneo Crocodile (disputed)                      2.517612          117.983582\n",
      "West African Slender-snouted Crocodile           2.471636          130.036364\n",
      "Hall's New Guinea Crocodile                      2.401633           96.469388\n",
      "West African Crocodile                           2.335577          112.628846\n",
      "Cuban Crocodile                                  2.317966           99.376271\n"
     ]
    },
    {
     "data": {
      "image/png": "[encoded data removed]",
      "text/plain": [
       "<Figure size 700x500 with 1 Axes>"
      ]
     },
     "metadata": {},
     "output_type": "display_data"
    }
   ],
   "source": [
    "if 'common_name' in df.columns:\n",
    "    stats = df.groupby('common_name')[['observed_length_m','observed_weight_kg']].mean()\n",
    "    print(stats.sort_values('observed_length_m', ascending=False).head(10))\n",
    "\n",
    "if 'conservation_status' in df.columns:\n",
    "    df['conservation_status'].value_counts().plot(kind=\"bar\", figsize=(7,5))\n",
    "    plt.title(\"Conservation Status Distribution\")\n",
    "    plt.show()"
   ]
  },
  {
   "cell_type": "code",
   "execution_count": null,
   "id": "8e294604-d1f9-4d86-bab3-e90910852d2e",
   "metadata": {},
   "outputs": [
    {
     "data": {
      "image/png": "[encoded data removed]",
      "text/plain": [
       "<Figure size 800x600 with 1 Axes>"
      ]
     },
     "metadata": {},
     "output_type": "display_data"
    },
    {
     "data": {
      "image/png": "[encoded data removed]",
      "text/plain": [
       "<Figure size 700x500 with 1 Axes>"
      ]
     },
     "metadata": {},
     "output_type": "display_data"
    }
   ],
   "source": [
    "# Find best matching region column\n",
    "region_col = None\n",
    "for c in df.columns:\n",
    "    if 'country' in c or 'region' in c:\n",
    "        region_col = c\n",
    "        break\n",
    "\n",
    "if region_col:\n",
    "    df[region_col].value_counts().head(15).plot(kind=\"barh\", figsize=(8,6))\n",
    "    plt.title(\"Top Regions for Observations\")\n",
    "    plt.show()\n",
    "\n",
    "if 'habitat_type' in df.columns:\n",
    "    df['habitat_type'].value_counts().plot(kind=\"barh\", figsize=(7,5))\n",
    "    plt.title(\"Habitat Type Distribution\")\n",
    "    plt.show()"
   ]
  },
  {
   "cell_type": "code",
   "execution_count": null,
   "id": "5e13e9c9-74e5-47ab-b585-6d7a14ce9a09",
   "metadata": {},
   "outputs": [
    {
     "data": {
      "image/png": "[encoded data removed]",
      "text/plain": [
       "<Figure size 600x400 with 2 Axes>"
      ]
     },
     "metadata": {},
     "output_type": "display_data"
    },
    {
     "data": {
      "image/png": "[encoded data removed]",
      "text/plain": [
       "<Figure size 800x600 with 1 Axes>"
      ]
     },
     "metadata": {},
     "output_type": "display_data"
    }
   ],
   "source": [
    "# --- Relationships & Correlations ---\n",
    "\n",
    "import seaborn as sns\n",
    "import matplotlib.pyplot as plt\n",
    "\n",
    "# Fix date column (dayfirst=True to silence warning)\n",
    "df['date_of_observation'] = pd.to_datetime(\n",
    "    df['date_of_observation'],\n",
    "    errors='coerce',\n",
    "    dayfirst=True\n",
    ")\n",
    "\n",
    "# Convert numeric fields safely\n",
    "df['observed_length_m'] = pd.to_numeric(df['observed_length_m'], errors='coerce')\n",
    "df['observed_weight_kg'] = pd.to_numeric(df['observed_weight_kg'], errors='coerce')\n",
    "\n",
    "# --- Correlation heatmap ---\n",
    "plt.figure(figsize=(6,4))\n",
    "sns.heatmap(\n",
    "    df[['observed_length_m', 'observed_weight_kg']].corr(),\n",
    "    annot=True, cmap='coolwarm', vmin=-1, vmax=1\n",
    ")\n",
    "plt.title(\"Correlation between Length and Weight\")\n",
    "plt.show()\n",
    "\n",
    "# --- Scatter plot: Length vs Weight by Sex and Species ---\n",
    "plt.figure(figsize=(8,6))\n",
    "sns.scatterplot(\n",
    "    data=df,\n",
    "    x='observed_length_m',\n",
    "    y='observed_weight_kg',\n",
    "    hue='sex',\n",
    "    style='common_name',\n",
    "    alpha=0.7\n",
    ")\n",
    "plt.title(\"Length vs Weight by Sex and Species\")\n",
    "plt.xlabel(\"Length (m)\")\n",
    "plt.ylabel(\"Weight (kg)\")\n",
    "\n",
    "# Move legend outside\n",
    "plt.legend(bbox_to_anchor=(1.05, 1), loc='upper left', borderaxespad=0)\n",
    "plt.tight_layout()\n",
    "plt.show()"
   ]
  },
  {
   "cell_type": "code",
   "execution_count": null,
   "id": "18687540-e739-4702-b820-c71b18200ff0",
   "metadata": {},
   "outputs": [
    {
     "data": {
      "image/png": "[encoded data removed]",
      "text/plain": [
       "<Figure size 640x480 with 1 Axes>"
      ]
     },
     "metadata": {},
     "output_type": "display_data"
    },
    {
     "name": "stdout",
     "output_type": "stream",
     "text": [
      "                    observed_length_m  observed_weight_kg\n",
      "observed_length_m            1.000000            0.843435\n",
      "observed_weight_kg           0.843435            1.000000\n"
     ]
    }
   ],
   "source": [
    "if 'observed_length_m' in df.columns and 'observed_weight_kg' in df.columns:\n",
    "    plt.scatter(df['observed_length_m'], df['observed_weight_kg'], alpha=0.6)\n",
    "    plt.xlabel(\"Observed Length (m)\")\n",
    "    plt.ylabel(\"Observed Weight (kg)\")\n",
    "    plt.title(\"Length vs Weight\")\n",
    "    plt.show()\n",
    "\n",
    "    print(df[['observed_length_m','observed_weight_kg']].corr())"
   ]
  },
  {
   "cell_type": "code",
   "execution_count": null,
   "id": "4239c038-9c17-4d80-ae82-5c6637cc5a1a",
   "metadata": {},
   "outputs": [
    {
     "name": "stdout",
     "output_type": "stream",
     "text": [
      "R²: 0.6745264209729092\n",
      "MSE: 8309.067422279662\n",
      "Coef: [137.33890346] Intercept: -175.184829724249\n"
     ]
    }
   ],
   "source": [
    "if 'observed_length_m' in df.columns and 'observed_weight_kg' in df.columns:\n",
    "    df_model = df[['observed_length_m','observed_weight_kg']].dropna()\n",
    "    X = df_model[['observed_length_m']]\n",
    "    y = df_model['observed_weight_kg']\n",
    "\n",
    "    if len(df_model) >= 10:\n",
    "        X_train, X_test, y_train, y_test = train_test_split(X, y, test_size=0.2, random_state=42)\n",
    "\n",
    "        model = LinearRegression()\n",
    "        model.fit(X_train, y_train)\n",
    "        y_pred = model.predict(X_test)\n",
    "\n",
    "        print(\"R²:\", r2_score(y_test, y_pred))\n",
    "        print(\"MSE:\", mean_squared_error(y_test, y_pred))\n",
    "        print(\"Coef:\", model.coef_, \"Intercept:\", model.intercept_)"
   ]
  },
  {
   "cell_type": "code",
   "execution_count": null,
   "id": "fc2265f5-c926-4d2f-92bb-f3c3e404170c",
   "metadata": {},
   "outputs": [
    {
     "data": {
      "application/vnd.plotly.v1+json": {
       "config": {
        "plotlyServerURL": "https://plot.ly"
       },
       "data": [
        {
         "customdata": [
          [
           "Morelet's Crocodile",
           "Adult"
          ],
          [
           "American Crocodile",
           "Adult"
          ],
          [
           "Morelet's Crocodile",
           "Adult"
          ],
          [
           "Mugger Crocodile (Marsh Crocodile)",
           "Adult"
          ],
          [
           "Siamese Crocodile",
           "Subadult"
          ],
          [
           "West African Crocodile",
           "Adult"
          ],
          [
           "Morelet's Crocodile",
           "Adult"
          ],
          [
           "West African Dwarf Crocodile",
           "Adult"
          ],
          [
           "Morelet's Crocodile",
           "Adult"
          ],
          [
           "American Crocodile",
           "Adult"
          ],
          [
           "Saltwater Crocodile",
           "Juvenile"
          ],
          [
           "Nile Crocodile",
           "Adult"
          ],
          [
           "Congo Dwarf Crocodile",
           "Adult"
          ],
          [
           "Cuban Crocodile",
           "Subadult"
          ],
          [
           "Nile Crocodile",
           "Juvenile"
          ],
          [
           "Orinoco Crocodile",
           "Subadult"
          ],
          [
           "Philippine Crocodile",
           "Adult"
          ],
          [
           "Morelet's Crocodile",
           "Adult"
          ],
          [
           "Morelet's Crocodile",
           "Adult"
          ],
          [
           "West African Slender-snouted Crocodile",
           "Adult"
          ],
          [
           "Siamese Crocodile",
           "Juvenile"
          ],
          [
           "West African Slender-snouted Crocodile",
           "Subadult"
          ],
          [
           "Saltwater Crocodile",
           "Adult"
          ],
          [
           "Nile Crocodile",
           "Adult"
          ],
          [
           "Borneo Crocodile (disputed)",
           "Adult"
          ],
          [
           "Central African Slender-snouted Crocodile",
           "Subadult"
          ],
          [
           "Saltwater Crocodile",
           "Subadult"
          ],
          [
           "Borneo Crocodile (disputed)",
           "Adult"
          ],
          [
           "West African Crocodile",
           "Adult"
          ],
          [
           "Philippine Crocodile",
           "Subadult"
          ],
          [
           "Siamese Crocodile",
           "Juvenile"
          ],
          [
           "Orinoco Crocodile",
           "Juvenile"
          ],
          [
           "Mugger Crocodile (Marsh Crocodile)",
           "Juvenile"
          ],
          [
           "Borneo Crocodile (disputed)",
           "Subadult"
          ],
          [
           "Cuban Crocodile",
           "Adult"
          ],
          [
           "West African Crocodile",
           "Adult"
          ],
          [
           "West African Slender-snouted Crocodile",
           "Adult"
          ],
          [
           "Morelet's Crocodile",
           "Subadult"
          ],
          [
           "West African Crocodile",
           "Subadult"
          ],
          [
           "Saltwater Crocodile",
           "Adult"
          ],
          [
           "Hall's New Guinea Crocodile",
           "Adult"
          ],
          [
           "Cuban Crocodile",
           "Adult"
          ],
          [
           "American Crocodile",
           "Adult"
          ],
          [
           "West African Slender-snouted Crocodile",
           "Juvenile"
          ],
          [
           "Nile Crocodile",
           "Adult"
          ],
          [
           "West African Dwarf Crocodile",
           "Adult"
          ],
          [
           "West African Crocodile",
           "Subadult"
          ],
          [
           "Mugger Crocodile (Marsh Crocodile)",
           "Subadult"
          ],
          [
           "West African Slender-snouted Crocodile",
           "Adult"
          ],
          [
           "West African Dwarf Crocodile",
           "Adult"
          ],
          [
           "Nile Crocodile",
           "Subadult"
          ],
          [
           "West African Crocodile",
           "Adult"
          ],
          [
           "Saltwater Crocodile",
           "Adult"
          ],
          [
           "West African Slender-snouted Crocodile",
           "Adult"
          ],
          [
           "Congo Dwarf Crocodile",
           "Subadult"
          ],
          [
           "Cuban Crocodile",
           "Subadult"
          ],
          [
           "Borneo Crocodile (disputed)",
           "Juvenile"
          ],
          [
           "Orinoco Crocodile",
           "Juvenile"
          ],
          [
           "Cuban Crocodile",
           "Adult"
          ],
          [
           "West African Dwarf Crocodile",
           "Adult"
          ],
          [
           "Philippine Crocodile",
           "Subadult"
          ],
          [
           "West African Dwarf Crocodile",
           "Adult"
          ],
          [
           "American Crocodile",
           "Adult"
          ],
          [
           "Saltwater Crocodile",
           "Subadult"
          ],
          [
           "Siamese Crocodile",
           "Juvenile"
          ],
          [
           "Mugger Crocodile (Marsh Crocodile)",
           "Juvenile"
          ],
          [
           "Morelet's Crocodile",
           "Adult"
          ],
          [
           "Saltwater Crocodile",
           "Adult"
          ],
          [
           "Borneo Crocodile (disputed)",
           "Subadult"
          ],
          [
           "Central African Slender-snouted Crocodile",
           "Subadult"
          ],
          [
           "American Crocodile",
           "Juvenile"
          ],
          [
           "West African Dwarf Crocodile",
           "Adult"
          ],
          [
           "New Guinea Crocodile",
           "Juvenile"
          ],
          [
           "Philippine Crocodile",
           "Adult"
          ],
          [
           "West African Crocodile",
           "Subadult"
          ],
          [
           "Morelet's Crocodile",
           "Subadult"
          ],
          [
           "Congo Dwarf Crocodile",
           "Adult"
          ],
          [
           "Central African Slender-snouted Crocodile",
           "Juvenile"
          ],
          [
           "New Guinea Crocodile",
           "Adult"
          ],
          [
           "Orinoco Crocodile",
           "Hatchling"
          ],
          [
           "West African Slender-snouted Crocodile",
           "Adult"
          ],
          [
           "American Crocodile",
           "Juvenile"
          ],
          [
           "Philippine Crocodile",
           "Subadult"
          ],
          [
           "Cuban Crocodile",
           "Adult"
          ],
          [
           "Siamese Crocodile",
           "Juvenile"
          ],
          [
           "American Crocodile",
           "Adult"
          ],
          [
           "West African Dwarf Crocodile",
           "Adult"
          ],
          [
           "West African Slender-snouted Crocodile",
           "Subadult"
          ],
          [
           "Philippine Crocodile",
           "Hatchling"
          ],
          [
           "Freshwater Crocodile (Johnstone's)",
           "Adult"
          ],
          [
           "Philippine Crocodile",
           "Adult"
          ],
          [
           "American Crocodile",
           "Hatchling"
          ],
          [
           "Nile Crocodile",
           "Subadult"
          ],
          [
           "West African Dwarf Crocodile",
           "Subadult"
          ],
          [
           "American Crocodile",
           "Juvenile"
          ],
          [
           "Hall's New Guinea Crocodile",
           "Adult"
          ],
          [
           "Philippine Crocodile",
           "Subadult"
          ],
          [
           "West African Dwarf Crocodile",
           "Adult"
          ],
          [
           "Congo Dwarf Crocodile",
           "Adult"
          ],
          [
           "Saltwater Crocodile",
           "Subadult"
          ],
          [
           "West African Slender-snouted Crocodile",
           "Adult"
          ],
          [
           "West African Dwarf Crocodile",
           "Adult"
          ],
          [
           "Morelet's Crocodile",
           "Subadult"
          ],
          [
           "Siamese Crocodile",
           "Adult"
          ],
          [
           "Central African Slender-snouted Crocodile",
           "Subadult"
          ],
          [
           "Siamese Crocodile",
           "Adult"
          ],
          [
           "Hall's New Guinea Crocodile",
           "Juvenile"
          ],
          [
           "Central African Slender-snouted Crocodile",
           "Juvenile"
          ],
          [
           "Philippine Crocodile",
           "Adult"
          ],
          [
           "Siamese Crocodile",
           "Adult"
          ],
          [
           "Central African Slender-snouted Crocodile",
           "Juvenile"
          ],
          [
           "Borneo Crocodile (disputed)",
           "Adult"
          ],
          [
           "Hall's New Guinea Crocodile",
           "Juvenile"
          ],
          [
           "Philippine Crocodile",
           "Juvenile"
          ],
          [
           "Borneo Crocodile (disputed)",
           "Juvenile"
          ],
          [
           "New Guinea Crocodile",
           "Subadult"
          ],
          [
           "Central African Slender-snouted Crocodile",
           "Adult"
          ],
          [
           "Nile Crocodile",
           "Juvenile"
          ],
          [
           "New Guinea Crocodile",
           "Hatchling"
          ],
          [
           "Freshwater Crocodile (Johnstone's)",
           "Juvenile"
          ],
          [
           "Orinoco Crocodile",
           "Hatchling"
          ],
          [
           "West African Dwarf Crocodile",
           "Hatchling"
          ],
          [
           "Saltwater Crocodile",
           "Adult"
          ],
          [
           "Freshwater Crocodile (Johnstone's)",
           "Subadult"
          ],
          [
           "Philippine Crocodile",
           "Subadult"
          ],
          [
           "Central African Slender-snouted Crocodile",
           "Subadult"
          ],
          [
           "Siamese Crocodile",
           "Hatchling"
          ],
          [
           "Congo Dwarf Crocodile",
           "Juvenile"
          ],
          [
           "American Crocodile",
           "Adult"
          ],
          [
           "New Guinea Crocodile",
           "Adult"
          ],
          [
           "Saltwater Crocodile",
           "Adult"
          ],
          [
           "West African Crocodile",
           "Juvenile"
          ],
          [
           "Cuban Crocodile",
           "Juvenile"
          ],
          [
           "New Guinea Crocodile",
           "Subadult"
          ],
          [
           "Hall's New Guinea Crocodile",
           "Adult"
          ],
          [
           "West African Slender-snouted Crocodile",
           "Adult"
          ],
          [
           "New Guinea Crocodile",
           "Juvenile"
          ],
          [
           "Borneo Crocodile (disputed)",
           "Adult"
          ],
          [
           "West African Crocodile",
           "Hatchling"
          ],
          [
           "Saltwater Crocodile",
           "Adult"
          ],
          [
           "Orinoco Crocodile",
           "Subadult"
          ],
          [
           "Mugger Crocodile (Marsh Crocodile)",
           "Juvenile"
          ],
          [
           "Siamese Crocodile",
           "Adult"
          ],
          [
           "New Guinea Crocodile",
           "Juvenile"
          ],
          [
           "Morelet's Crocodile",
           "Adult"
          ],
          [
           "American Crocodile",
           "Adult"
          ],
          [
           "Freshwater Crocodile (Johnstone's)",
           "Subadult"
          ],
          [
           "New Guinea Crocodile",
           "Adult"
          ],
          [
           "Mugger Crocodile (Marsh Crocodile)",
           "Subadult"
          ],
          [
           "Siamese Crocodile",
           "Subadult"
          ],
          [
           "Borneo Crocodile (disputed)",
           "Adult"
          ],
          [
           "Cuban Crocodile",
           "Juvenile"
          ],
          [
           "Philippine Crocodile",
           "Adult"
          ],
          [
           "American Crocodile",
           "Adult"
          ],
          [
           "West African Dwarf Crocodile",
           "Adult"
          ],
          [
           "Morelet's Crocodile",
           "Adult"
          ],
          [
           "Hall's New Guinea Crocodile",
           "Adult"
          ],
          [
           "Congo Dwarf Crocodile",
           "Adult"
          ],
          [
           "Cuban Crocodile",
           "Adult"
          ],
          [
           "American Crocodile",
           "Adult"
          ],
          [
           "Congo Dwarf Crocodile",
           "Adult"
          ],
          [
           "Freshwater Crocodile (Johnstone's)",
           "Juvenile"
          ],
          [
           "Nile Crocodile",
           "Adult"
          ],
          [
           "American Crocodile",
           "Adult"
          ],
          [
           "Hall's New Guinea Crocodile",
           "Juvenile"
          ],
          [
           "Orinoco Crocodile",
           "Adult"
          ],
          [
           "Central African Slender-snouted Crocodile",
           "Subadult"
          ],
          [
           "Central African Slender-snouted Crocodile",
           "Adult"
          ],
          [
           "Philippine Crocodile",
           "Adult"
          ],
          [
           "Orinoco Crocodile",
           "Subadult"
          ],
          [
           "Hall's New Guinea Crocodile",
           "Subadult"
          ],
          [
           "Central African Slender-snouted Crocodile",
           "Adult"
          ],
          [
           "Central African Slender-snouted Crocodile",
           "Subadult"
          ],
          [
           "Philippine Crocodile",
           "Subadult"
          ],
          [
           "Hall's New Guinea Crocodile",
           "Hatchling"
          ],
          [
           "American Crocodile",
           "Adult"
          ],
          [
           "Nile Crocodile",
           "Adult"
          ],
          [
           "Central African Slender-snouted Crocodile",
           "Adult"
          ],
          [
           "New Guinea Crocodile",
           "Adult"
          ],
          [
           "Saltwater Crocodile",
           "Juvenile"
          ],
          [
           "Siamese Crocodile",
           "Subadult"
          ],
          [
           "Hall's New Guinea Crocodile",
           "Subadult"
          ],
          [
           "Cuban Crocodile",
           "Adult"
          ],
          [
           "West African Slender-snouted Crocodile",
           "Adult"
          ],
          [
           "Orinoco Crocodile",
           "Subadult"
          ],
          [
           "Cuban Crocodile",
           "Subadult"
          ],
          [
           "Central African Slender-snouted Crocodile",
           "Adult"
          ],
          [
           "West African Dwarf Crocodile",
           "Adult"
          ],
          [
           "Cuban Crocodile",
           "Subadult"
          ],
          [
           "West African Dwarf Crocodile",
           "Adult"
          ],
          [
           "New Guinea Crocodile",
           "Adult"
          ],
          [
           "West African Slender-snouted Crocodile",
           "Subadult"
          ],
          [
           "Congo Dwarf Crocodile",
           "Adult"
          ],
          [
           "Congo Dwarf Crocodile",
           "Adult"
          ],
          [
           "New Guinea Crocodile",
           "Juvenile"
          ],
          [
           "Saltwater Crocodile",
           "Adult"
          ],
          [
           "Central African Slender-snouted Crocodile",
           "Hatchling"
          ],
          [
           "Congo Dwarf Crocodile",
           "Adult"
          ],
          [
           "Philippine Crocodile",
           "Subadult"
          ],
          [
           "Siamese Crocodile",
           "Adult"
          ],
          [
           "West African Slender-snouted Crocodile",
           "Subadult"
          ],
          [
           "Hall's New Guinea Crocodile",
           "Adult"
          ],
          [
           "West African Dwarf Crocodile",
           "Adult"
          ],
          [
           "Hall's New Guinea Crocodile",
           "Hatchling"
          ],
          [
           "Nile Crocodile",
           "Adult"
          ],
          [
           "Orinoco Crocodile",
           "Juvenile"
          ],
          [
           "Mugger Crocodile (Marsh Crocodile)",
           "Subadult"
          ],
          [
           "West African Dwarf Crocodile",
           "Subadult"
          ],
          [
           "Borneo Crocodile (disputed)",
           "Juvenile"
          ],
          [
           "Freshwater Crocodile (Johnstone's)",
           "Juvenile"
          ],
          [
           "Nile Crocodile",
           "Adult"
          ],
          [
           "Nile Crocodile",
           "Adult"
          ],
          [
           "Orinoco Crocodile",
           "Juvenile"
          ],
          [
           "Borneo Crocodile (disputed)",
           "Juvenile"
          ],
          [
           "Freshwater Crocodile (Johnstone's)",
           "Adult"
          ],
          [
           "Morelet's Crocodile",
           "Adult"
          ],
          [
           "West African Crocodile",
           "Juvenile"
          ],
          [
           "West African Crocodile",
           "Adult"
          ],
          [
           "Cuban Crocodile",
           "Subadult"
          ],
          [
           "West African Crocodile",
           "Juvenile"
          ],
          [
           "Orinoco Crocodile",
           "Adult"
          ],
          [
           "West African Dwarf Crocodile",
           "Hatchling"
          ],
          [
           "New Guinea Crocodile",
           "Juvenile"
          ],
          [
           "Siamese Crocodile",
           "Adult"
          ],
          [
           "Borneo Crocodile (disputed)",
           "Adult"
          ],
          [
           "New Guinea Crocodile",
           "Adult"
          ],
          [
           "West African Crocodile",
           "Adult"
          ],
          [
           "Saltwater Crocodile",
           "Adult"
          ],
          [
           "Borneo Crocodile (disputed)",
           "Subadult"
          ],
          [
           "West African Slender-snouted Crocodile",
           "Adult"
          ],
          [
           "West African Dwarf Crocodile",
           "Adult"
          ],
          [
           "Saltwater Crocodile",
           "Subadult"
          ],
          [
           "American Crocodile",
           "Juvenile"
          ],
          [
           "Nile Crocodile",
           "Juvenile"
          ],
          [
           "Freshwater Crocodile (Johnstone's)",
           "Adult"
          ],
          [
           "New Guinea Crocodile",
           "Juvenile"
          ],
          [
           "West African Crocodile",
           "Adult"
          ],
          [
           "Hall's New Guinea Crocodile",
           "Adult"
          ],
          [
           "Freshwater Crocodile (Johnstone's)",
           "Juvenile"
          ],
          [
           "Borneo Crocodile (disputed)",
           "Adult"
          ],
          [
           "Freshwater Crocodile (Johnstone's)",
           "Adult"
          ],
          [
           "Hall's New Guinea Crocodile",
           "Adult"
          ],
          [
           "Morelet's Crocodile",
           "Adult"
          ],
          [
           "Central African Slender-snouted Crocodile",
           "Juvenile"
          ],
          [
           "Borneo Crocodile (disputed)",
           "Adult"
          ],
          [
           "Cuban Crocodile",
           "Juvenile"
          ],
          [
           "Hall's New Guinea Crocodile",
           "Subadult"
          ],
          [
           "Mugger Crocodile (Marsh Crocodile)",
           "Adult"
          ],
          [
           "New Guinea Crocodile",
           "Subadult"
          ],
          [
           "American Crocodile",
           "Subadult"
          ],
          [
           "West African Slender-snouted Crocodile",
           "Adult"
          ],
          [
           "West African Crocodile",
           "Adult"
          ],
          [
           "Morelet's Crocodile",
           "Juvenile"
          ],
          [
           "Borneo Crocodile (disputed)",
           "Subadult"
          ],
          [
           "Morelet's Crocodile",
           "Adult"
          ],
          [
           "West African Dwarf Crocodile",
           "Adult"
          ],
          [
           "New Guinea Crocodile",
           "Subadult"
          ],
          [
           "American Crocodile",
           "Subadult"
          ],
          [
           "Orinoco Crocodile",
           "Adult"
          ],
          [
           "Orinoco Crocodile",
           "Hatchling"
          ],
          [
           "Freshwater Crocodile (Johnstone's)",
           "Adult"
          ],
          [
           "West African Dwarf Crocodile",
           "Adult"
          ],
          [
           "West African Dwarf Crocodile",
           "Adult"
          ],
          [
           "Central African Slender-snouted Crocodile",
           "Adult"
          ],
          [
           "Borneo Crocodile (disputed)",
           "Juvenile"
          ],
          [
           "American Crocodile",
           "Adult"
          ],
          [
           "West African Crocodile",
           "Adult"
          ],
          [
           "Freshwater Crocodile (Johnstone's)",
           "Adult"
          ],
          [
           "Congo Dwarf Crocodile",
           "Adult"
          ],
          [
           "Saltwater Crocodile",
           "Subadult"
          ],
          [
           "New Guinea Crocodile",
           "Hatchling"
          ],
          [
           "West African Dwarf Crocodile",
           "Subadult"
          ],
          [
           "Morelet's Crocodile",
           "Adult"
          ],
          [
           "Morelet's Crocodile",
           "Subadult"
          ],
          [
           "Borneo Crocodile (disputed)",
           "Adult"
          ],
          [
           "West African Dwarf Crocodile",
           "Adult"
          ],
          [
           "American Crocodile",
           "Juvenile"
          ],
          [
           "West African Slender-snouted Crocodile",
           "Adult"
          ],
          [
           "Orinoco Crocodile",
           "Juvenile"
          ],
          [
           "Borneo Crocodile (disputed)",
           "Adult"
          ],
          [
           "Central African Slender-snouted Crocodile",
           "Adult"
          ],
          [
           "Orinoco Crocodile",
           "Juvenile"
          ],
          [
           "Nile Crocodile",
           "Juvenile"
          ],
          [
           "Nile Crocodile",
           "Adult"
          ],
          [
           "Central African Slender-snouted Crocodile",
           "Adult"
          ],
          [
           "Orinoco Crocodile",
           "Adult"
          ],
          [
           "American Crocodile",
           "Adult"
          ],
          [
           "West African Slender-snouted Crocodile",
           "Adult"
          ],
          [
           "Cuban Crocodile",
           "Adult"
          ],
          [
           "Central African Slender-snouted Crocodile",
           "Juvenile"
          ],
          [
           "Saltwater Crocodile",
           "Subadult"
          ],
          [
           "Freshwater Crocodile (Johnstone's)",
           "Adult"
          ],
          [
           "New Guinea Crocodile",
           "Adult"
          ],
          [
           "Freshwater Crocodile (Johnstone's)",
           "Adult"
          ],
          [
           "Saltwater Crocodile",
           "Adult"
          ],
          [
           "West African Slender-snouted Crocodile",
           "Juvenile"
          ],
          [
           "West African Dwarf Crocodile",
           "Juvenile"
          ],
          [
           "Morelet's Crocodile",
           "Adult"
          ],
          [
           "West African Slender-snouted Crocodile",
           "Adult"
          ],
          [
           "Mugger Crocodile (Marsh Crocodile)",
           "Subadult"
          ],
          [
           "West African Slender-snouted Crocodile",
           "Adult"
          ],
          [
           "Borneo Crocodile (disputed)",
           "Adult"
          ],
          [
           "Saltwater Crocodile",
           "Subadult"
          ],
          [
           "West African Dwarf Crocodile",
           "Subadult"
          ],
          [
           "Orinoco Crocodile",
           "Adult"
          ],
          [
           "Central African Slender-snouted Crocodile",
           "Subadult"
          ],
          [
           "Cuban Crocodile",
           "Adult"
          ],
          [
           "Orinoco Crocodile",
           "Adult"
          ],
          [
           "West African Slender-snouted Crocodile",
           "Juvenile"
          ],
          [
           "Central African Slender-snouted Crocodile",
           "Adult"
          ],
          [
           "American Crocodile",
           "Adult"
          ],
          [
           "Freshwater Crocodile (Johnstone's)",
           "Juvenile"
          ],
          [
           "Hall's New Guinea Crocodile",
           "Juvenile"
          ],
          [
           "West African Crocodile",
           "Subadult"
          ],
          [
           "Philippine Crocodile",
           "Adult"
          ],
          [
           "Congo Dwarf Crocodile",
           "Juvenile"
          ],
          [
           "New Guinea Crocodile",
           "Adult"
          ],
          [
           "Mugger Crocodile (Marsh Crocodile)",
           "Juvenile"
          ],
          [
           "Borneo Crocodile (disputed)",
           "Adult"
          ],
          [
           "West African Crocodile",
           "Juvenile"
          ],
          [
           "Hall's New Guinea Crocodile",
           "Adult"
          ],
          [
           "Nile Crocodile",
           "Subadult"
          ],
          [
           "West African Slender-snouted Crocodile",
           "Adult"
          ],
          [
           "West African Slender-snouted Crocodile",
           "Adult"
          ],
          [
           "West African Slender-snouted Crocodile",
           "Adult"
          ]
         ],
         "hovertemplate": "sex=Male<br>observed_length_m=%{x}<br>observed_weight_kg=%{y}<br>common_name=%{customdata[0]}<br>age_class=%{customdata[1]}<extra></extra>",
         "legendgroup": "Male",
         "marker": {
          "color": "#636efa",
          "symbol": "circle"
         },
         "mode": "markers",
         "name": "Male",
         "orientation": "v",
         "showlegend": true,
         "type": "scatter",
         "x": [
          1.9,
          4.09,
          2.42,
          2.64,
          2.85,
          3.05,
          3.39,
          1.22,
          1.84,
          3.65,
          1.55,
          4.65,
          1.77,
          2.44,
          3.18,
          3.94,
          2.26,
          2.5,
          2.52,
          2.43,
          0.96,
          2.26,
          5.43,
          3.78,
          2.56,
          1.85,
          4.9,
          2.54,
          3.02,
          1.6,
          1.25,
          1.96,
          1.21,
          2.4,
          2.71,
          2.28,
          3.07,
          2.46,
          2.9,
          5.22,
          2.69,
          2.26,
          3.04,
          2.05,
          4.55,
          1.57,
          2.52,
          3.11,
          3.41,
          1.47,
          3.13,
          3.04,
          6.02,
          2.64,
          1.04,
          2.75,
          0.87,
          1.13,
          2.74,
          1,
          2.15,
          0.99,
          3.88,
          3.58,
          1.55,
          2.25,
          1.83,
          5.91,
          3.09,
          2.61,
          2.44,
          0.93,
          1.64,
          2.03,
          2.4,
          2.78,
          1.4,
          1.79,
          2.87,
          0.82,
          2.07,
          1.01,
          1.88,
          2.07,
          1.52,
          2.8,
          1.24,
          2.89,
          0.38,
          2.86,
          2.1,
          0.58,
          4,
          1.05,
          1.78,
          2.33,
          2.02,
          1.18,
          1.36,
          4.96,
          3.15,
          1.64,
          2.79,
          2.18,
          2.06,
          2.92,
          1.51,
          0.79,
          1.67,
          2.97,
          0.72,
          2.23,
          1.86,
          1.57,
          0.87,
          2.59,
          2.1,
          2.04,
          0.24,
          0.88,
          0.65,
          0.15,
          4.78,
          2.04,
          2.04,
          2.22,
          0.43,
          0.84,
          3.14,
          2.6,
          6.12,
          0.9,
          0.79,
          2.42,
          2.41,
          3.07,
          1.78,
          2.99,
          0.48,
          5.1,
          2.88,
          1.23,
          2.51,
          1.1,
          2.57,
          3.36,
          2.34,
          2.26,
          2.48,
          2.09,
          2.66,
          1.94,
          2.62,
          3.75,
          1.33,
          2.16,
          2.81,
          1.56,
          3.01,
          2.68,
          1.45,
          0.88,
          5.31,
          2.86,
          1.61,
          2.63,
          1.98,
          2.74,
          1.82,
          4.22,
          3.22,
          2.67,
          2.24,
          1.74,
          0.57,
          3.94,
          3.69,
          2.67,
          2.54,
          3.61,
          2.97,
          3.18,
          2.89,
          2.71,
          3.96,
          2.41,
          2.41,
          0.97,
          2.17,
          1.6,
          2.72,
          2.78,
          1.54,
          1.35,
          2.03,
          5.4,
          0.47,
          1.4,
          1.81,
          3.13,
          2.81,
          3.11,
          1.09,
          0.49,
          4.37,
          1.25,
          3.57,
          0.97,
          1.67,
          1.68,
          4.69,
          3.39,
          2.08,
          0.91,
          2.13,
          2.88,
          1.18,
          2.42,
          2.42,
          1.97,
          2.68,
          0.23,
          0.71,
          2.06,
          3.25,
          3.38,
          2.56,
          5.05,
          2.39,
          2.58,
          1.29,
          4.76,
          2.24,
          2.46,
          2.36,
          1.3,
          2.64,
          2.47,
          0.81,
          2.67,
          2.72,
          3.49,
          1.7,
          1.6,
          3.79,
          1.53,
          3.09,
          4.03,
          2.5,
          2.76,
          2.44,
          3.01,
          0.65,
          3.29,
          2.43,
          1.45,
          2.56,
          3.62,
          3.9,
          0.8,
          2.18,
          1.04,
          1.06,
          3,
          1.52,
          2.94,
          3.35,
          2.71,
          1.41,
          4.76,
          0.38,
          1.34,
          1.81,
          2.56,
          3.48,
          1.14,
          1.51,
          3.22,
          2.02,
          2.38,
          2.52,
          2.95,
          3.02,
          4.48,
          2.25,
          4.81,
          2.8,
          2.48,
          2.48,
          1.1,
          4.23,
          2.06,
          2.74,
          2.54,
          4.84,
          1.89,
          0.8,
          2.6,
          2.53,
          2.97,
          2.79,
          2.46,
          4.01,
          1.01,
          2.75,
          2.51,
          2.28,
          4.5,
          1.93,
          2.65,
          3.25,
          1.32,
          1.99,
          2.76,
          2.04,
          0.6,
          2.5,
          2.54,
          3.91,
          0.92,
          2.74,
          3.13,
          2.26,
          2.34,
          2.82
         ],
         "xaxis": "x",
         "y": [
          62,
          334.5,
          90.4,
          137.4,
          157.7,
          201.2,
          197.2,
          15.8,
          60.7,
          217.7,
          350.9,
          759.8,
          36,
          107.9,
          342.1,
          367.9,
          84.2,
          90.6,
          104.1,
          96.9,
          31.8,
          91.6,
          818.2,
          383.2,
          106.5,
          67.3,
          629.7,
          103.3,
          180.7,
          47,
          36.3,
          133.2,
          54.8,
          91.7,
          125.3,
          104.8,
          199.3,
          100.2,
          158.4,
          809,
          100.3,
          86.1,
          190,
          82.8,
          621.4,
          27.1,
          107,
          179.1,
          220.3,
          21.3,
          362.6,
          171.9,
          1032.7,
          149.5,
          13.6,
          114.5,
          36.9,
          101.7,
          133.6,
          10,
          70.3,
          11.7,
          266.2,
          522.8,
          54.2,
          104.2,
          54.7,
          906.6,
          169.1,
          134.2,
          113.3,
          8.4,
          42.3,
          73.2,
          111.4,
          100.4,
          22.8,
          66.7,
          128,
          93.9,
          93.2,
          84.2,
          57.7,
          84.4,
          52.5,
          165.3,
          13.5,
          169.2,
          22,
          107.4,
          59.1,
          75.8,
          438.8,
          11.9,
          96.7,
          69.2,
          71.7,
          15.7,
          20.2,
          637.2,
          187.8,
          25,
          101.5,
          76.2,
          75.7,
          150.7,
          43.1,
          33.9,
          48.8,
          181.1,
          33.5,
          83.7,
          50.8,
          40.7,
          30.9,
          90.2,
          87.2,
          168.7,
          32.3,
          20.5,
          97.9,
          5.4,
          696,
          59.3,
          65.8,
          95,
          28.5,
          9.9,
          196.7,
          106.1,
          1139.7,
          37.1,
          48.4,
          76,
          75,
          158.5,
          55.6,
          134.5,
          35.1,
          698.8,
          197.6,
          63.7,
          121.9,
          32.6,
          101.4,
          196.1,
          76.8,
          82,
          101.4,
          89.4,
          96.8,
          65.4,
          117.5,
          239,
          19.7,
          65.1,
          97.2,
          32.2,
          141,
          141.8,
          23.7,
          26.6,
          998.3,
          144.4,
          39.8,
          194.4,
          81.8,
          124,
          56.7,
          441.8,
          149.7,
          133.4,
          99.8,
          52.7,
          33.6,
          324.6,
          379.4,
          143.2,
          84.7,
          399.7,
          179.8,
          153.5,
          150.2,
          124.4,
          385.8,
          93.5,
          106.9,
          10.4,
          81.4,
          28.3,
          96.3,
          154.3,
          27.4,
          20.1,
          68.5,
          765.7,
          34.5,
          24.2,
          45.5,
          196.2,
          146.9,
          134.8,
          11,
          32.2,
          601.3,
          102.9,
          217.9,
          11.3,
          49.8,
          36.8,
          738.4,
          381.1,
          134.5,
          29.3,
          60.4,
          141.9,
          40.5,
          111.8,
          107.5,
          77.9,
          202.8,
          4.4,
          30.5,
          74.5,
          174,
          161.3,
          130.6,
          624.1,
          94.9,
          115.4,
          14.1,
          638.5,
          97,
          198.5,
          69.6,
          42.3,
          131,
          99.3,
          24.1,
          125.1,
          103.5,
          192,
          51.7,
          56.3,
          259.1,
          47.6,
          146.1,
          292.8,
          106.7,
          167.6,
          121.4,
          179.1,
          34.5,
          200.2,
          95.5,
          19,
          101.3,
          280,
          413.2,
          102.1,
          71.2,
          9.5,
          10.4,
          190.5,
          43.4,
          164,
          197.9,
          87.4,
          23.6,
          660.4,
          28.4,
          20.1,
          61.7,
          87,
          220.9,
          11.1,
          84.7,
          187.6,
          162.7,
          100.9,
          123.3,
          216.9,
          283.5,
          604.8,
          79.1,
          636.5,
          157.6,
          122.3,
          108.1,
          37.7,
          524.7,
          49.3,
          107.4,
          78.2,
          639.9,
          77,
          7.7,
          105.9,
          120.8,
          174.6,
          138.1,
          96.9,
          509.2,
          11.3,
          204.8,
          111.5,
          83.1,
          581,
          76,
          146.7,
          204.5,
          27.3,
          52.1,
          121.2,
          69,
          6.8,
          80.4,
          113.2,
          272.3,
          37.6,
          121.5,
          285.8,
          88.5,
          93.5,
          147.6
         ],
         "yaxis": "y"
        },
        {
         "customdata": [
          [
           "Orinoco Crocodile",
           "Juvenile"
          ],
          [
           "Mugger Crocodile (Marsh Crocodile)",
           "Adult"
          ],
          [
           "Congo Dwarf Crocodile",
           "Juvenile"
          ],
          [
           "Siamese Crocodile",
           "Subadult"
          ],
          [
           "Morelet's Crocodile",
           "Adult"
          ],
          [
           "Morelet's Crocodile",
           "Juvenile"
          ],
          [
           "Borneo Crocodile (disputed)",
           "Juvenile"
          ],
          [
           "Borneo Crocodile (disputed)",
           "Subadult"
          ],
          [
           "Cuban Crocodile",
           "Hatchling"
          ],
          [
           "Siamese Crocodile",
           "Adult"
          ],
          [
           "Siamese Crocodile",
           "Adult"
          ],
          [
           "Philippine Crocodile",
           "Juvenile"
          ],
          [
           "New Guinea Crocodile",
           "Juvenile"
          ],
          [
           "West African Slender-snouted Crocodile",
           "Adult"
          ],
          [
           "Mugger Crocodile (Marsh Crocodile)",
           "Adult"
          ],
          [
           "Siamese Crocodile",
           "Hatchling"
          ],
          [
           "Morelet's Crocodile",
           "Adult"
          ],
          [
           "American Crocodile",
           "Adult"
          ],
          [
           "West African Slender-snouted Crocodile",
           "Adult"
          ],
          [
           "Saltwater Crocodile",
           "Adult"
          ],
          [
           "Borneo Crocodile (disputed)",
           "Juvenile"
          ],
          [
           "New Guinea Crocodile",
           "Adult"
          ],
          [
           "Siamese Crocodile",
           "Adult"
          ],
          [
           "American Crocodile",
           "Adult"
          ],
          [
           "Central African Slender-snouted Crocodile",
           "Juvenile"
          ],
          [
           "Cuban Crocodile",
           "Adult"
          ],
          [
           "West African Crocodile",
           "Adult"
          ],
          [
           "Central African Slender-snouted Crocodile",
           "Juvenile"
          ],
          [
           "West African Dwarf Crocodile",
           "Adult"
          ],
          [
           "Mugger Crocodile (Marsh Crocodile)",
           "Subadult"
          ],
          [
           "American Crocodile",
           "Adult"
          ],
          [
           "Hall's New Guinea Crocodile",
           "Subadult"
          ],
          [
           "Morelet's Crocodile",
           "Subadult"
          ],
          [
           "Nile Crocodile",
           "Subadult"
          ],
          [
           "American Crocodile",
           "Adult"
          ],
          [
           "New Guinea Crocodile",
           "Subadult"
          ],
          [
           "Saltwater Crocodile",
           "Adult"
          ],
          [
           "Philippine Crocodile",
           "Adult"
          ],
          [
           "Cuban Crocodile",
           "Adult"
          ],
          [
           "Hall's New Guinea Crocodile",
           "Adult"
          ],
          [
           "Nile Crocodile",
           "Juvenile"
          ],
          [
           "Freshwater Crocodile (Johnstone's)",
           "Juvenile"
          ],
          [
           "Freshwater Crocodile (Johnstone's)",
           "Juvenile"
          ],
          [
           "Saltwater Crocodile",
           "Adult"
          ],
          [
           "Hall's New Guinea Crocodile",
           "Adult"
          ],
          [
           "Orinoco Crocodile",
           "Subadult"
          ],
          [
           "American Crocodile",
           "Adult"
          ],
          [
           "West African Crocodile",
           "Juvenile"
          ],
          [
           "New Guinea Crocodile",
           "Adult"
          ],
          [
           "Hall's New Guinea Crocodile",
           "Adult"
          ],
          [
           "Saltwater Crocodile",
           "Juvenile"
          ],
          [
           "New Guinea Crocodile",
           "Subadult"
          ],
          [
           "Central African Slender-snouted Crocodile",
           "Subadult"
          ],
          [
           "Philippine Crocodile",
           "Subadult"
          ],
          [
           "Central African Slender-snouted Crocodile",
           "Adult"
          ],
          [
           "Siamese Crocodile",
           "Subadult"
          ],
          [
           "West African Dwarf Crocodile",
           "Adult"
          ],
          [
           "New Guinea Crocodile",
           "Juvenile"
          ],
          [
           "Morelet's Crocodile",
           "Hatchling"
          ],
          [
           "New Guinea Crocodile",
           "Subadult"
          ],
          [
           "Morelet's Crocodile",
           "Subadult"
          ],
          [
           "West African Dwarf Crocodile",
           "Subadult"
          ],
          [
           "Borneo Crocodile (disputed)",
           "Adult"
          ],
          [
           "West African Slender-snouted Crocodile",
           "Adult"
          ],
          [
           "Saltwater Crocodile",
           "Adult"
          ],
          [
           "West African Dwarf Crocodile",
           "Subadult"
          ],
          [
           "Saltwater Crocodile",
           "Adult"
          ],
          [
           "American Crocodile",
           "Subadult"
          ],
          [
           "Freshwater Crocodile (Johnstone's)",
           "Adult"
          ],
          [
           "Morelet's Crocodile",
           "Subadult"
          ],
          [
           "Mugger Crocodile (Marsh Crocodile)",
           "Adult"
          ],
          [
           "Morelet's Crocodile",
           "Adult"
          ],
          [
           "Cuban Crocodile",
           "Subadult"
          ],
          [
           "New Guinea Crocodile",
           "Subadult"
          ],
          [
           "Siamese Crocodile",
           "Adult"
          ],
          [
           "Nile Crocodile",
           "Adult"
          ],
          [
           "Cuban Crocodile",
           "Subadult"
          ],
          [
           "Congo Dwarf Crocodile",
           "Adult"
          ],
          [
           "West African Slender-snouted Crocodile",
           "Subadult"
          ],
          [
           "Hall's New Guinea Crocodile",
           "Subadult"
          ],
          [
           "Orinoco Crocodile",
           "Adult"
          ],
          [
           "Nile Crocodile",
           "Subadult"
          ],
          [
           "Freshwater Crocodile (Johnstone's)",
           "Subadult"
          ],
          [
           "Borneo Crocodile (disputed)",
           "Adult"
          ],
          [
           "Morelet's Crocodile",
           "Adult"
          ],
          [
           "West African Crocodile",
           "Subadult"
          ],
          [
           "Congo Dwarf Crocodile",
           "Adult"
          ],
          [
           "Freshwater Crocodile (Johnstone's)",
           "Adult"
          ],
          [
           "Orinoco Crocodile",
           "Juvenile"
          ],
          [
           "Congo Dwarf Crocodile",
           "Adult"
          ],
          [
           "Saltwater Crocodile",
           "Juvenile"
          ],
          [
           "West African Dwarf Crocodile",
           "Adult"
          ],
          [
           "American Crocodile",
           "Adult"
          ],
          [
           "Mugger Crocodile (Marsh Crocodile)",
           "Adult"
          ],
          [
           "Borneo Crocodile (disputed)",
           "Subadult"
          ],
          [
           "Orinoco Crocodile",
           "Adult"
          ],
          [
           "Philippine Crocodile",
           "Adult"
          ],
          [
           "Nile Crocodile",
           "Juvenile"
          ],
          [
           "Nile Crocodile",
           "Adult"
          ],
          [
           "Morelet's Crocodile",
           "Adult"
          ],
          [
           "Central African Slender-snouted Crocodile",
           "Adult"
          ],
          [
           "West African Dwarf Crocodile",
           "Subadult"
          ],
          [
           "Orinoco Crocodile",
           "Subadult"
          ],
          [
           "Congo Dwarf Crocodile",
           "Subadult"
          ],
          [
           "Siamese Crocodile",
           "Adult"
          ],
          [
           "New Guinea Crocodile",
           "Subadult"
          ],
          [
           "New Guinea Crocodile",
           "Adult"
          ],
          [
           "Congo Dwarf Crocodile",
           "Adult"
          ],
          [
           "Central African Slender-snouted Crocodile",
           "Adult"
          ],
          [
           "Congo Dwarf Crocodile",
           "Subadult"
          ],
          [
           "Nile Crocodile",
           "Juvenile"
          ],
          [
           "West African Crocodile",
           "Adult"
          ],
          [
           "Congo Dwarf Crocodile",
           "Adult"
          ],
          [
           "Saltwater Crocodile",
           "Adult"
          ],
          [
           "Cuban Crocodile",
           "Adult"
          ],
          [
           "Congo Dwarf Crocodile",
           "Adult"
          ],
          [
           "New Guinea Crocodile",
           "Adult"
          ],
          [
           "Cuban Crocodile",
           "Juvenile"
          ],
          [
           "Saltwater Crocodile",
           "Adult"
          ],
          [
           "West African Slender-snouted Crocodile",
           "Adult"
          ],
          [
           "Orinoco Crocodile",
           "Juvenile"
          ],
          [
           "New Guinea Crocodile",
           "Adult"
          ],
          [
           "Philippine Crocodile",
           "Subadult"
          ],
          [
           "Mugger Crocodile (Marsh Crocodile)",
           "Subadult"
          ],
          [
           "Orinoco Crocodile",
           "Subadult"
          ],
          [
           "Hall's New Guinea Crocodile",
           "Adult"
          ],
          [
           "New Guinea Crocodile",
           "Adult"
          ],
          [
           "Cuban Crocodile",
           "Juvenile"
          ],
          [
           "Siamese Crocodile",
           "Adult"
          ],
          [
           "West African Slender-snouted Crocodile",
           "Adult"
          ],
          [
           "Orinoco Crocodile",
           "Adult"
          ],
          [
           "Mugger Crocodile (Marsh Crocodile)",
           "Subadult"
          ],
          [
           "Morelet's Crocodile",
           "Subadult"
          ],
          [
           "Cuban Crocodile",
           "Adult"
          ],
          [
           "American Crocodile",
           "Juvenile"
          ],
          [
           "West African Slender-snouted Crocodile",
           "Adult"
          ],
          [
           "New Guinea Crocodile",
           "Juvenile"
          ],
          [
           "West African Slender-snouted Crocodile",
           "Adult"
          ],
          [
           "Saltwater Crocodile",
           "Subadult"
          ],
          [
           "Hall's New Guinea Crocodile",
           "Subadult"
          ],
          [
           "West African Slender-snouted Crocodile",
           "Juvenile"
          ],
          [
           "Mugger Crocodile (Marsh Crocodile)",
           "Adult"
          ],
          [
           "Freshwater Crocodile (Johnstone's)",
           "Juvenile"
          ],
          [
           "Morelet's Crocodile",
           "Adult"
          ],
          [
           "Freshwater Crocodile (Johnstone's)",
           "Subadult"
          ],
          [
           "Mugger Crocodile (Marsh Crocodile)",
           "Hatchling"
          ],
          [
           "New Guinea Crocodile",
           "Adult"
          ],
          [
           "Borneo Crocodile (disputed)",
           "Juvenile"
          ],
          [
           "Congo Dwarf Crocodile",
           "Adult"
          ],
          [
           "Saltwater Crocodile",
           "Hatchling"
          ],
          [
           "New Guinea Crocodile",
           "Adult"
          ],
          [
           "West African Dwarf Crocodile",
           "Juvenile"
          ],
          [
           "Cuban Crocodile",
           "Subadult"
          ],
          [
           "New Guinea Crocodile",
           "Subadult"
          ],
          [
           "American Crocodile",
           "Adult"
          ],
          [
           "Borneo Crocodile (disputed)",
           "Adult"
          ],
          [
           "Cuban Crocodile",
           "Subadult"
          ],
          [
           "American Crocodile",
           "Adult"
          ],
          [
           "West African Dwarf Crocodile",
           "Subadult"
          ],
          [
           "West African Slender-snouted Crocodile",
           "Adult"
          ],
          [
           "Freshwater Crocodile (Johnstone's)",
           "Adult"
          ],
          [
           "American Crocodile",
           "Adult"
          ],
          [
           "Central African Slender-snouted Crocodile",
           "Adult"
          ],
          [
           "American Crocodile",
           "Juvenile"
          ],
          [
           "Saltwater Crocodile",
           "Adult"
          ],
          [
           "Saltwater Crocodile",
           "Subadult"
          ],
          [
           "Hall's New Guinea Crocodile",
           "Adult"
          ],
          [
           "Hall's New Guinea Crocodile",
           "Juvenile"
          ],
          [
           "Cuban Crocodile",
           "Adult"
          ],
          [
           "Orinoco Crocodile",
           "Adult"
          ],
          [
           "Central African Slender-snouted Crocodile",
           "Juvenile"
          ],
          [
           "Nile Crocodile",
           "Subadult"
          ],
          [
           "Freshwater Crocodile (Johnstone's)",
           "Juvenile"
          ],
          [
           "Borneo Crocodile (disputed)",
           "Adult"
          ],
          [
           "Cuban Crocodile",
           "Adult"
          ],
          [
           "American Crocodile",
           "Juvenile"
          ],
          [
           "Congo Dwarf Crocodile",
           "Subadult"
          ],
          [
           "Borneo Crocodile (disputed)",
           "Juvenile"
          ],
          [
           "Borneo Crocodile (disputed)",
           "Adult"
          ],
          [
           "New Guinea Crocodile",
           "Adult"
          ],
          [
           "Freshwater Crocodile (Johnstone's)",
           "Adult"
          ],
          [
           "American Crocodile",
           "Hatchling"
          ],
          [
           "West African Crocodile",
           "Adult"
          ],
          [
           "Cuban Crocodile",
           "Subadult"
          ],
          [
           "West African Crocodile",
           "Subadult"
          ],
          [
           "Hall's New Guinea Crocodile",
           "Adult"
          ],
          [
           "Saltwater Crocodile",
           "Adult"
          ],
          [
           "Congo Dwarf Crocodile",
           "Subadult"
          ],
          [
           "Morelet's Crocodile",
           "Subadult"
          ],
          [
           "Hall's New Guinea Crocodile",
           "Juvenile"
          ],
          [
           "Borneo Crocodile (disputed)",
           "Subadult"
          ],
          [
           "Borneo Crocodile (disputed)",
           "Juvenile"
          ],
          [
           "Saltwater Crocodile",
           "Adult"
          ],
          [
           "Borneo Crocodile (disputed)",
           "Adult"
          ],
          [
           "Freshwater Crocodile (Johnstone's)",
           "Subadult"
          ],
          [
           "Mugger Crocodile (Marsh Crocodile)",
           "Adult"
          ],
          [
           "Cuban Crocodile",
           "Adult"
          ],
          [
           "Congo Dwarf Crocodile",
           "Juvenile"
          ],
          [
           "Nile Crocodile",
           "Adult"
          ],
          [
           "Siamese Crocodile",
           "Juvenile"
          ],
          [
           "American Crocodile",
           "Subadult"
          ],
          [
           "Central African Slender-snouted Crocodile",
           "Adult"
          ],
          [
           "Morelet's Crocodile",
           "Subadult"
          ],
          [
           "New Guinea Crocodile",
           "Juvenile"
          ],
          [
           "Philippine Crocodile",
           "Subadult"
          ],
          [
           "Orinoco Crocodile",
           "Subadult"
          ],
          [
           "Cuban Crocodile",
           "Hatchling"
          ],
          [
           "Saltwater Crocodile",
           "Subadult"
          ],
          [
           "West African Crocodile",
           "Subadult"
          ],
          [
           "Philippine Crocodile",
           "Juvenile"
          ],
          [
           "Philippine Crocodile",
           "Subadult"
          ],
          [
           "Borneo Crocodile (disputed)",
           "Adult"
          ],
          [
           "New Guinea Crocodile",
           "Subadult"
          ],
          [
           "Borneo Crocodile (disputed)",
           "Adult"
          ],
          [
           "Mugger Crocodile (Marsh Crocodile)",
           "Adult"
          ],
          [
           "Philippine Crocodile",
           "Adult"
          ],
          [
           "American Crocodile",
           "Subadult"
          ],
          [
           "Philippine Crocodile",
           "Adult"
          ],
          [
           "Philippine Crocodile",
           "Subadult"
          ],
          [
           "American Crocodile",
           "Subadult"
          ],
          [
           "Borneo Crocodile (disputed)",
           "Adult"
          ],
          [
           "Cuban Crocodile",
           "Juvenile"
          ],
          [
           "New Guinea Crocodile",
           "Subadult"
          ],
          [
           "Central African Slender-snouted Crocodile",
           "Adult"
          ],
          [
           "Morelet's Crocodile",
           "Subadult"
          ],
          [
           "Mugger Crocodile (Marsh Crocodile)",
           "Adult"
          ],
          [
           "Freshwater Crocodile (Johnstone's)",
           "Juvenile"
          ],
          [
           "West African Crocodile",
           "Juvenile"
          ],
          [
           "Congo Dwarf Crocodile",
           "Adult"
          ],
          [
           "Morelet's Crocodile",
           "Hatchling"
          ],
          [
           "West African Slender-snouted Crocodile",
           "Adult"
          ],
          [
           "Mugger Crocodile (Marsh Crocodile)",
           "Subadult"
          ],
          [
           "West African Crocodile",
           "Juvenile"
          ],
          [
           "Orinoco Crocodile",
           "Adult"
          ],
          [
           "Nile Crocodile",
           "Adult"
          ],
          [
           "Nile Crocodile",
           "Adult"
          ],
          [
           "Orinoco Crocodile",
           "Adult"
          ],
          [
           "Siamese Crocodile",
           "Adult"
          ],
          [
           "Hall's New Guinea Crocodile",
           "Subadult"
          ],
          [
           "Saltwater Crocodile",
           "Adult"
          ],
          [
           "Central African Slender-snouted Crocodile",
           "Adult"
          ],
          [
           "Morelet's Crocodile",
           "Juvenile"
          ],
          [
           "Morelet's Crocodile",
           "Hatchling"
          ],
          [
           "Hall's New Guinea Crocodile",
           "Adult"
          ],
          [
           "West African Dwarf Crocodile",
           "Juvenile"
          ],
          [
           "West African Dwarf Crocodile",
           "Juvenile"
          ],
          [
           "Borneo Crocodile (disputed)",
           "Hatchling"
          ],
          [
           "Morelet's Crocodile",
           "Subadult"
          ],
          [
           "Borneo Crocodile (disputed)",
           "Juvenile"
          ],
          [
           "Nile Crocodile",
           "Adult"
          ],
          [
           "American Crocodile",
           "Juvenile"
          ],
          [
           "Philippine Crocodile",
           "Adult"
          ],
          [
           "Philippine Crocodile",
           "Juvenile"
          ],
          [
           "Morelet's Crocodile",
           "Adult"
          ],
          [
           "Borneo Crocodile (disputed)",
           "Subadult"
          ],
          [
           "American Crocodile",
           "Adult"
          ],
          [
           "Mugger Crocodile (Marsh Crocodile)",
           "Subadult"
          ],
          [
           "Mugger Crocodile (Marsh Crocodile)",
           "Juvenile"
          ],
          [
           "Morelet's Crocodile",
           "Subadult"
          ],
          [
           "Cuban Crocodile",
           "Adult"
          ],
          [
           "Mugger Crocodile (Marsh Crocodile)",
           "Juvenile"
          ],
          [
           "Siamese Crocodile",
           "Subadult"
          ],
          [
           "Philippine Crocodile",
           "Adult"
          ],
          [
           "Mugger Crocodile (Marsh Crocodile)",
           "Adult"
          ],
          [
           "Saltwater Crocodile",
           "Juvenile"
          ],
          [
           "Siamese Crocodile",
           "Hatchling"
          ],
          [
           "Morelet's Crocodile",
           "Adult"
          ],
          [
           "West African Dwarf Crocodile",
           "Adult"
          ],
          [
           "West African Crocodile",
           "Subadult"
          ],
          [
           "Saltwater Crocodile",
           "Adult"
          ],
          [
           "American Crocodile",
           "Adult"
          ],
          [
           "West African Crocodile",
           "Subadult"
          ],
          [
           "Borneo Crocodile (disputed)",
           "Juvenile"
          ],
          [
           "Siamese Crocodile",
           "Adult"
          ],
          [
           "Congo Dwarf Crocodile",
           "Adult"
          ],
          [
           "Borneo Crocodile (disputed)",
           "Subadult"
          ],
          [
           "Philippine Crocodile",
           "Subadult"
          ],
          [
           "Congo Dwarf Crocodile",
           "Subadult"
          ],
          [
           "Congo Dwarf Crocodile",
           "Juvenile"
          ],
          [
           "Cuban Crocodile",
           "Hatchling"
          ],
          [
           "Siamese Crocodile",
           "Adult"
          ],
          [
           "Hall's New Guinea Crocodile",
           "Adult"
          ],
          [
           "Congo Dwarf Crocodile",
           "Subadult"
          ],
          [
           "Morelet's Crocodile",
           "Subadult"
          ],
          [
           "New Guinea Crocodile",
           "Juvenile"
          ],
          [
           "American Crocodile",
           "Adult"
          ],
          [
           "West African Slender-snouted Crocodile",
           "Adult"
          ],
          [
           "Borneo Crocodile (disputed)",
           "Adult"
          ],
          [
           "Congo Dwarf Crocodile",
           "Hatchling"
          ],
          [
           "Cuban Crocodile",
           "Adult"
          ],
          [
           "Borneo Crocodile (disputed)",
           "Adult"
          ],
          [
           "Philippine Crocodile",
           "Adult"
          ],
          [
           "Nile Crocodile",
           "Adult"
          ],
          [
           "Philippine Crocodile",
           "Juvenile"
          ],
          [
           "Hall's New Guinea Crocodile",
           "Juvenile"
          ],
          [
           "Nile Crocodile",
           "Adult"
          ],
          [
           "American Crocodile",
           "Adult"
          ],
          [
           "Philippine Crocodile",
           "Subadult"
          ],
          [
           "New Guinea Crocodile",
           "Adult"
          ],
          [
           "West African Dwarf Crocodile",
           "Subadult"
          ],
          [
           "Central African Slender-snouted Crocodile",
           "Subadult"
          ],
          [
           "Orinoco Crocodile",
           "Adult"
          ],
          [
           "Philippine Crocodile",
           "Subadult"
          ],
          [
           "Central African Slender-snouted Crocodile",
           "Subadult"
          ],
          [
           "Borneo Crocodile (disputed)",
           "Adult"
          ],
          [
           "West African Slender-snouted Crocodile",
           "Adult"
          ],
          [
           "Cuban Crocodile",
           "Subadult"
          ],
          [
           "Hall's New Guinea Crocodile",
           "Adult"
          ],
          [
           "American Crocodile",
           "Subadult"
          ],
          [
           "Siamese Crocodile",
           "Hatchling"
          ],
          [
           "New Guinea Crocodile",
           "Adult"
          ],
          [
           "Orinoco Crocodile",
           "Adult"
          ],
          [
           "Hall's New Guinea Crocodile",
           "Adult"
          ],
          [
           "Hall's New Guinea Crocodile",
           "Adult"
          ],
          [
           "West African Slender-snouted Crocodile",
           "Hatchling"
          ],
          [
           "Borneo Crocodile (disputed)",
           "Adult"
          ],
          [
           "Orinoco Crocodile",
           "Adult"
          ],
          [
           "Hall's New Guinea Crocodile",
           "Juvenile"
          ],
          [
           "Borneo Crocodile (disputed)",
           "Juvenile"
          ],
          [
           "Saltwater Crocodile",
           "Adult"
          ],
          [
           "Orinoco Crocodile",
           "Adult"
          ],
          [
           "Central African Slender-snouted Crocodile",
           "Adult"
          ],
          [
           "Saltwater Crocodile",
           "Adult"
          ],
          [
           "Central African Slender-snouted Crocodile",
           "Subadult"
          ],
          [
           "Morelet's Crocodile",
           "Subadult"
          ],
          [
           "Morelet's Crocodile",
           "Adult"
          ],
          [
           "West African Slender-snouted Crocodile",
           "Subadult"
          ],
          [
           "Borneo Crocodile (disputed)",
           "Subadult"
          ],
          [
           "American Crocodile",
           "Adult"
          ],
          [
           "New Guinea Crocodile",
           "Adult"
          ],
          [
           "Philippine Crocodile",
           "Adult"
          ],
          [
           "Cuban Crocodile",
           "Adult"
          ],
          [
           "West African Crocodile",
           "Adult"
          ],
          [
           "Nile Crocodile",
           "Adult"
          ],
          [
           "Congo Dwarf Crocodile",
           "Subadult"
          ],
          [
           "West African Slender-snouted Crocodile",
           "Adult"
          ],
          [
           "Mugger Crocodile (Marsh Crocodile)",
           "Hatchling"
          ],
          [
           "Central African Slender-snouted Crocodile",
           "Adult"
          ],
          [
           "American Crocodile",
           "Adult"
          ],
          [
           "Borneo Crocodile (disputed)",
           "Adult"
          ],
          [
           "Hall's New Guinea Crocodile",
           "Juvenile"
          ],
          [
           "Morelet's Crocodile",
           "Adult"
          ],
          [
           "Nile Crocodile",
           "Subadult"
          ],
          [
           "West African Slender-snouted Crocodile",
           "Juvenile"
          ],
          [
           "Orinoco Crocodile",
           "Adult"
          ],
          [
           "Borneo Crocodile (disputed)",
           "Adult"
          ],
          [
           "West African Slender-snouted Crocodile",
           "Subadult"
          ],
          [
           "Nile Crocodile",
           "Juvenile"
          ],
          [
           "Borneo Crocodile (disputed)",
           "Adult"
          ],
          [
           "Orinoco Crocodile",
           "Juvenile"
          ],
          [
           "Morelet's Crocodile",
           "Subadult"
          ],
          [
           "Morelet's Crocodile",
           "Adult"
          ],
          [
           "Central African Slender-snouted Crocodile",
           "Hatchling"
          ],
          [
           "Hall's New Guinea Crocodile",
           "Juvenile"
          ]
         ],
         "hovertemplate": "sex=Unknown<br>observed_length_m=%{x}<br>observed_weight_kg=%{y}<br>common_name=%{customdata[0]}<br>age_class=%{customdata[1]}<extra></extra>",
         "legendgroup": "Unknown",
         "marker": {
          "color": "#EF553B",
          "symbol": "circle"
         },
         "mode": "markers",
         "name": "Unknown",
         "orientation": "v",
         "showlegend": true,
         "type": "scatter",
         "x": [
          1.08,
          3.75,
          0.35,
          2.63,
          2,
          1.98,
          1.07,
          2.52,
          0.34,
          3.22,
          2.04,
          1.01,
          0.76,
          2.96,
          3.25,
          0.29,
          2.33,
          3.04,
          2.96,
          5.83,
          2.05,
          3.04,
          2.56,
          3.66,
          1.2,
          2.63,
          2.13,
          0.79,
          1.23,
          2.82,
          2.76,
          2.45,
          2.51,
          3.32,
          3.88,
          2.21,
          4.86,
          2.27,
          2.93,
          2.26,
          1.77,
          1.59,
          1.77,
          4.68,
          3.32,
          2.87,
          3.32,
          1.55,
          2.26,
          2.81,
          3.05,
          2.82,
          2.5,
          1.94,
          2.36,
          2.45,
          1.53,
          0.88,
          0.16,
          2.21,
          2.22,
          0.96,
          3.1,
          2.75,
          5.48,
          1.13,
          4.21,
          3.75,
          2.85,
          2.79,
          2.98,
          2.18,
          2.13,
          2.36,
          2.89,
          4.62,
          2.96,
          1.51,
          2.23,
          2.76,
          3.88,
          3.14,
          1.94,
          2.94,
          1.9,
          1.99,
          1.46,
          1.69,
          2.14,
          1.42,
          3.55,
          1.03,
          3.51,
          3.53,
          3.06,
          2.82,
          2.31,
          2.68,
          5.18,
          2.67,
          2.69,
          1.28,
          3.25,
          1.31,
          2.76,
          2.29,
          2.89,
          1.2,
          3.06,
          1.11,
          1.63,
          2.78,
          1.35,
          3.62,
          2.61,
          1.12,
          2.26,
          1.51,
          4.33,
          2.94,
          1.9,
          2.73,
          1.73,
          3.22,
          2.8,
          2.28,
          2.33,
          1.94,
          2.13,
          3.32,
          3.49,
          2.8,
          2.59,
          2.92,
          2.02,
          3.28,
          1.46,
          2.28,
          4.16,
          3.03,
          0.88,
          3.25,
          1.58,
          1.82,
          2.06,
          0.64,
          2.6,
          1.66,
          1.73,
          0.53,
          3.12,
          0.46,
          2.92,
          2.02,
          3.07,
          3.44,
          2.11,
          3.02,
          1.31,
          2.93,
          2.31,
          3.85,
          2.55,
          1.54,
          4.33,
          3.74,
          3.25,
          1.23,
          2.63,
          3.87,
          0.7,
          3.83,
          0.91,
          3.52,
          2.34,
          1.68,
          1.37,
          0.93,
          2.52,
          2.96,
          2.01,
          0.28,
          2.41,
          2.63,
          2.77,
          2.85,
          4.71,
          1.13,
          2.35,
          1,
          2.78,
          2.25,
          5.79,
          3.44,
          1.96,
          3.65,
          2.7,
          0.33,
          4.35,
          0.91,
          3.62,
          2.82,
          2.58,
          0.72,
          2.05,
          3.9,
          0.46,
          4.99,
          2.32,
          1.16,
          2.08,
          2.6,
          2.85,
          2.94,
          3.61,
          2.3,
          2.6,
          2.29,
          2.23,
          3.71,
          2.83,
          1.35,
          2.56,
          2.68,
          2.16,
          3.42,
          0.8,
          1.74,
          1.52,
          0.26,
          2.53,
          3.46,
          1.58,
          4.02,
          4.29,
          4.18,
          3.98,
          2.29,
          2.58,
          4.51,
          2.51,
          1.05,
          0.17,
          2.53,
          0.43,
          0.69,
          0.53,
          2.89,
          1.92,
          3.59,
          2.63,
          1.52,
          0.7,
          2.76,
          3.11,
          3.64,
          3.3,
          2.5,
          2.66,
          2.96,
          1.99,
          2.34,
          1.8,
          3.26,
          3.58,
          0.6,
          2.96,
          1.49,
          2.05,
          4.33,
          3.18,
          2.17,
          1.55,
          2.76,
          1.71,
          2.25,
          2.09,
          1.15,
          1.06,
          0.56,
          1.98,
          2.9,
          1.3,
          2.79,
          1.86,
          4.18,
          3.07,
          2.98,
          0.14,
          2.12,
          3.23,
          2.33,
          4.14,
          1.48,
          0.95,
          4.22,
          2.71,
          1.86,
          2.88,
          1.35,
          2.22,
          3.98,
          1.69,
          2.35,
          3.16,
          2.62,
          2.69,
          3.03,
          3.09,
          0.27,
          2.21,
          4.79,
          2.74,
          2.83,
          0.61,
          3.6,
          4.54,
          0.8,
          2.02,
          4.1,
          4.16,
          2.08,
          5.13,
          2.27,
          2.9,
          2.47,
          2.76,
          2.59,
          3.74,
          2.81,
          2.27,
          3.14,
          2.6,
          3.43,
          1.28,
          3.06,
          0.47,
          2.69,
          3.67,
          2.18,
          1.93,
          3.1,
          4.5,
          1.48,
          3.38,
          3.02,
          2.84,
          2.07,
          2.37,
          1.73,
          2.1,
          2.3,
          0.35,
          1.73
         ],
         "xaxis": "x",
         "y": [
          118.2,
          269.4,
          4.7,
          121.3,
          67.9,
          61.5,
          31.1,
          89.6,
          42.4,
          196.6,
          80.2,
          28.9,
          36.7,
          182.7,
          195.6,
          33.2,
          74,
          155,
          149.9,
          953.9,
          70.8,
          133.9,
          136.2,
          262.6,
          38,
          107.9,
          86.4,
          34.2,
          13.1,
          159.3,
          152.5,
          75.8,
          102.4,
          309.5,
          273.6,
          64.9,
          760.5,
          76.7,
          147.4,
          74.5,
          159.9,
          37.4,
          38.1,
          692.4,
          163.4,
          199.9,
          213.1,
          47.9,
          74,
          126.9,
          344,
          129.1,
          120.6,
          65.9,
          87.9,
          121,
          20.3,
          32.3,
          28.2,
          76.1,
          74.6,
          10.8,
          146.8,
          143.8,
          878.6,
          12.3,
          517.3,
          259.1,
          122.1,
          123.4,
          153.5,
          75.2,
          75.2,
          83,
          160.1,
          712,
          120.7,
          23.7,
          105.1,
          94.8,
          346.7,
          336.8,
          54.2,
          139.7,
          55.3,
          78.3,
          23.3,
          45.7,
          143,
          25.1,
          405.8,
          10.4,
          241.3,
          233.8,
          162.8,
          223,
          84.8,
          286.7,
          848.2,
          118.9,
          125.4,
          15.4,
          253.9,
          21.1,
          125.2,
          83.8,
          144.5,
          16.9,
          180.7,
          14.6,
          169.1,
          153.8,
          23,
          437.6,
          119.8,
          15.5,
          83.5,
          59.1,
          658.3,
          142.5,
          121.2,
          104.6,
          45.3,
          193.4,
          218,
          73.1,
          82,
          71.6,
          74.7,
          230.9,
          305.4,
          149.4,
          87.1,
          139.4,
          92.5,
          217.2,
          41.8,
          114,
          558.3,
          145.9,
          37.6,
          186.3,
          36.6,
          59,
          63.1,
          47.8,
          89.9,
          51.4,
          36.9,
          263.9,
          166.5,
          5.2,
          146.9,
          62.4,
          195.5,
          197.1,
          77.1,
          183.4,
          17.3,
          178.8,
          62.6,
          273.7,
          114.9,
          91.4,
          550,
          517.7,
          147.9,
          38,
          103,
          347.9,
          33.4,
          461.5,
          26.9,
          191.7,
          94.9,
          102,
          18.9,
          36.6,
          106,
          118,
          60.8,
          73.1,
          96.7,
          97.3,
          133.6,
          125.8,
          695.5,
          12.3,
          87.5,
          37.4,
          127.4,
          77,
          904.4,
          200.8,
          57.1,
          249.9,
          115.8,
          5.5,
          507.6,
          36.9,
          210.4,
          160.9,
          87.1,
          33.8,
          71.9,
          428.9,
          36.7,
          779.4,
          102.4,
          25.5,
          66.9,
          101,
          122.1,
          122.6,
          210.9,
          78.4,
          130,
          84.4,
          87.7,
          275.8,
          125.6,
          44,
          95.7,
          134.5,
          73.6,
          223.3,
          24,
          63.9,
          29.1,
          34.1,
          140.1,
          208.3,
          48.3,
          441,
          647.7,
          571.8,
          357.4,
          88.8,
          91.1,
          642.3,
          103.1,
          35,
          26,
          80.7,
          5,
          6.4,
          34.2,
          134.6,
          62.6,
          338.5,
          140.2,
          44.6,
          20,
          115.5,
          180.2,
          211.9,
          214.5,
          109.2,
          120.3,
          139.6,
          91.7,
          90.2,
          44.7,
          184.9,
          498.9,
          29,
          132,
          25.2,
          74.1,
          517.9,
          215,
          91.9,
          40.9,
          129.6,
          38.4,
          69.6,
          73.8,
          14,
          11.5,
          38,
          69.6,
          104.1,
          19,
          115.1,
          49.2,
          349.6,
          183.9,
          152.6,
          4.4,
          79.5,
          185.8,
          73.5,
          515.7,
          42.6,
          33.9,
          482.8,
          124.6,
          47.5,
          115.5,
          19.8,
          83.9,
          445.1,
          51.5,
          105.8,
          155.2,
          120.6,
          102.7,
          118.1,
          187.3,
          32.7,
          77.3,
          718.2,
          96.4,
          119.8,
          44.6,
          263.2,
          593.9,
          27.7,
          70.2,
          514.5,
          404.5,
          86.9,
          765.1,
          88.4,
          126.3,
          86.4,
          137.8,
          108,
          252,
          130,
          79.3,
          173,
          111.8,
          317.9,
          20.5,
          185.2,
          51.1,
          125.3,
          269.8,
          81.8,
          61.7,
          143.3,
          598.5,
          63.6,
          310.3,
          133.1,
          138.2,
          202.3,
          76,
          117.2,
          78.2,
          80.3,
          26.5,
          47.4
         ],
         "yaxis": "y"
        },
        {
         "customdata": [
          [
           "West African Dwarf Crocodile",
           "Adult"
          ],
          [
           "Nile Crocodile",
           "Adult"
          ],
          [
           "Mugger Crocodile (Marsh Crocodile)",
           "Adult"
          ],
          [
           "Orinoco Crocodile",
           "Adult"
          ],
          [
           "American Crocodile",
           "Adult"
          ],
          [
           "Cuban Crocodile",
           "Adult"
          ],
          [
           "West African Dwarf Crocodile",
           "Adult"
          ],
          [
           "Freshwater Crocodile (Johnstone's)",
           "Juvenile"
          ],
          [
           "West African Crocodile",
           "Subadult"
          ],
          [
           "Nile Crocodile",
           "Subadult"
          ],
          [
           "Orinoco Crocodile",
           "Subadult"
          ],
          [
           "New Guinea Crocodile",
           "Subadult"
          ],
          [
           "American Crocodile",
           "Adult"
          ],
          [
           "New Guinea Crocodile",
           "Subadult"
          ],
          [
           "West African Slender-snouted Crocodile",
           "Juvenile"
          ],
          [
           "Orinoco Crocodile",
           "Hatchling"
          ],
          [
           "West African Dwarf Crocodile",
           "Adult"
          ],
          [
           "Freshwater Crocodile (Johnstone's)",
           "Adult"
          ],
          [
           "Congo Dwarf Crocodile",
           "Subadult"
          ],
          [
           "Cuban Crocodile",
           "Adult"
          ],
          [
           "West African Slender-snouted Crocodile",
           "Adult"
          ],
          [
           "Nile Crocodile",
           "Subadult"
          ],
          [
           "Morelet's Crocodile",
           "Adult"
          ],
          [
           "Central African Slender-snouted Crocodile",
           "Juvenile"
          ],
          [
           "Saltwater Crocodile",
           "Adult"
          ],
          [
           "Morelet's Crocodile",
           "Juvenile"
          ],
          [
           "Morelet's Crocodile",
           "Adult"
          ],
          [
           "West African Crocodile",
           "Subadult"
          ],
          [
           "West African Crocodile",
           "Adult"
          ],
          [
           "West African Slender-snouted Crocodile",
           "Adult"
          ],
          [
           "West African Crocodile",
           "Subadult"
          ],
          [
           "Freshwater Crocodile (Johnstone's)",
           "Adult"
          ],
          [
           "Saltwater Crocodile",
           "Subadult"
          ],
          [
           "Saltwater Crocodile",
           "Subadult"
          ],
          [
           "Orinoco Crocodile",
           "Adult"
          ],
          [
           "West African Dwarf Crocodile",
           "Juvenile"
          ],
          [
           "West African Dwarf Crocodile",
           "Adult"
          ],
          [
           "Mugger Crocodile (Marsh Crocodile)",
           "Adult"
          ],
          [
           "Siamese Crocodile",
           "Adult"
          ],
          [
           "Cuban Crocodile",
           "Subadult"
          ],
          [
           "New Guinea Crocodile",
           "Juvenile"
          ],
          [
           "West African Crocodile",
           "Juvenile"
          ],
          [
           "Borneo Crocodile (disputed)",
           "Adult"
          ],
          [
           "Morelet's Crocodile",
           "Adult"
          ],
          [
           "Freshwater Crocodile (Johnstone's)",
           "Adult"
          ],
          [
           "Borneo Crocodile (disputed)",
           "Subadult"
          ],
          [
           "Congo Dwarf Crocodile",
           "Juvenile"
          ],
          [
           "Siamese Crocodile",
           "Juvenile"
          ],
          [
           "Nile Crocodile",
           "Subadult"
          ],
          [
           "American Crocodile",
           "Hatchling"
          ],
          [
           "New Guinea Crocodile",
           "Adult"
          ],
          [
           "Congo Dwarf Crocodile",
           "Adult"
          ],
          [
           "American Crocodile",
           "Juvenile"
          ],
          [
           "Central African Slender-snouted Crocodile",
           "Juvenile"
          ],
          [
           "Orinoco Crocodile",
           "Adult"
          ],
          [
           "Saltwater Crocodile",
           "Adult"
          ],
          [
           "New Guinea Crocodile",
           "Adult"
          ],
          [
           "Cuban Crocodile",
           "Juvenile"
          ],
          [
           "Central African Slender-snouted Crocodile",
           "Hatchling"
          ],
          [
           "West African Dwarf Crocodile",
           "Subadult"
          ],
          [
           "Borneo Crocodile (disputed)",
           "Juvenile"
          ],
          [
           "Borneo Crocodile (disputed)",
           "Subadult"
          ],
          [
           "Nile Crocodile",
           "Hatchling"
          ],
          [
           "Congo Dwarf Crocodile",
           "Adult"
          ],
          [
           "Saltwater Crocodile",
           "Adult"
          ],
          [
           "Central African Slender-snouted Crocodile",
           "Hatchling"
          ],
          [
           "New Guinea Crocodile",
           "Juvenile"
          ],
          [
           "American Crocodile",
           "Adult"
          ],
          [
           "American Crocodile",
           "Juvenile"
          ],
          [
           "Orinoco Crocodile",
           "Juvenile"
          ],
          [
           "West African Crocodile",
           "Adult"
          ],
          [
           "New Guinea Crocodile",
           "Juvenile"
          ],
          [
           "Borneo Crocodile (disputed)",
           "Adult"
          ],
          [
           "Central African Slender-snouted Crocodile",
           "Adult"
          ],
          [
           "Nile Crocodile",
           "Adult"
          ],
          [
           "Mugger Crocodile (Marsh Crocodile)",
           "Subadult"
          ],
          [
           "Cuban Crocodile",
           "Juvenile"
          ],
          [
           "Saltwater Crocodile",
           "Juvenile"
          ],
          [
           "Siamese Crocodile",
           "Adult"
          ],
          [
           "West African Slender-snouted Crocodile",
           "Adult"
          ],
          [
           "Saltwater Crocodile",
           "Adult"
          ],
          [
           "Congo Dwarf Crocodile",
           "Adult"
          ],
          [
           "New Guinea Crocodile",
           "Juvenile"
          ],
          [
           "Freshwater Crocodile (Johnstone's)",
           "Juvenile"
          ],
          [
           "Philippine Crocodile",
           "Adult"
          ],
          [
           "Congo Dwarf Crocodile",
           "Subadult"
          ],
          [
           "Saltwater Crocodile",
           "Juvenile"
          ],
          [
           "Hall's New Guinea Crocodile",
           "Juvenile"
          ],
          [
           "Borneo Crocodile (disputed)",
           "Adult"
          ],
          [
           "American Crocodile",
           "Subadult"
          ],
          [
           "Freshwater Crocodile (Johnstone's)",
           "Juvenile"
          ],
          [
           "Borneo Crocodile (disputed)",
           "Adult"
          ],
          [
           "Saltwater Crocodile",
           "Subadult"
          ],
          [
           "West African Crocodile",
           "Juvenile"
          ],
          [
           "Siamese Crocodile",
           "Adult"
          ],
          [
           "American Crocodile",
           "Adult"
          ],
          [
           "West African Crocodile",
           "Adult"
          ],
          [
           "West African Slender-snouted Crocodile",
           "Subadult"
          ],
          [
           "Mugger Crocodile (Marsh Crocodile)",
           "Hatchling"
          ],
          [
           "Siamese Crocodile",
           "Adult"
          ],
          [
           "Congo Dwarf Crocodile",
           "Juvenile"
          ],
          [
           "Congo Dwarf Crocodile",
           "Subadult"
          ],
          [
           "Central African Slender-snouted Crocodile",
           "Adult"
          ],
          [
           "New Guinea Crocodile",
           "Subadult"
          ],
          [
           "West African Slender-snouted Crocodile",
           "Adult"
          ],
          [
           "Central African Slender-snouted Crocodile",
           "Adult"
          ],
          [
           "Congo Dwarf Crocodile",
           "Adult"
          ],
          [
           "Philippine Crocodile",
           "Juvenile"
          ],
          [
           "West African Dwarf Crocodile",
           "Juvenile"
          ],
          [
           "Nile Crocodile",
           "Adult"
          ],
          [
           "Philippine Crocodile",
           "Subadult"
          ],
          [
           "American Crocodile",
           "Subadult"
          ],
          [
           "American Crocodile",
           "Adult"
          ],
          [
           "Central African Slender-snouted Crocodile",
           "Adult"
          ],
          [
           "Cuban Crocodile",
           "Adult"
          ],
          [
           "Hall's New Guinea Crocodile",
           "Adult"
          ],
          [
           "Freshwater Crocodile (Johnstone's)",
           "Adult"
          ],
          [
           "Philippine Crocodile",
           "Adult"
          ],
          [
           "Freshwater Crocodile (Johnstone's)",
           "Adult"
          ],
          [
           "Morelet's Crocodile",
           "Juvenile"
          ],
          [
           "New Guinea Crocodile",
           "Juvenile"
          ],
          [
           "New Guinea Crocodile",
           "Juvenile"
          ],
          [
           "West African Slender-snouted Crocodile",
           "Subadult"
          ],
          [
           "Congo Dwarf Crocodile",
           "Adult"
          ],
          [
           "Mugger Crocodile (Marsh Crocodile)",
           "Adult"
          ],
          [
           "Saltwater Crocodile",
           "Juvenile"
          ],
          [
           "Congo Dwarf Crocodile",
           "Subadult"
          ],
          [
           "Freshwater Crocodile (Johnstone's)",
           "Adult"
          ],
          [
           "New Guinea Crocodile",
           "Adult"
          ],
          [
           "West African Crocodile",
           "Adult"
          ],
          [
           "American Crocodile",
           "Hatchling"
          ],
          [
           "Central African Slender-snouted Crocodile",
           "Juvenile"
          ],
          [
           "Nile Crocodile",
           "Subadult"
          ],
          [
           "Cuban Crocodile",
           "Adult"
          ],
          [
           "Congo Dwarf Crocodile",
           "Subadult"
          ],
          [
           "Borneo Crocodile (disputed)",
           "Juvenile"
          ],
          [
           "Central African Slender-snouted Crocodile",
           "Subadult"
          ],
          [
           "Mugger Crocodile (Marsh Crocodile)",
           "Adult"
          ],
          [
           "New Guinea Crocodile",
           "Adult"
          ],
          [
           "Hall's New Guinea Crocodile",
           "Adult"
          ],
          [
           "Borneo Crocodile (disputed)",
           "Juvenile"
          ],
          [
           "Cuban Crocodile",
           "Subadult"
          ],
          [
           "Morelet's Crocodile",
           "Adult"
          ],
          [
           "Morelet's Crocodile",
           "Adult"
          ],
          [
           "Nile Crocodile",
           "Adult"
          ],
          [
           "Central African Slender-snouted Crocodile",
           "Subadult"
          ],
          [
           "Orinoco Crocodile",
           "Juvenile"
          ],
          [
           "West African Crocodile",
           "Adult"
          ],
          [
           "Freshwater Crocodile (Johnstone's)",
           "Hatchling"
          ],
          [
           "Siamese Crocodile",
           "Juvenile"
          ],
          [
           "Central African Slender-snouted Crocodile",
           "Subadult"
          ],
          [
           "Orinoco Crocodile",
           "Adult"
          ],
          [
           "Freshwater Crocodile (Johnstone's)",
           "Juvenile"
          ],
          [
           "Philippine Crocodile",
           "Juvenile"
          ],
          [
           "West African Dwarf Crocodile",
           "Adult"
          ],
          [
           "Philippine Crocodile",
           "Subadult"
          ],
          [
           "West African Crocodile",
           "Adult"
          ],
          [
           "New Guinea Crocodile",
           "Subadult"
          ],
          [
           "Nile Crocodile",
           "Adult"
          ],
          [
           "West African Slender-snouted Crocodile",
           "Hatchling"
          ],
          [
           "Cuban Crocodile",
           "Juvenile"
          ],
          [
           "Morelet's Crocodile",
           "Juvenile"
          ],
          [
           "Nile Crocodile",
           "Adult"
          ],
          [
           "West African Crocodile",
           "Adult"
          ],
          [
           "Orinoco Crocodile",
           "Juvenile"
          ],
          [
           "Cuban Crocodile",
           "Subadult"
          ],
          [
           "Siamese Crocodile",
           "Adult"
          ],
          [
           "Freshwater Crocodile (Johnstone's)",
           "Hatchling"
          ],
          [
           "Cuban Crocodile",
           "Adult"
          ],
          [
           "Borneo Crocodile (disputed)",
           "Subadult"
          ],
          [
           "Orinoco Crocodile",
           "Subadult"
          ],
          [
           "Saltwater Crocodile",
           "Subadult"
          ],
          [
           "Cuban Crocodile",
           "Subadult"
          ],
          [
           "Philippine Crocodile",
           "Hatchling"
          ],
          [
           "Borneo Crocodile (disputed)",
           "Adult"
          ],
          [
           "West African Dwarf Crocodile",
           "Juvenile"
          ],
          [
           "Morelet's Crocodile",
           "Hatchling"
          ],
          [
           "Mugger Crocodile (Marsh Crocodile)",
           "Subadult"
          ],
          [
           "West African Crocodile",
           "Adult"
          ],
          [
           "New Guinea Crocodile",
           "Adult"
          ],
          [
           "Saltwater Crocodile",
           "Subadult"
          ],
          [
           "American Crocodile",
           "Subadult"
          ],
          [
           "Mugger Crocodile (Marsh Crocodile)",
           "Subadult"
          ],
          [
           "Freshwater Crocodile (Johnstone's)",
           "Adult"
          ],
          [
           "New Guinea Crocodile",
           "Juvenile"
          ],
          [
           "American Crocodile",
           "Hatchling"
          ],
          [
           "Central African Slender-snouted Crocodile",
           "Subadult"
          ],
          [
           "Freshwater Crocodile (Johnstone's)",
           "Subadult"
          ],
          [
           "Philippine Crocodile",
           "Adult"
          ],
          [
           "Congo Dwarf Crocodile",
           "Adult"
          ],
          [
           "Mugger Crocodile (Marsh Crocodile)",
           "Subadult"
          ],
          [
           "Orinoco Crocodile",
           "Subadult"
          ],
          [
           "New Guinea Crocodile",
           "Subadult"
          ],
          [
           "Saltwater Crocodile",
           "Subadult"
          ],
          [
           "Philippine Crocodile",
           "Adult"
          ],
          [
           "Philippine Crocodile",
           "Adult"
          ],
          [
           "West African Crocodile",
           "Juvenile"
          ],
          [
           "Cuban Crocodile",
           "Adult"
          ],
          [
           "West African Crocodile",
           "Subadult"
          ],
          [
           "Morelet's Crocodile",
           "Adult"
          ],
          [
           "Borneo Crocodile (disputed)",
           "Subadult"
          ],
          [
           "West African Slender-snouted Crocodile",
           "Juvenile"
          ],
          [
           "Cuban Crocodile",
           "Adult"
          ],
          [
           "West African Dwarf Crocodile",
           "Adult"
          ],
          [
           "Saltwater Crocodile",
           "Juvenile"
          ],
          [
           "Siamese Crocodile",
           "Juvenile"
          ],
          [
           "West African Dwarf Crocodile",
           "Adult"
          ],
          [
           "Congo Dwarf Crocodile",
           "Subadult"
          ],
          [
           "Cuban Crocodile",
           "Subadult"
          ],
          [
           "American Crocodile",
           "Adult"
          ],
          [
           "Siamese Crocodile",
           "Hatchling"
          ],
          [
           "Siamese Crocodile",
           "Subadult"
          ],
          [
           "Philippine Crocodile",
           "Juvenile"
          ],
          [
           "Orinoco Crocodile",
           "Adult"
          ],
          [
           "Philippine Crocodile",
           "Subadult"
          ],
          [
           "Orinoco Crocodile",
           "Hatchling"
          ],
          [
           "Mugger Crocodile (Marsh Crocodile)",
           "Adult"
          ],
          [
           "Mugger Crocodile (Marsh Crocodile)",
           "Adult"
          ],
          [
           "Cuban Crocodile",
           "Subadult"
          ],
          [
           "Freshwater Crocodile (Johnstone's)",
           "Subadult"
          ],
          [
           "Hall's New Guinea Crocodile",
           "Adult"
          ],
          [
           "West African Crocodile",
           "Juvenile"
          ],
          [
           "New Guinea Crocodile",
           "Adult"
          ],
          [
           "Nile Crocodile",
           "Subadult"
          ],
          [
           "Hall's New Guinea Crocodile",
           "Adult"
          ],
          [
           "West African Slender-snouted Crocodile",
           "Adult"
          ],
          [
           "Hall's New Guinea Crocodile",
           "Adult"
          ],
          [
           "Saltwater Crocodile",
           "Adult"
          ],
          [
           "American Crocodile",
           "Adult"
          ],
          [
           "Philippine Crocodile",
           "Adult"
          ],
          [
           "American Crocodile",
           "Adult"
          ],
          [
           "Philippine Crocodile",
           "Adult"
          ],
          [
           "Borneo Crocodile (disputed)",
           "Adult"
          ],
          [
           "Saltwater Crocodile",
           "Subadult"
          ],
          [
           "Nile Crocodile",
           "Juvenile"
          ],
          [
           "Philippine Crocodile",
           "Adult"
          ],
          [
           "Cuban Crocodile",
           "Juvenile"
          ],
          [
           "West African Slender-snouted Crocodile",
           "Hatchling"
          ],
          [
           "Borneo Crocodile (disputed)",
           "Subadult"
          ],
          [
           "West African Dwarf Crocodile",
           "Adult"
          ],
          [
           "Mugger Crocodile (Marsh Crocodile)",
           "Adult"
          ],
          [
           "Morelet's Crocodile",
           "Subadult"
          ],
          [
           "Philippine Crocodile",
           "Subadult"
          ],
          [
           "West African Slender-snouted Crocodile",
           "Subadult"
          ],
          [
           "Cuban Crocodile",
           "Subadult"
          ],
          [
           "West African Dwarf Crocodile",
           "Adult"
          ],
          [
           "West African Dwarf Crocodile",
           "Subadult"
          ],
          [
           "Orinoco Crocodile",
           "Juvenile"
          ],
          [
           "West African Dwarf Crocodile",
           "Adult"
          ],
          [
           "Orinoco Crocodile",
           "Juvenile"
          ],
          [
           "Congo Dwarf Crocodile",
           "Hatchling"
          ],
          [
           "Mugger Crocodile (Marsh Crocodile)",
           "Subadult"
          ],
          [
           "Freshwater Crocodile (Johnstone's)",
           "Subadult"
          ],
          [
           "American Crocodile",
           "Adult"
          ],
          [
           "Orinoco Crocodile",
           "Adult"
          ],
          [
           "Mugger Crocodile (Marsh Crocodile)",
           "Adult"
          ],
          [
           "Hall's New Guinea Crocodile",
           "Subadult"
          ],
          [
           "New Guinea Crocodile",
           "Adult"
          ],
          [
           "Orinoco Crocodile",
           "Adult"
          ],
          [
           "Central African Slender-snouted Crocodile",
           "Juvenile"
          ],
          [
           "Borneo Crocodile (disputed)",
           "Adult"
          ],
          [
           "Nile Crocodile",
           "Adult"
          ],
          [
           "New Guinea Crocodile",
           "Adult"
          ],
          [
           "Hall's New Guinea Crocodile",
           "Adult"
          ],
          [
           "Siamese Crocodile",
           "Adult"
          ],
          [
           "American Crocodile",
           "Juvenile"
          ],
          [
           "Congo Dwarf Crocodile",
           "Adult"
          ],
          [
           "Cuban Crocodile",
           "Adult"
          ],
          [
           "Morelet's Crocodile",
           "Juvenile"
          ],
          [
           "Hall's New Guinea Crocodile",
           "Juvenile"
          ],
          [
           "Philippine Crocodile",
           "Subadult"
          ],
          [
           "Saltwater Crocodile",
           "Adult"
          ],
          [
           "Siamese Crocodile",
           "Adult"
          ],
          [
           "Philippine Crocodile",
           "Adult"
          ],
          [
           "New Guinea Crocodile",
           "Juvenile"
          ],
          [
           "Saltwater Crocodile",
           "Adult"
          ],
          [
           "Orinoco Crocodile",
           "Subadult"
          ],
          [
           "Orinoco Crocodile",
           "Adult"
          ],
          [
           "Cuban Crocodile",
           "Adult"
          ],
          [
           "Mugger Crocodile (Marsh Crocodile)",
           "Adult"
          ],
          [
           "Central African Slender-snouted Crocodile",
           "Adult"
          ],
          [
           "West African Crocodile",
           "Adult"
          ],
          [
           "Siamese Crocodile",
           "Adult"
          ],
          [
           "West African Crocodile",
           "Adult"
          ],
          [
           "American Crocodile",
           "Juvenile"
          ],
          [
           "West African Crocodile",
           "Adult"
          ],
          [
           "Morelet's Crocodile",
           "Subadult"
          ],
          [
           "Mugger Crocodile (Marsh Crocodile)",
           "Subadult"
          ],
          [
           "Morelet's Crocodile",
           "Adult"
          ],
          [
           "Mugger Crocodile (Marsh Crocodile)",
           "Juvenile"
          ],
          [
           "West African Dwarf Crocodile",
           "Subadult"
          ],
          [
           "Philippine Crocodile",
           "Adult"
          ],
          [
           "New Guinea Crocodile",
           "Adult"
          ],
          [
           "Philippine Crocodile",
           "Adult"
          ],
          [
           "Mugger Crocodile (Marsh Crocodile)",
           "Subadult"
          ],
          [
           "West African Crocodile",
           "Adult"
          ],
          [
           "New Guinea Crocodile",
           "Subadult"
          ],
          [
           "Mugger Crocodile (Marsh Crocodile)",
           "Adult"
          ],
          [
           "West African Dwarf Crocodile",
           "Adult"
          ],
          [
           "West African Dwarf Crocodile",
           "Adult"
          ],
          [
           "Freshwater Crocodile (Johnstone's)",
           "Adult"
          ],
          [
           "Orinoco Crocodile",
           "Adult"
          ],
          [
           "Central African Slender-snouted Crocodile",
           "Hatchling"
          ],
          [
           "Philippine Crocodile",
           "Subadult"
          ],
          [
           "West African Slender-snouted Crocodile",
           "Adult"
          ],
          [
           "Morelet's Crocodile",
           "Juvenile"
          ],
          [
           "Cuban Crocodile",
           "Juvenile"
          ],
          [
           "Siamese Crocodile",
           "Adult"
          ],
          [
           "Central African Slender-snouted Crocodile",
           "Adult"
          ],
          [
           "Hall's New Guinea Crocodile",
           "Subadult"
          ],
          [
           "West African Crocodile",
           "Adult"
          ],
          [
           "Philippine Crocodile",
           "Subadult"
          ],
          [
           "Nile Crocodile",
           "Adult"
          ],
          [
           "Morelet's Crocodile",
           "Adult"
          ],
          [
           "West African Dwarf Crocodile",
           "Adult"
          ],
          [
           "Freshwater Crocodile (Johnstone's)",
           "Adult"
          ],
          [
           "Siamese Crocodile",
           "Adult"
          ],
          [
           "West African Dwarf Crocodile",
           "Juvenile"
          ],
          [
           "Morelet's Crocodile",
           "Adult"
          ],
          [
           "West African Crocodile",
           "Adult"
          ],
          [
           "Hall's New Guinea Crocodile",
           "Subadult"
          ]
         ],
         "hovertemplate": "sex=Female<br>observed_length_m=%{x}<br>observed_weight_kg=%{y}<br>common_name=%{customdata[0]}<br>age_class=%{customdata[1]}<extra></extra>",
         "legendgroup": "Female",
         "marker": {
          "color": "#00cc96",
          "symbol": "circle"
         },
         "mode": "markers",
         "name": "Female",
         "orientation": "v",
         "showlegend": true,
         "type": "scatter",
         "x": [
          1.32,
          4.37,
          3.39,
          4.71,
          4.11,
          2.42,
          1.48,
          1.05,
          2.72,
          3.57,
          3.4,
          2.51,
          3.57,
          2.97,
          1.77,
          0.43,
          1.18,
          1.93,
          1.25,
          2.23,
          2.9,
          4.34,
          2.15,
          1.69,
          5.07,
          1.1,
          2.31,
          2.7,
          3.08,
          2.58,
          2.54,
          2.57,
          3.59,
          5.1,
          4.55,
          0.86,
          1.37,
          3.19,
          2.88,
          2.07,
          1.52,
          2.07,
          3.68,
          2.42,
          2.17,
          3.27,
          0.6,
          0.94,
          3.85,
          0.36,
          2.31,
          1.49,
          1.69,
          1.12,
          3.7,
          5.32,
          2.1,
          2.01,
          0.5,
          1.03,
          0.76,
          2.54,
          0.56,
          1.51,
          6.02,
          0.33,
          1.2,
          2.77,
          1.92,
          2.99,
          2.98,
          1.74,
          2.79,
          2.86,
          3.56,
          2.87,
          1.56,
          3.08,
          2.85,
          2.08,
          4.19,
          1.51,
          1.76,
          1.47,
          2.48,
          1.47,
          3.65,
          1.34,
          2.81,
          3.3,
          1.75,
          3,
          3.81,
          1.36,
          2.81,
          3.05,
          2.28,
          2.95,
          0.61,
          2.92,
          0.9,
          1.09,
          2.64,
          2.5,
          2.87,
          2.08,
          1.28,
          1.42,
          0.78,
          4.1,
          1.61,
          3.25,
          4.07,
          2.72,
          3.27,
          2.81,
          1.91,
          1.46,
          1.89,
          1.88,
          1.04,
          1.84,
          2.92,
          1.52,
          2.66,
          3.18,
          1.51,
          2.07,
          2.16,
          2.81,
          0.49,
          1.13,
          3.91,
          2.91,
          1.06,
          1.95,
          2.2,
          2.52,
          2.25,
          2.95,
          2.31,
          2.88,
          2.82,
          3,
          3.43,
          2.29,
          2.66,
          2.76,
          0.27,
          1.87,
          2.4,
          3.77,
          0.84,
          1.45,
          1.61,
          2.25,
          2.7,
          2.22,
          3.78,
          0.26,
          1.95,
          0.79,
          4.41,
          2.61,
          1.42,
          2.73,
          2.66,
          0.39,
          3.1,
          2.52,
          4.24,
          4.18,
          2.76,
          0.41,
          2.2,
          1.01,
          0.32,
          2.51,
          2.74,
          2.39,
          4.31,
          2.97,
          2.78,
          2.63,
          1.24,
          0.37,
          1.95,
          2.34,
          2.31,
          1.42,
          3.09,
          3.66,
          1.95,
          4.44,
          1.62,
          2,
          2.04,
          2.82,
          2.4,
          1.76,
          2.68,
          1.33,
          3.38,
          1.29,
          1.28,
          1.49,
          1.24,
          1.38,
          2.95,
          4.18,
          0.43,
          2.59,
          1.3,
          4.35,
          1.68,
          0.34,
          2.9,
          3.91,
          2.4,
          2.26,
          3.41,
          0.73,
          2.48,
          4.39,
          2.49,
          2.43,
          3.42,
          4.21,
          4.33,
          1.78,
          3.57,
          2.32,
          3.17,
          3.8,
          2.86,
          1.61,
          1.22,
          0.53,
          2.26,
          1.31,
          3.49,
          2.64,
          2.27,
          1.99,
          2.12,
          1.32,
          0.98,
          1.41,
          1.26,
          2.63,
          0.17,
          3.01,
          2.07,
          3.45,
          4.16,
          2.69,
          2.97,
          2.45,
          3.57,
          1.87,
          2.65,
          3.38,
          2.35,
          3.24,
          2.52,
          2.46,
          1.55,
          2.16,
          1.52,
          0.94,
          1.94,
          5.2,
          2.86,
          1.68,
          1.98,
          5.48,
          3.9,
          3.26,
          2.56,
          3.07,
          2.01,
          2.69,
          2.98,
          2.05,
          1.81,
          2.26,
          2.35,
          3.72,
          1.76,
          1.22,
          1.01,
          2.34,
          2.75,
          1.89,
          3.01,
          2.99,
          2.23,
          3.97,
          1.3,
          1.46,
          2.4,
          3.61,
          0.19,
          1.98,
          3.21,
          0.6,
          1.79,
          2.69,
          3.02,
          3.01,
          2.9,
          2.17,
          4.68,
          2.41,
          1.01,
          2.14,
          3.04,
          0.39,
          3.4,
          2.55,
          2.27
         ],
         "xaxis": "x",
         "y": [
          19.2,
          565,
          174.9,
          576.6,
          324.4,
          85.6,
          21.9,
          24,
          150.3,
          387.4,
          316.6,
          87.4,
          229.3,
          120.1,
          71.7,
          93.9,
          12.5,
          46.7,
          19.3,
          81.8,
          165.4,
          596.2,
          75.1,
          63.7,
          791.7,
          41.1,
          90.9,
          131.1,
          188.3,
          109.7,
          104.3,
          82.1,
          402.7,
          827.2,
          524.1,
          8.1,
          18.1,
          153.6,
          154.9,
          64.8,
          39,
          75.5,
          273.7,
          78.6,
          60.6,
          177.7,
          6.9,
          39.1,
          479,
          70.2,
          88.7,
          26.9,
          90.7,
          41.7,
          328.6,
          868.3,
          70.3,
          64.3,
          26.4,
          11.3,
          29.5,
          103.5,
          133.9,
          22.3,
          1085.6,
          32.6,
          40.7,
          130,
          107.4,
          215.3,
          190.6,
          48.3,
          133.3,
          164.1,
          437.1,
          160.3,
          47.1,
          418.9,
          151.8,
          82.8,
          541.7,
          23.7,
          48.7,
          30.9,
          104.1,
          25.1,
          449.3,
          43.5,
          138.5,
          218,
          42.5,
          130.3,
          493.9,
          45.7,
          127.1,
          188,
          97.8,
          170,
          56.4,
          166.7,
          9,
          13.9,
          129.9,
          97.3,
          168,
          88.4,
          19,
          33.3,
          6.5,
          513.9,
          40.4,
          194.1,
          352.7,
          155.3,
          191.8,
          110.9,
          54.2,
          34.7,
          42.6,
          60.1,
          31.5,
          60.9,
          161,
          22.6,
          116.2,
          473.1,
          28.4,
          53.4,
          70.5,
          134,
          63.2,
          40.5,
          512.7,
          114.2,
          11.2,
          70.7,
          79.3,
          118.3,
          86.8,
          126,
          88.6,
          125.2,
          133.4,
          129.6,
          334.3,
          88.5,
          209.5,
          126.9,
          19.9,
          57.7,
          98,
          400,
          25,
          41.6,
          25,
          74.6,
          118.5,
          66,
          419.4,
          44.6,
          69.2,
          32.4,
          646.1,
          136.8,
          110.1,
          108.8,
          115.8,
          18,
          156.3,
          100.7,
          444.1,
          542.3,
          126.3,
          17.5,
          67.4,
          10,
          34.1,
          124.6,
          150.1,
          98.6,
          514.4,
          168.8,
          121,
          97.4,
          38.1,
          78.9,
          80.8,
          65.2,
          79.3,
          25.3,
          145.8,
          351.5,
          67.5,
          509.4,
          38.9,
          60.9,
          75.6,
          117.4,
          109.3,
          51.2,
          118.3,
          55.6,
          203.8,
          15.6,
          298.1,
          55.6,
          15.1,
          22.7,
          147.2,
          311.2,
          33.8,
          107.9,
          30.7,
          472.1,
          45.9,
          98.1,
          158.9,
          280.9,
          84.3,
          68.5,
          198.2,
          34.8,
          100.5,
          578.9,
          97.9,
          107.8,
          167.1,
          527.9,
          418.1,
          53.9,
          238.3,
          86.5,
          164,
          535.1,
          296.2,
          43.5,
          41.4,
          40.3,
          78.7,
          17,
          233.2,
          117.3,
          87.5,
          75.9,
          83.9,
          14.6,
          9.4,
          113.1,
          16.9,
          193.2,
          4.7,
          164.6,
          65.5,
          201.3,
          389.4,
          135.6,
          117.6,
          84.4,
          353,
          73.6,
          118.4,
          310.1,
          84.2,
          133.7,
          108.4,
          112.5,
          29.5,
          76.4,
          50.9,
          35.8,
          51.7,
          751.3,
          145.6,
          40.4,
          58.9,
          918.4,
          427.3,
          307.4,
          97.8,
          157.5,
          78.2,
          132,
          178.7,
          77,
          99.8,
          102.4,
          89.8,
          225.8,
          57.8,
          54.4,
          11.6,
          79.4,
          117.5,
          49.8,
          155.1,
          192.7,
          78.8,
          269.9,
          17,
          18,
          72.3,
          364.2,
          25.8,
          56.1,
          219.8,
          35.4,
          65.6,
          131.4,
          179.1,
          141.4,
          146.4,
          78.2,
          661.7,
          92.5,
          11.3,
          57.7,
          163.6,
          4.9,
          159.5,
          112.3,
          80.3
         ],
         "yaxis": "y"
        }
       ],
       "layout": {
        "legend": {
         "title": {
          "text": "sex"
         },
         "tracegroupgap": 0
        },
        "template": {
         "data": {
          "bar": [
           {
            "error_x": {
             "color": "#2a3f5f"
            },
            "error_y": {
             "color": "#2a3f5f"
            },
            "marker": {
             "line": {
              "color": "#E5ECF6",
              "width": 0.5
             },
             "pattern": {
              "fillmode": "overlay",
              "size": 10,
              "solidity": 0.2
             }
            },
            "type": "bar"
           }
          ],
          "barpolar": [
           {
            "marker": {
             "line": {
              "color": "#E5ECF6",
              "width": 0.5
             },
             "pattern": {
              "fillmode": "overlay",
              "size": 10,
              "solidity": 0.2
             }
            },
            "type": "barpolar"
           }
          ],
          "carpet": [
           {
            "aaxis": {
             "endlinecolor": "#2a3f5f",
             "gridcolor": "white",
             "linecolor": "white",
             "minorgridcolor": "white",
             "startlinecolor": "#2a3f5f"
            },
            "baxis": {
             "endlinecolor": "#2a3f5f",
             "gridcolor": "white",
             "linecolor": "white",
             "minorgridcolor": "white",
             "startlinecolor": "#2a3f5f"
            },
            "type": "carpet"
           }
          ],
          "choropleth": [
           {
            "colorbar": {
             "outlinewidth": 0,
             "ticks": ""
            },
            "type": "choropleth"
           }
          ],
          "contour": [
           {
            "colorbar": {
             "outlinewidth": 0,
             "ticks": ""
            },
            "colorscale": [
             [
              0,
              "#0d0887"
             ],
             [
              0.1111111111111111,
              "#46039f"
             ],
             [
              0.2222222222222222,
              "#7201a8"
             ],
             [
              0.3333333333333333,
              "#9c179e"
             ],
             [
              0.4444444444444444,
              "#bd3786"
             ],
             [
              0.5555555555555556,
              "#d8576b"
             ],
             [
              0.6666666666666666,
              "#ed7953"
             ],
             [
              0.7777777777777778,
              "#fb9f3a"
             ],
             [
              0.8888888888888888,
              "#fdca26"
             ],
             [
              1,
              "#f0f921"
             ]
            ],
            "type": "contour"
           }
          ],
          "contourcarpet": [
           {
            "colorbar": {
             "outlinewidth": 0,
             "ticks": ""
            },
            "type": "contourcarpet"
           }
          ],
          "heatmap": [
           {
            "colorbar": {
             "outlinewidth": 0,
             "ticks": ""
            },
            "colorscale": [
             [
              0,
              "#0d0887"
             ],
             [
              0.1111111111111111,
              "#46039f"
             ],
             [
              0.2222222222222222,
              "#7201a8"
             ],
             [
              0.3333333333333333,
              "#9c179e"
             ],
             [
              0.4444444444444444,
              "#bd3786"
             ],
             [
              0.5555555555555556,
              "#d8576b"
             ],
             [
              0.6666666666666666,
              "#ed7953"
             ],
             [
              0.7777777777777778,
              "#fb9f3a"
             ],
             [
              0.8888888888888888,
              "#fdca26"
             ],
             [
              1,
              "#f0f921"
             ]
            ],
            "type": "heatmap"
           }
          ],
          "heatmapgl": [
           {
            "colorbar": {
             "outlinewidth": 0,
             "ticks": ""
            },
            "colorscale": [
             [
              0,
              "#0d0887"
             ],
             [
              0.1111111111111111,
              "#46039f"
             ],
             [
              0.2222222222222222,
              "#7201a8"
             ],
             [
              0.3333333333333333,
              "#9c179e"
             ],
             [
              0.4444444444444444,
              "#bd3786"
             ],
             [
              0.5555555555555556,
              "#d8576b"
             ],
             [
              0.6666666666666666,
              "#ed7953"
             ],
             [
              0.7777777777777778,
              "#fb9f3a"
             ],
             [
              0.8888888888888888,
              "#fdca26"
             ],
             [
              1,
              "#f0f921"
             ]
            ],
            "type": "heatmapgl"
           }
          ],
          "histogram": [
           {
            "marker": {
             "pattern": {
              "fillmode": "overlay",
              "size": 10,
              "solidity": 0.2
             }
            },
            "type": "histogram"
           }
          ],
          "histogram2d": [
           {
            "colorbar": {
             "outlinewidth": 0,
             "ticks": ""
            },
            "colorscale": [
             [
              0,
              "#0d0887"
             ],
             [
              0.1111111111111111,
              "#46039f"
             ],
             [
              0.2222222222222222,
              "#7201a8"
             ],
             [
              0.3333333333333333,
              "#9c179e"
             ],
             [
              0.4444444444444444,
              "#bd3786"
             ],
             [
              0.5555555555555556,
              "#d8576b"
             ],
             [
              0.6666666666666666,
              "#ed7953"
             ],
             [
              0.7777777777777778,
              "#fb9f3a"
             ],
             [
              0.8888888888888888,
              "#fdca26"
             ],
             [
              1,
              "#f0f921"
             ]
            ],
            "type": "histogram2d"
           }
          ],
          "histogram2dcontour": [
           {
            "colorbar": {
             "outlinewidth": 0,
             "ticks": ""
            },
            "colorscale": [
             [
              0,
              "#0d0887"
             ],
             [
              0.1111111111111111,
              "#46039f"
             ],
             [
              0.2222222222222222,
              "#7201a8"
             ],
             [
              0.3333333333333333,
              "#9c179e"
             ],
             [
              0.4444444444444444,
              "#bd3786"
             ],
             [
              0.5555555555555556,
              "#d8576b"
             ],
             [
              0.6666666666666666,
              "#ed7953"
             ],
             [
              0.7777777777777778,
              "#fb9f3a"
             ],
             [
              0.8888888888888888,
              "#fdca26"
             ],
             [
              1,
              "#f0f921"
             ]
            ],
            "type": "histogram2dcontour"
           }
          ],
          "mesh3d": [
           {
            "colorbar": {
             "outlinewidth": 0,
             "ticks": ""
            },
            "type": "mesh3d"
           }
          ],
          "parcoords": [
           {
            "line": {
             "colorbar": {
              "outlinewidth": 0,
              "ticks": ""
             }
            },
            "type": "parcoords"
           }
          ],
          "pie": [
           {
            "automargin": true,
            "type": "pie"
           }
          ],
          "scatter": [
           {
            "fillpattern": {
             "fillmode": "overlay",
             "size": 10,
             "solidity": 0.2
            },
            "type": "scatter"
           }
          ],
          "scatter3d": [
           {
            "line": {
             "colorbar": {
              "outlinewidth": 0,
              "ticks": ""
             }
            },
            "marker": {
             "colorbar": {
              "outlinewidth": 0,
              "ticks": ""
             }
            },
            "type": "scatter3d"
           }
          ],
          "scattercarpet": [
           {
            "marker": {
             "colorbar": {
              "outlinewidth": 0,
              "ticks": ""
             }
            },
            "type": "scattercarpet"
           }
          ],
          "scattergeo": [
           {
            "marker": {
             "colorbar": {
              "outlinewidth": 0,
              "ticks": ""
             }
            },
            "type": "scattergeo"
           }
          ],
          "scattergl": [
           {
            "marker": {
             "colorbar": {
              "outlinewidth": 0,
              "ticks": ""
             }
            },
            "type": "scattergl"
           }
          ],
          "scattermapbox": [
           {
            "marker": {
             "colorbar": {
              "outlinewidth": 0,
              "ticks": ""
             }
            },
            "type": "scattermapbox"
           }
          ],
          "scatterpolar": [
           {
            "marker": {
             "colorbar": {
              "outlinewidth": 0,
              "ticks": ""
             }
            },
            "type": "scatterpolar"
           }
          ],
          "scatterpolargl": [
           {
            "marker": {
             "colorbar": {
              "outlinewidth": 0,
              "ticks": ""
             }
            },
            "type": "scatterpolargl"
           }
          ],
          "scatterternary": [
           {
            "marker": {
             "colorbar": {
              "outlinewidth": 0,
              "ticks": ""
             }
            },
            "type": "scatterternary"
           }
          ],
          "surface": [
           {
            "colorbar": {
             "outlinewidth": 0,
             "ticks": ""
            },
            "colorscale": [
             [
              0,
              "#0d0887"
             ],
             [
              0.1111111111111111,
              "#46039f"
             ],
             [
              0.2222222222222222,
              "#7201a8"
             ],
             [
              0.3333333333333333,
              "#9c179e"
             ],
             [
              0.4444444444444444,
              "#bd3786"
             ],
             [
              0.5555555555555556,
              "#d8576b"
             ],
             [
              0.6666666666666666,
              "#ed7953"
             ],
             [
              0.7777777777777778,
              "#fb9f3a"
             ],
             [
              0.8888888888888888,
              "#fdca26"
             ],
             [
              1,
              "#f0f921"
             ]
            ],
            "type": "surface"
           }
          ],
          "table": [
           {
            "cells": {
             "fill": {
              "color": "#EBF0F8"
             },
             "line": {
              "color": "white"
             }
            },
            "header": {
             "fill": {
              "color": "#C8D4E3"
             },
             "line": {
              "color": "white"
             }
            },
            "type": "table"
           }
          ]
         },
         "layout": {
          "annotationdefaults": {
           "arrowcolor": "#2a3f5f",
           "arrowhead": 0,
           "arrowwidth": 1
          },
          "autotypenumbers": "strict",
          "coloraxis": {
           "colorbar": {
            "outlinewidth": 0,
            "ticks": ""
           }
          },
          "colorscale": {
           "diverging": [
            [
             0,
             "#8e0152"
            ],
            [
             0.1,
             "#c51b7d"
            ],
            [
             0.2,
             "#de77ae"
            ],
            [
             0.3,
             "#f1b6da"
            ],
            [
             0.4,
             "#fde0ef"
            ],
            [
             0.5,
             "#f7f7f7"
            ],
            [
             0.6,
             "#e6f5d0"
            ],
            [
             0.7,
             "#b8e186"
            ],
            [
             0.8,
             "#7fbc41"
            ],
            [
             0.9,
             "#4d9221"
            ],
            [
             1,
             "#276419"
            ]
           ],
           "sequential": [
            [
             0,
             "#0d0887"
            ],
            [
             0.1111111111111111,
             "#46039f"
            ],
            [
             0.2222222222222222,
             "#7201a8"
            ],
            [
             0.3333333333333333,
             "#9c179e"
            ],
            [
             0.4444444444444444,
             "#bd3786"
            ],
            [
             0.5555555555555556,
             "#d8576b"
            ],
            [
             0.6666666666666666,
             "#ed7953"
            ],
            [
             0.7777777777777778,
             "#fb9f3a"
            ],
            [
             0.8888888888888888,
             "#fdca26"
            ],
            [
             1,
             "#f0f921"
            ]
           ],
           "sequentialminus": [
            [
             0,
             "#0d0887"
            ],
            [
             0.1111111111111111,
             "#46039f"
            ],
            [
             0.2222222222222222,
             "#7201a8"
            ],
            [
             0.3333333333333333,
             "#9c179e"
            ],
            [
             0.4444444444444444,
             "#bd3786"
            ],
            [
             0.5555555555555556,
             "#d8576b"
            ],
            [
             0.6666666666666666,
             "#ed7953"
            ],
            [
             0.7777777777777778,
             "#fb9f3a"
            ],
            [
             0.8888888888888888,
             "#fdca26"
            ],
            [
             1,
             "#f0f921"
            ]
           ]
          },
          "colorway": [
           "#636efa",
           "#EF553B",
           "#00cc96",
           "#ab63fa",
           "#FFA15A",
           "#19d3f3",
           "#FF6692",
           "#B6E880",
           "#FF97FF",
           "#FECB52"
          ],
          "font": {
           "color": "#2a3f5f"
          },
          "geo": {
           "bgcolor": "white",
           "lakecolor": "white",
           "landcolor": "#E5ECF6",
           "showlakes": true,
           "showland": true,
           "subunitcolor": "white"
          },
          "hoverlabel": {
           "align": "left"
          },
          "hovermode": "closest",
          "mapbox": {
           "style": "light"
          },
          "paper_bgcolor": "white",
          "plot_bgcolor": "#E5ECF6",
          "polar": {
           "angularaxis": {
            "gridcolor": "white",
            "linecolor": "white",
            "ticks": ""
           },
           "bgcolor": "#E5ECF6",
           "radialaxis": {
            "gridcolor": "white",
            "linecolor": "white",
            "ticks": ""
           }
          },
          "scene": {
           "xaxis": {
            "backgroundcolor": "#E5ECF6",
            "gridcolor": "white",
            "gridwidth": 2,
            "linecolor": "white",
            "showbackground": true,
            "ticks": "",
            "zerolinecolor": "white"
           },
           "yaxis": {
            "backgroundcolor": "#E5ECF6",
            "gridcolor": "white",
            "gridwidth": 2,
            "linecolor": "white",
            "showbackground": true,
            "ticks": "",
            "zerolinecolor": "white"
           },
           "zaxis": {
            "backgroundcolor": "#E5ECF6",
            "gridcolor": "white",
            "gridwidth": 2,
            "linecolor": "white",
            "showbackground": true,
            "ticks": "",
            "zerolinecolor": "white"
           }
          },
          "shapedefaults": {
           "line": {
            "color": "#2a3f5f"
           }
          },
          "ternary": {
           "aaxis": {
            "gridcolor": "white",
            "linecolor": "white",
            "ticks": ""
           },
           "baxis": {
            "gridcolor": "white",
            "linecolor": "white",
            "ticks": ""
           },
           "bgcolor": "#E5ECF6",
           "caxis": {
            "gridcolor": "white",
            "linecolor": "white",
            "ticks": ""
           }
          },
          "title": {
           "x": 0.05
          },
          "xaxis": {
           "automargin": true,
           "gridcolor": "white",
           "linecolor": "white",
           "ticks": "",
           "title": {
            "standoff": 15
           },
           "zerolinecolor": "white",
           "zerolinewidth": 2
          },
          "yaxis": {
           "automargin": true,
           "gridcolor": "white",
           "linecolor": "white",
           "ticks": "",
           "title": {
            "standoff": 15
           },
           "zerolinecolor": "white",
           "zerolinewidth": 2
          }
         }
        },
        "title": {
         "text": "Crocodile Length vs Weight by Sex"
        },
        "xaxis": {
         "anchor": "y",
         "domain": [
          0,
          1
         ],
         "title": {
          "text": "observed_length_m"
         }
        },
        "yaxis": {
         "anchor": "x",
         "domain": [
          0,
          1
         ],
         "title": {
          "text": "observed_weight_kg"
         }
        }
       }
      },
      "image/png": "[encoded data removed]",
      "text/html": [
       "<div>                            <div id=\"73df211b-660d-496f-8151-02de232cd5eb\" class=\"plotly-graph-div\" style=\"height:525px; width:100%;\"></div>            <script type=\"text/javascript\">                require([\"plotly\"], function(Plotly) {                    window.PLOTLYENV=window.PLOTLYENV || {};                                    if (document.getElementById(\"73df211b-660d-496f-8151-02de232cd5eb\")) {                    Plotly.newPlot(                        \"73df211b-660d-496f-8151-02de232cd5eb\",                        [{\"customdata\":[[\"Morelet's Crocodile\",\"Adult\"],[\"American Crocodile\",\"Adult\"],[\"Morelet's Crocodile\",\"Adult\"],[\"Mugger Crocodile (Marsh Crocodile)\",\"Adult\"],[\"Siamese Crocodile\",\"Subadult\"],[\"West African Crocodile\",\"Adult\"],[\"Morelet's Crocodile\",\"Adult\"],[\"West African Dwarf Crocodile\",\"Adult\"],[\"Morelet's Crocodile\",\"Adult\"],[\"American Crocodile\",\"Adult\"],[\"Saltwater Crocodile\",\"Juvenile\"],[\"Nile Crocodile\",\"Adult\"],[\"Congo Dwarf Crocodile\",\"Adult\"],[\"Cuban Crocodile\",\"Subadult\"],[\"Nile Crocodile\",\"Juvenile\"],[\"Orinoco Crocodile\",\"Subadult\"],[\"Philippine Crocodile\",\"Adult\"],[\"Morelet's Crocodile\",\"Adult\"],[\"Morelet's Crocodile\",\"Adult\"],[\"West African Slender-snouted Crocodile\",\"Adult\"],[\"Siamese Crocodile\",\"Juvenile\"],[\"West African Slender-snouted Crocodile\",\"Subadult\"],[\"Saltwater Crocodile\",\"Adult\"],[\"Nile Crocodile\",\"Adult\"],[\"Borneo Crocodile (disputed)\",\"Adult\"],[\"Central African Slender-snouted Crocodile\",\"Subadult\"],[\"Saltwater Crocodile\",\"Subadult\"],[\"Borneo Crocodile (disputed)\",\"Adult\"],[\"West African Crocodile\",\"Adult\"],[\"Philippine Crocodile\",\"Subadult\"],[\"Siamese Crocodile\",\"Juvenile\"],[\"Orinoco Crocodile\",\"Juvenile\"],[\"Mugger Crocodile (Marsh Crocodile)\",\"Juvenile\"],[\"Borneo Crocodile (disputed)\",\"Subadult\"],[\"Cuban Crocodile\",\"Adult\"],[\"West African Crocodile\",\"Adult\"],[\"West African Slender-snouted Crocodile\",\"Adult\"],[\"Morelet's Crocodile\",\"Subadult\"],[\"West African Crocodile\",\"Subadult\"],[\"Saltwater Crocodile\",\"Adult\"],[\"Hall's New Guinea Crocodile\",\"Adult\"],[\"Cuban Crocodile\",\"Adult\"],[\"American Crocodile\",\"Adult\"],[\"West African Slender-snouted Crocodile\",\"Juvenile\"],[\"Nile Crocodile\",\"Adult\"],[\"West African Dwarf Crocodile\",\"Adult\"],[\"West African Crocodile\",\"Subadult\"],[\"Mugger Crocodile (Marsh Crocodile)\",\"Subadult\"],[\"West African Slender-snouted Crocodile\",\"Adult\"],[\"West African Dwarf Crocodile\",\"Adult\"],[\"Nile Crocodile\",\"Subadult\"],[\"West African Crocodile\",\"Adult\"],[\"Saltwater Crocodile\",\"Adult\"],[\"West African Slender-snouted Crocodile\",\"Adult\"],[\"Congo Dwarf Crocodile\",\"Subadult\"],[\"Cuban Crocodile\",\"Subadult\"],[\"Borneo Crocodile (disputed)\",\"Juvenile\"],[\"Orinoco Crocodile\",\"Juvenile\"],[\"Cuban Crocodile\",\"Adult\"],[\"West African Dwarf Crocodile\",\"Adult\"],[\"Philippine Crocodile\",\"Subadult\"],[\"West African Dwarf Crocodile\",\"Adult\"],[\"American Crocodile\",\"Adult\"],[\"Saltwater Crocodile\",\"Subadult\"],[\"Siamese Crocodile\",\"Juvenile\"],[\"Mugger Crocodile (Marsh Crocodile)\",\"Juvenile\"],[\"Morelet's Crocodile\",\"Adult\"],[\"Saltwater Crocodile\",\"Adult\"],[\"Borneo Crocodile (disputed)\",\"Subadult\"],[\"Central African Slender-snouted Crocodile\",\"Subadult\"],[\"American Crocodile\",\"Juvenile\"],[\"West African Dwarf Crocodile\",\"Adult\"],[\"New Guinea Crocodile\",\"Juvenile\"],[\"Philippine Crocodile\",\"Adult\"],[\"West African Crocodile\",\"Subadult\"],[\"Morelet's Crocodile\",\"Subadult\"],[\"Congo Dwarf Crocodile\",\"Adult\"],[\"Central African Slender-snouted Crocodile\",\"Juvenile\"],[\"New Guinea Crocodile\",\"Adult\"],[\"Orinoco Crocodile\",\"Hatchling\"],[\"West African Slender-snouted Crocodile\",\"Adult\"],[\"American Crocodile\",\"Juvenile\"],[\"Philippine Crocodile\",\"Subadult\"],[\"Cuban Crocodile\",\"Adult\"],[\"Siamese Crocodile\",\"Juvenile\"],[\"American Crocodile\",\"Adult\"],[\"West African Dwarf Crocodile\",\"Adult\"],[\"West African Slender-snouted Crocodile\",\"Subadult\"],[\"Philippine Crocodile\",\"Hatchling\"],[\"Freshwater Crocodile (Johnstone's)\",\"Adult\"],[\"Philippine Crocodile\",\"Adult\"],[\"American Crocodile\",\"Hatchling\"],[\"Nile Crocodile\",\"Subadult\"],[\"West African Dwarf Crocodile\",\"Subadult\"],[\"American Crocodile\",\"Juvenile\"],[\"Hall's New Guinea Crocodile\",\"Adult\"],[\"Philippine Crocodile\",\"Subadult\"],[\"West African Dwarf Crocodile\",\"Adult\"],[\"Congo Dwarf Crocodile\",\"Adult\"],[\"Saltwater Crocodile\",\"Subadult\"],[\"West African Slender-snouted Crocodile\",\"Adult\"],[\"West African Dwarf Crocodile\",\"Adult\"],[\"Morelet's Crocodile\",\"Subadult\"],[\"Siamese Crocodile\",\"Adult\"],[\"Central African Slender-snouted Crocodile\",\"Subadult\"],[\"Siamese Crocodile\",\"Adult\"],[\"Hall's New Guinea Crocodile\",\"Juvenile\"],[\"Central African Slender-snouted Crocodile\",\"Juvenile\"],[\"Philippine Crocodile\",\"Adult\"],[\"Siamese Crocodile\",\"Adult\"],[\"Central African Slender-snouted Crocodile\",\"Juvenile\"],[\"Borneo Crocodile (disputed)\",\"Adult\"],[\"Hall's New Guinea Crocodile\",\"Juvenile\"],[\"Philippine Crocodile\",\"Juvenile\"],[\"Borneo Crocodile (disputed)\",\"Juvenile\"],[\"New Guinea Crocodile\",\"Subadult\"],[\"Central African Slender-snouted Crocodile\",\"Adult\"],[\"Nile Crocodile\",\"Juvenile\"],[\"New Guinea Crocodile\",\"Hatchling\"],[\"Freshwater Crocodile (Johnstone's)\",\"Juvenile\"],[\"Orinoco Crocodile\",\"Hatchling\"],[\"West African Dwarf Crocodile\",\"Hatchling\"],[\"Saltwater Crocodile\",\"Adult\"],[\"Freshwater Crocodile (Johnstone's)\",\"Subadult\"],[\"Philippine Crocodile\",\"Subadult\"],[\"Central African Slender-snouted Crocodile\",\"Subadult\"],[\"Siamese Crocodile\",\"Hatchling\"],[\"Congo Dwarf Crocodile\",\"Juvenile\"],[\"American Crocodile\",\"Adult\"],[\"New Guinea Crocodile\",\"Adult\"],[\"Saltwater Crocodile\",\"Adult\"],[\"West African Crocodile\",\"Juvenile\"],[\"Cuban Crocodile\",\"Juvenile\"],[\"New Guinea Crocodile\",\"Subadult\"],[\"Hall's New Guinea Crocodile\",\"Adult\"],[\"West African Slender-snouted Crocodile\",\"Adult\"],[\"New Guinea Crocodile\",\"Juvenile\"],[\"Borneo Crocodile (disputed)\",\"Adult\"],[\"West African Crocodile\",\"Hatchling\"],[\"Saltwater Crocodile\",\"Adult\"],[\"Orinoco Crocodile\",\"Subadult\"],[\"Mugger Crocodile (Marsh Crocodile)\",\"Juvenile\"],[\"Siamese Crocodile\",\"Adult\"],[\"New Guinea Crocodile\",\"Juvenile\"],[\"Morelet's Crocodile\",\"Adult\"],[\"American Crocodile\",\"Adult\"],[\"Freshwater Crocodile (Johnstone's)\",\"Subadult\"],[\"New Guinea Crocodile\",\"Adult\"],[\"Mugger Crocodile (Marsh Crocodile)\",\"Subadult\"],[\"Siamese Crocodile\",\"Subadult\"],[\"Borneo Crocodile (disputed)\",\"Adult\"],[\"Cuban Crocodile\",\"Juvenile\"],[\"Philippine Crocodile\",\"Adult\"],[\"American Crocodile\",\"Adult\"],[\"West African Dwarf Crocodile\",\"Adult\"],[\"Morelet's Crocodile\",\"Adult\"],[\"Hall's New Guinea Crocodile\",\"Adult\"],[\"Congo Dwarf Crocodile\",\"Adult\"],[\"Cuban Crocodile\",\"Adult\"],[\"American Crocodile\",\"Adult\"],[\"Congo Dwarf Crocodile\",\"Adult\"],[\"Freshwater Crocodile (Johnstone's)\",\"Juvenile\"],[\"Nile Crocodile\",\"Adult\"],[\"American Crocodile\",\"Adult\"],[\"Hall's New Guinea Crocodile\",\"Juvenile\"],[\"Orinoco Crocodile\",\"Adult\"],[\"Central African Slender-snouted Crocodile\",\"Subadult\"],[\"Central African Slender-snouted Crocodile\",\"Adult\"],[\"Philippine Crocodile\",\"Adult\"],[\"Orinoco Crocodile\",\"Subadult\"],[\"Hall's New Guinea Crocodile\",\"Subadult\"],[\"Central African Slender-snouted Crocodile\",\"Adult\"],[\"Central African Slender-snouted Crocodile\",\"Subadult\"],[\"Philippine Crocodile\",\"Subadult\"],[\"Hall's New Guinea Crocodile\",\"Hatchling\"],[\"American Crocodile\",\"Adult\"],[\"Nile Crocodile\",\"Adult\"],[\"Central African Slender-snouted Crocodile\",\"Adult\"],[\"New Guinea Crocodile\",\"Adult\"],[\"Saltwater Crocodile\",\"Juvenile\"],[\"Siamese Crocodile\",\"Subadult\"],[\"Hall's New Guinea Crocodile\",\"Subadult\"],[\"Cuban Crocodile\",\"Adult\"],[\"West African Slender-snouted Crocodile\",\"Adult\"],[\"Orinoco Crocodile\",\"Subadult\"],[\"Cuban Crocodile\",\"Subadult\"],[\"Central African Slender-snouted Crocodile\",\"Adult\"],[\"West African Dwarf Crocodile\",\"Adult\"],[\"Cuban Crocodile\",\"Subadult\"],[\"West African Dwarf Crocodile\",\"Adult\"],[\"New Guinea Crocodile\",\"Adult\"],[\"West African Slender-snouted Crocodile\",\"Subadult\"],[\"Congo Dwarf Crocodile\",\"Adult\"],[\"Congo Dwarf Crocodile\",\"Adult\"],[\"New Guinea Crocodile\",\"Juvenile\"],[\"Saltwater Crocodile\",\"Adult\"],[\"Central African Slender-snouted Crocodile\",\"Hatchling\"],[\"Congo Dwarf Crocodile\",\"Adult\"],[\"Philippine Crocodile\",\"Subadult\"],[\"Siamese Crocodile\",\"Adult\"],[\"West African Slender-snouted Crocodile\",\"Subadult\"],[\"Hall's New Guinea Crocodile\",\"Adult\"],[\"West African Dwarf Crocodile\",\"Adult\"],[\"Hall's New Guinea Crocodile\",\"Hatchling\"],[\"Nile Crocodile\",\"Adult\"],[\"Orinoco Crocodile\",\"Juvenile\"],[\"Mugger Crocodile (Marsh Crocodile)\",\"Subadult\"],[\"West African Dwarf Crocodile\",\"Subadult\"],[\"Borneo Crocodile (disputed)\",\"Juvenile\"],[\"Freshwater Crocodile (Johnstone's)\",\"Juvenile\"],[\"Nile Crocodile\",\"Adult\"],[\"Nile Crocodile\",\"Adult\"],[\"Orinoco Crocodile\",\"Juvenile\"],[\"Borneo Crocodile (disputed)\",\"Juvenile\"],[\"Freshwater Crocodile (Johnstone's)\",\"Adult\"],[\"Morelet's Crocodile\",\"Adult\"],[\"West African Crocodile\",\"Juvenile\"],[\"West African Crocodile\",\"Adult\"],[\"Cuban Crocodile\",\"Subadult\"],[\"West African Crocodile\",\"Juvenile\"],[\"Orinoco Crocodile\",\"Adult\"],[\"West African Dwarf Crocodile\",\"Hatchling\"],[\"New Guinea Crocodile\",\"Juvenile\"],[\"Siamese Crocodile\",\"Adult\"],[\"Borneo Crocodile (disputed)\",\"Adult\"],[\"New Guinea Crocodile\",\"Adult\"],[\"West African Crocodile\",\"Adult\"],[\"Saltwater Crocodile\",\"Adult\"],[\"Borneo Crocodile (disputed)\",\"Subadult\"],[\"West African Slender-snouted Crocodile\",\"Adult\"],[\"West African Dwarf Crocodile\",\"Adult\"],[\"Saltwater Crocodile\",\"Subadult\"],[\"American Crocodile\",\"Juvenile\"],[\"Nile Crocodile\",\"Juvenile\"],[\"Freshwater Crocodile (Johnstone's)\",\"Adult\"],[\"New Guinea Crocodile\",\"Juvenile\"],[\"West African Crocodile\",\"Adult\"],[\"Hall's New Guinea Crocodile\",\"Adult\"],[\"Freshwater Crocodile (Johnstone's)\",\"Juvenile\"],[\"Borneo Crocodile (disputed)\",\"Adult\"],[\"Freshwater Crocodile (Johnstone's)\",\"Adult\"],[\"Hall's New Guinea Crocodile\",\"Adult\"],[\"Morelet's Crocodile\",\"Adult\"],[\"Central African Slender-snouted Crocodile\",\"Juvenile\"],[\"Borneo Crocodile (disputed)\",\"Adult\"],[\"Cuban Crocodile\",\"Juvenile\"],[\"Hall's New Guinea Crocodile\",\"Subadult\"],[\"Mugger Crocodile (Marsh Crocodile)\",\"Adult\"],[\"New Guinea Crocodile\",\"Subadult\"],[\"American Crocodile\",\"Subadult\"],[\"West African Slender-snouted Crocodile\",\"Adult\"],[\"West African Crocodile\",\"Adult\"],[\"Morelet's Crocodile\",\"Juvenile\"],[\"Borneo Crocodile (disputed)\",\"Subadult\"],[\"Morelet's Crocodile\",\"Adult\"],[\"West African Dwarf Crocodile\",\"Adult\"],[\"New Guinea Crocodile\",\"Subadult\"],[\"American Crocodile\",\"Subadult\"],[\"Orinoco Crocodile\",\"Adult\"],[\"Orinoco Crocodile\",\"Hatchling\"],[\"Freshwater Crocodile (Johnstone's)\",\"Adult\"],[\"West African Dwarf Crocodile\",\"Adult\"],[\"West African Dwarf Crocodile\",\"Adult\"],[\"Central African Slender-snouted Crocodile\",\"Adult\"],[\"Borneo Crocodile (disputed)\",\"Juvenile\"],[\"American Crocodile\",\"Adult\"],[\"West African Crocodile\",\"Adult\"],[\"Freshwater Crocodile (Johnstone's)\",\"Adult\"],[\"Congo Dwarf Crocodile\",\"Adult\"],[\"Saltwater Crocodile\",\"Subadult\"],[\"New Guinea Crocodile\",\"Hatchling\"],[\"West African Dwarf Crocodile\",\"Subadult\"],[\"Morelet's Crocodile\",\"Adult\"],[\"Morelet's Crocodile\",\"Subadult\"],[\"Borneo Crocodile (disputed)\",\"Adult\"],[\"West African Dwarf Crocodile\",\"Adult\"],[\"American Crocodile\",\"Juvenile\"],[\"West African Slender-snouted Crocodile\",\"Adult\"],[\"Orinoco Crocodile\",\"Juvenile\"],[\"Borneo Crocodile (disputed)\",\"Adult\"],[\"Central African Slender-snouted Crocodile\",\"Adult\"],[\"Orinoco Crocodile\",\"Juvenile\"],[\"Nile Crocodile\",\"Juvenile\"],[\"Nile Crocodile\",\"Adult\"],[\"Central African Slender-snouted Crocodile\",\"Adult\"],[\"Orinoco Crocodile\",\"Adult\"],[\"American Crocodile\",\"Adult\"],[\"West African Slender-snouted Crocodile\",\"Adult\"],[\"Cuban Crocodile\",\"Adult\"],[\"Central African Slender-snouted Crocodile\",\"Juvenile\"],[\"Saltwater Crocodile\",\"Subadult\"],[\"Freshwater Crocodile (Johnstone's)\",\"Adult\"],[\"New Guinea Crocodile\",\"Adult\"],[\"Freshwater Crocodile (Johnstone's)\",\"Adult\"],[\"Saltwater Crocodile\",\"Adult\"],[\"West African Slender-snouted Crocodile\",\"Juvenile\"],[\"West African Dwarf Crocodile\",\"Juvenile\"],[\"Morelet's Crocodile\",\"Adult\"],[\"West African Slender-snouted Crocodile\",\"Adult\"],[\"Mugger Crocodile (Marsh Crocodile)\",\"Subadult\"],[\"West African Slender-snouted Crocodile\",\"Adult\"],[\"Borneo Crocodile (disputed)\",\"Adult\"],[\"Saltwater Crocodile\",\"Subadult\"],[\"West African Dwarf Crocodile\",\"Subadult\"],[\"Orinoco Crocodile\",\"Adult\"],[\"Central African Slender-snouted Crocodile\",\"Subadult\"],[\"Cuban Crocodile\",\"Adult\"],[\"Orinoco Crocodile\",\"Adult\"],[\"West African Slender-snouted Crocodile\",\"Juvenile\"],[\"Central African Slender-snouted Crocodile\",\"Adult\"],[\"American Crocodile\",\"Adult\"],[\"Freshwater Crocodile (Johnstone's)\",\"Juvenile\"],[\"Hall's New Guinea Crocodile\",\"Juvenile\"],[\"West African Crocodile\",\"Subadult\"],[\"Philippine Crocodile\",\"Adult\"],[\"Congo Dwarf Crocodile\",\"Juvenile\"],[\"New Guinea Crocodile\",\"Adult\"],[\"Mugger Crocodile (Marsh Crocodile)\",\"Juvenile\"],[\"Borneo Crocodile (disputed)\",\"Adult\"],[\"West African Crocodile\",\"Juvenile\"],[\"Hall's New Guinea Crocodile\",\"Adult\"],[\"Nile Crocodile\",\"Subadult\"],[\"West African Slender-snouted Crocodile\",\"Adult\"],[\"West African Slender-snouted Crocodile\",\"Adult\"],[\"West African Slender-snouted Crocodile\",\"Adult\"]],\"hovertemplate\":\"sex=Male<br>observed_length_m=%{x}<br>observed_weight_kg=%{y}<br>common_name=%{customdata[0]}<br>age_class=%{customdata[1]}<extra></extra>\",\"legendgroup\":\"Male\",\"marker\":{\"color\":\"#636efa\",\"symbol\":\"circle\"},\"mode\":\"markers\",\"name\":\"Male\",\"orientation\":\"v\",\"showlegend\":true,\"x\":[1.9,4.09,2.42,2.64,2.85,3.05,3.39,1.22,1.84,3.65,1.55,4.65,1.77,2.44,3.18,3.94,2.26,2.5,2.52,2.43,0.96,2.26,5.43,3.78,2.56,1.85,4.9,2.54,3.02,1.6,1.25,1.96,1.21,2.4,2.71,2.28,3.07,2.46,2.9,5.22,2.69,2.26,3.04,2.05,4.55,1.57,2.52,3.11,3.41,1.47,3.13,3.04,6.02,2.64,1.04,2.75,0.87,1.13,2.74,1.0,2.15,0.99,3.88,3.58,1.55,2.25,1.83,5.91,3.09,2.61,2.44,0.93,1.64,2.03,2.4,2.78,1.4,1.79,2.87,0.82,2.07,1.01,1.88,2.07,1.52,2.8,1.24,2.89,0.38,2.86,2.1,0.58,4.0,1.05,1.78,2.33,2.02,1.18,1.36,4.96,3.15,1.64,2.79,2.18,2.06,2.92,1.51,0.79,1.67,2.97,0.72,2.23,1.86,1.57,0.87,2.59,2.1,2.04,0.24,0.88,0.65,0.15,4.78,2.04,2.04,2.22,0.43,0.84,3.14,2.6,6.12,0.9,0.79,2.42,2.41,3.07,1.78,2.99,0.48,5.1,2.88,1.23,2.51,1.1,2.57,3.36,2.34,2.26,2.48,2.09,2.66,1.94,2.62,3.75,1.33,2.16,2.81,1.56,3.01,2.68,1.45,0.88,5.31,2.86,1.61,2.63,1.98,2.74,1.82,4.22,3.22,2.67,2.24,1.74,0.57,3.94,3.69,2.67,2.54,3.61,2.97,3.18,2.89,2.71,3.96,2.41,2.41,0.97,2.17,1.6,2.72,2.78,1.54,1.35,2.03,5.4,0.47,1.4,1.81,3.13,2.81,3.11,1.09,0.49,4.37,1.25,3.57,0.97,1.67,1.68,4.69,3.39,2.08,0.91,2.13,2.88,1.18,2.42,2.42,1.97,2.68,0.23,0.71,2.06,3.25,3.38,2.56,5.05,2.39,2.58,1.29,4.76,2.24,2.46,2.36,1.3,2.64,2.47,0.81,2.67,2.72,3.49,1.7,1.6,3.79,1.53,3.09,4.03,2.5,2.76,2.44,3.01,0.65,3.29,2.43,1.45,2.56,3.62,3.9,0.8,2.18,1.04,1.06,3.0,1.52,2.94,3.35,2.71,1.41,4.76,0.38,1.34,1.81,2.56,3.48,1.14,1.51,3.22,2.02,2.38,2.52,2.95,3.02,4.48,2.25,4.81,2.8,2.48,2.48,1.1,4.23,2.06,2.74,2.54,4.84,1.89,0.8,2.6,2.53,2.97,2.79,2.46,4.01,1.01,2.75,2.51,2.28,4.5,1.93,2.65,3.25,1.32,1.99,2.76,2.04,0.6,2.5,2.54,3.91,0.92,2.74,3.13,2.26,2.34,2.82],\"xaxis\":\"x\",\"y\":[62.0,334.5,90.4,137.4,157.7,201.2,197.2,15.8,60.7,217.7,350.9,759.8,36.0,107.9,342.1,367.9,84.2,90.6,104.1,96.9,31.8,91.6,818.2,383.2,106.5,67.3,629.7,103.3,180.7,47.0,36.3,133.2,54.8,91.7,125.3,104.8,199.3,100.2,158.4,809.0,100.3,86.1,190.0,82.8,621.4,27.1,107.0,179.1,220.3,21.3,362.6,171.9,1032.7,149.5,13.6,114.5,36.9,101.7,133.6,10.0,70.3,11.7,266.2,522.8,54.2,104.2,54.7,906.6,169.1,134.2,113.3,8.4,42.3,73.2,111.4,100.4,22.8,66.7,128.0,93.9,93.2,84.2,57.7,84.4,52.5,165.3,13.5,169.2,22.0,107.4,59.1,75.8,438.8,11.9,96.7,69.2,71.7,15.7,20.2,637.2,187.8,25.0,101.5,76.2,75.7,150.7,43.1,33.9,48.8,181.1,33.5,83.7,50.8,40.7,30.9,90.2,87.2,168.7,32.3,20.5,97.9,5.4,696.0,59.3,65.8,95.0,28.5,9.9,196.7,106.1,1139.7,37.1,48.4,76.0,75.0,158.5,55.6,134.5,35.1,698.8,197.6,63.7,121.9,32.6,101.4,196.1,76.8,82.0,101.4,89.4,96.8,65.4,117.5,239.0,19.7,65.1,97.2,32.2,141.0,141.8,23.7,26.6,998.3,144.4,39.8,194.4,81.8,124.0,56.7,441.8,149.7,133.4,99.8,52.7,33.6,324.6,379.4,143.2,84.7,399.7,179.8,153.5,150.2,124.4,385.8,93.5,106.9,10.4,81.4,28.3,96.3,154.3,27.4,20.1,68.5,765.7,34.5,24.2,45.5,196.2,146.9,134.8,11.0,32.2,601.3,102.9,217.9,11.3,49.8,36.8,738.4,381.1,134.5,29.3,60.4,141.9,40.5,111.8,107.5,77.9,202.8,4.4,30.5,74.5,174.0,161.3,130.6,624.1,94.9,115.4,14.1,638.5,97.0,198.5,69.6,42.3,131.0,99.3,24.1,125.1,103.5,192.0,51.7,56.3,259.1,47.6,146.1,292.8,106.7,167.6,121.4,179.1,34.5,200.2,95.5,19.0,101.3,280.0,413.2,102.1,71.2,9.5,10.4,190.5,43.4,164.0,197.9,87.4,23.6,660.4,28.4,20.1,61.7,87.0,220.9,11.1,84.7,187.6,162.7,100.9,123.3,216.9,283.5,604.8,79.1,636.5,157.6,122.3,108.1,37.7,524.7,49.3,107.4,78.2,639.9,77.0,7.7,105.9,120.8,174.6,138.1,96.9,509.2,11.3,204.8,111.5,83.1,581.0,76.0,146.7,204.5,27.3,52.1,121.2,69.0,6.8,80.4,113.2,272.3,37.6,121.5,285.8,88.5,93.5,147.6],\"yaxis\":\"y\",\"type\":\"scatter\"},{\"customdata\":[[\"Orinoco Crocodile\",\"Juvenile\"],[\"Mugger Crocodile (Marsh Crocodile)\",\"Adult\"],[\"Congo Dwarf Crocodile\",\"Juvenile\"],[\"Siamese Crocodile\",\"Subadult\"],[\"Morelet's Crocodile\",\"Adult\"],[\"Morelet's Crocodile\",\"Juvenile\"],[\"Borneo Crocodile (disputed)\",\"Juvenile\"],[\"Borneo Crocodile (disputed)\",\"Subadult\"],[\"Cuban Crocodile\",\"Hatchling\"],[\"Siamese Crocodile\",\"Adult\"],[\"Siamese Crocodile\",\"Adult\"],[\"Philippine Crocodile\",\"Juvenile\"],[\"New Guinea Crocodile\",\"Juvenile\"],[\"West African Slender-snouted Crocodile\",\"Adult\"],[\"Mugger Crocodile (Marsh Crocodile)\",\"Adult\"],[\"Siamese Crocodile\",\"Hatchling\"],[\"Morelet's Crocodile\",\"Adult\"],[\"American Crocodile\",\"Adult\"],[\"West African Slender-snouted Crocodile\",\"Adult\"],[\"Saltwater Crocodile\",\"Adult\"],[\"Borneo Crocodile (disputed)\",\"Juvenile\"],[\"New Guinea Crocodile\",\"Adult\"],[\"Siamese Crocodile\",\"Adult\"],[\"American Crocodile\",\"Adult\"],[\"Central African Slender-snouted Crocodile\",\"Juvenile\"],[\"Cuban Crocodile\",\"Adult\"],[\"West African Crocodile\",\"Adult\"],[\"Central African Slender-snouted Crocodile\",\"Juvenile\"],[\"West African Dwarf Crocodile\",\"Adult\"],[\"Mugger Crocodile (Marsh Crocodile)\",\"Subadult\"],[\"American Crocodile\",\"Adult\"],[\"Hall's New Guinea Crocodile\",\"Subadult\"],[\"Morelet's Crocodile\",\"Subadult\"],[\"Nile Crocodile\",\"Subadult\"],[\"American Crocodile\",\"Adult\"],[\"New Guinea Crocodile\",\"Subadult\"],[\"Saltwater Crocodile\",\"Adult\"],[\"Philippine Crocodile\",\"Adult\"],[\"Cuban Crocodile\",\"Adult\"],[\"Hall's New Guinea Crocodile\",\"Adult\"],[\"Nile Crocodile\",\"Juvenile\"],[\"Freshwater Crocodile (Johnstone's)\",\"Juvenile\"],[\"Freshwater Crocodile (Johnstone's)\",\"Juvenile\"],[\"Saltwater Crocodile\",\"Adult\"],[\"Hall's New Guinea Crocodile\",\"Adult\"],[\"Orinoco Crocodile\",\"Subadult\"],[\"American Crocodile\",\"Adult\"],[\"West African Crocodile\",\"Juvenile\"],[\"New Guinea Crocodile\",\"Adult\"],[\"Hall's New Guinea Crocodile\",\"Adult\"],[\"Saltwater Crocodile\",\"Juvenile\"],[\"New Guinea Crocodile\",\"Subadult\"],[\"Central African Slender-snouted Crocodile\",\"Subadult\"],[\"Philippine Crocodile\",\"Subadult\"],[\"Central African Slender-snouted Crocodile\",\"Adult\"],[\"Siamese Crocodile\",\"Subadult\"],[\"West African Dwarf Crocodile\",\"Adult\"],[\"New Guinea Crocodile\",\"Juvenile\"],[\"Morelet's Crocodile\",\"Hatchling\"],[\"New Guinea Crocodile\",\"Subadult\"],[\"Morelet's Crocodile\",\"Subadult\"],[\"West African Dwarf Crocodile\",\"Subadult\"],[\"Borneo Crocodile (disputed)\",\"Adult\"],[\"West African Slender-snouted Crocodile\",\"Adult\"],[\"Saltwater Crocodile\",\"Adult\"],[\"West African Dwarf Crocodile\",\"Subadult\"],[\"Saltwater Crocodile\",\"Adult\"],[\"American Crocodile\",\"Subadult\"],[\"Freshwater Crocodile (Johnstone's)\",\"Adult\"],[\"Morelet's Crocodile\",\"Subadult\"],[\"Mugger Crocodile (Marsh Crocodile)\",\"Adult\"],[\"Morelet's Crocodile\",\"Adult\"],[\"Cuban Crocodile\",\"Subadult\"],[\"New Guinea Crocodile\",\"Subadult\"],[\"Siamese Crocodile\",\"Adult\"],[\"Nile Crocodile\",\"Adult\"],[\"Cuban Crocodile\",\"Subadult\"],[\"Congo Dwarf Crocodile\",\"Adult\"],[\"West African Slender-snouted Crocodile\",\"Subadult\"],[\"Hall's New Guinea Crocodile\",\"Subadult\"],[\"Orinoco Crocodile\",\"Adult\"],[\"Nile Crocodile\",\"Subadult\"],[\"Freshwater Crocodile (Johnstone's)\",\"Subadult\"],[\"Borneo Crocodile (disputed)\",\"Adult\"],[\"Morelet's Crocodile\",\"Adult\"],[\"West African Crocodile\",\"Subadult\"],[\"Congo Dwarf Crocodile\",\"Adult\"],[\"Freshwater Crocodile (Johnstone's)\",\"Adult\"],[\"Orinoco Crocodile\",\"Juvenile\"],[\"Congo Dwarf Crocodile\",\"Adult\"],[\"Saltwater Crocodile\",\"Juvenile\"],[\"West African Dwarf Crocodile\",\"Adult\"],[\"American Crocodile\",\"Adult\"],[\"Mugger Crocodile (Marsh Crocodile)\",\"Adult\"],[\"Borneo Crocodile (disputed)\",\"Subadult\"],[\"Orinoco Crocodile\",\"Adult\"],[\"Philippine Crocodile\",\"Adult\"],[\"Nile Crocodile\",\"Juvenile\"],[\"Nile Crocodile\",\"Adult\"],[\"Morelet's Crocodile\",\"Adult\"],[\"Central African Slender-snouted Crocodile\",\"Adult\"],[\"West African Dwarf Crocodile\",\"Subadult\"],[\"Orinoco Crocodile\",\"Subadult\"],[\"Congo Dwarf Crocodile\",\"Subadult\"],[\"Siamese Crocodile\",\"Adult\"],[\"New Guinea Crocodile\",\"Subadult\"],[\"New Guinea Crocodile\",\"Adult\"],[\"Congo Dwarf Crocodile\",\"Adult\"],[\"Central African Slender-snouted Crocodile\",\"Adult\"],[\"Congo Dwarf Crocodile\",\"Subadult\"],[\"Nile Crocodile\",\"Juvenile\"],[\"West African Crocodile\",\"Adult\"],[\"Congo Dwarf Crocodile\",\"Adult\"],[\"Saltwater Crocodile\",\"Adult\"],[\"Cuban Crocodile\",\"Adult\"],[\"Congo Dwarf Crocodile\",\"Adult\"],[\"New Guinea Crocodile\",\"Adult\"],[\"Cuban Crocodile\",\"Juvenile\"],[\"Saltwater Crocodile\",\"Adult\"],[\"West African Slender-snouted Crocodile\",\"Adult\"],[\"Orinoco Crocodile\",\"Juvenile\"],[\"New Guinea Crocodile\",\"Adult\"],[\"Philippine Crocodile\",\"Subadult\"],[\"Mugger Crocodile (Marsh Crocodile)\",\"Subadult\"],[\"Orinoco Crocodile\",\"Subadult\"],[\"Hall's New Guinea Crocodile\",\"Adult\"],[\"New Guinea Crocodile\",\"Adult\"],[\"Cuban Crocodile\",\"Juvenile\"],[\"Siamese Crocodile\",\"Adult\"],[\"West African Slender-snouted Crocodile\",\"Adult\"],[\"Orinoco Crocodile\",\"Adult\"],[\"Mugger Crocodile (Marsh Crocodile)\",\"Subadult\"],[\"Morelet's Crocodile\",\"Subadult\"],[\"Cuban Crocodile\",\"Adult\"],[\"American Crocodile\",\"Juvenile\"],[\"West African Slender-snouted Crocodile\",\"Adult\"],[\"New Guinea Crocodile\",\"Juvenile\"],[\"West African Slender-snouted Crocodile\",\"Adult\"],[\"Saltwater Crocodile\",\"Subadult\"],[\"Hall's New Guinea Crocodile\",\"Subadult\"],[\"West African Slender-snouted Crocodile\",\"Juvenile\"],[\"Mugger Crocodile (Marsh Crocodile)\",\"Adult\"],[\"Freshwater Crocodile (Johnstone's)\",\"Juvenile\"],[\"Morelet's Crocodile\",\"Adult\"],[\"Freshwater Crocodile (Johnstone's)\",\"Subadult\"],[\"Mugger Crocodile (Marsh Crocodile)\",\"Hatchling\"],[\"New Guinea Crocodile\",\"Adult\"],[\"Borneo Crocodile (disputed)\",\"Juvenile\"],[\"Congo Dwarf Crocodile\",\"Adult\"],[\"Saltwater Crocodile\",\"Hatchling\"],[\"New Guinea Crocodile\",\"Adult\"],[\"West African Dwarf Crocodile\",\"Juvenile\"],[\"Cuban Crocodile\",\"Subadult\"],[\"New Guinea Crocodile\",\"Subadult\"],[\"American Crocodile\",\"Adult\"],[\"Borneo Crocodile (disputed)\",\"Adult\"],[\"Cuban Crocodile\",\"Subadult\"],[\"American Crocodile\",\"Adult\"],[\"West African Dwarf Crocodile\",\"Subadult\"],[\"West African Slender-snouted Crocodile\",\"Adult\"],[\"Freshwater Crocodile (Johnstone's)\",\"Adult\"],[\"American Crocodile\",\"Adult\"],[\"Central African Slender-snouted Crocodile\",\"Adult\"],[\"American Crocodile\",\"Juvenile\"],[\"Saltwater Crocodile\",\"Adult\"],[\"Saltwater Crocodile\",\"Subadult\"],[\"Hall's New Guinea Crocodile\",\"Adult\"],[\"Hall's New Guinea Crocodile\",\"Juvenile\"],[\"Cuban Crocodile\",\"Adult\"],[\"Orinoco Crocodile\",\"Adult\"],[\"Central African Slender-snouted Crocodile\",\"Juvenile\"],[\"Nile Crocodile\",\"Subadult\"],[\"Freshwater Crocodile (Johnstone's)\",\"Juvenile\"],[\"Borneo Crocodile (disputed)\",\"Adult\"],[\"Cuban Crocodile\",\"Adult\"],[\"American Crocodile\",\"Juvenile\"],[\"Congo Dwarf Crocodile\",\"Subadult\"],[\"Borneo Crocodile (disputed)\",\"Juvenile\"],[\"Borneo Crocodile (disputed)\",\"Adult\"],[\"New Guinea Crocodile\",\"Adult\"],[\"Freshwater Crocodile (Johnstone's)\",\"Adult\"],[\"American Crocodile\",\"Hatchling\"],[\"West African Crocodile\",\"Adult\"],[\"Cuban Crocodile\",\"Subadult\"],[\"West African Crocodile\",\"Subadult\"],[\"Hall's New Guinea Crocodile\",\"Adult\"],[\"Saltwater Crocodile\",\"Adult\"],[\"Congo Dwarf Crocodile\",\"Subadult\"],[\"Morelet's Crocodile\",\"Subadult\"],[\"Hall's New Guinea Crocodile\",\"Juvenile\"],[\"Borneo Crocodile (disputed)\",\"Subadult\"],[\"Borneo Crocodile (disputed)\",\"Juvenile\"],[\"Saltwater Crocodile\",\"Adult\"],[\"Borneo Crocodile (disputed)\",\"Adult\"],[\"Freshwater Crocodile (Johnstone's)\",\"Subadult\"],[\"Mugger Crocodile (Marsh Crocodile)\",\"Adult\"],[\"Cuban Crocodile\",\"Adult\"],[\"Congo Dwarf Crocodile\",\"Juvenile\"],[\"Nile Crocodile\",\"Adult\"],[\"Siamese Crocodile\",\"Juvenile\"],[\"American Crocodile\",\"Subadult\"],[\"Central African Slender-snouted Crocodile\",\"Adult\"],[\"Morelet's Crocodile\",\"Subadult\"],[\"New Guinea Crocodile\",\"Juvenile\"],[\"Philippine Crocodile\",\"Subadult\"],[\"Orinoco Crocodile\",\"Subadult\"],[\"Cuban Crocodile\",\"Hatchling\"],[\"Saltwater Crocodile\",\"Subadult\"],[\"West African Crocodile\",\"Subadult\"],[\"Philippine Crocodile\",\"Juvenile\"],[\"Philippine Crocodile\",\"Subadult\"],[\"Borneo Crocodile (disputed)\",\"Adult\"],[\"New Guinea Crocodile\",\"Subadult\"],[\"Borneo Crocodile (disputed)\",\"Adult\"],[\"Mugger Crocodile (Marsh Crocodile)\",\"Adult\"],[\"Philippine Crocodile\",\"Adult\"],[\"American Crocodile\",\"Subadult\"],[\"Philippine Crocodile\",\"Adult\"],[\"Philippine Crocodile\",\"Subadult\"],[\"American Crocodile\",\"Subadult\"],[\"Borneo Crocodile (disputed)\",\"Adult\"],[\"Cuban Crocodile\",\"Juvenile\"],[\"New Guinea Crocodile\",\"Subadult\"],[\"Central African Slender-snouted Crocodile\",\"Adult\"],[\"Morelet's Crocodile\",\"Subadult\"],[\"Mugger Crocodile (Marsh Crocodile)\",\"Adult\"],[\"Freshwater Crocodile (Johnstone's)\",\"Juvenile\"],[\"West African Crocodile\",\"Juvenile\"],[\"Congo Dwarf Crocodile\",\"Adult\"],[\"Morelet's Crocodile\",\"Hatchling\"],[\"West African Slender-snouted Crocodile\",\"Adult\"],[\"Mugger Crocodile (Marsh Crocodile)\",\"Subadult\"],[\"West African Crocodile\",\"Juvenile\"],[\"Orinoco Crocodile\",\"Adult\"],[\"Nile Crocodile\",\"Adult\"],[\"Nile Crocodile\",\"Adult\"],[\"Orinoco Crocodile\",\"Adult\"],[\"Siamese Crocodile\",\"Adult\"],[\"Hall's New Guinea Crocodile\",\"Subadult\"],[\"Saltwater Crocodile\",\"Adult\"],[\"Central African Slender-snouted Crocodile\",\"Adult\"],[\"Morelet's Crocodile\",\"Juvenile\"],[\"Morelet's Crocodile\",\"Hatchling\"],[\"Hall's New Guinea Crocodile\",\"Adult\"],[\"West African Dwarf Crocodile\",\"Juvenile\"],[\"West African Dwarf Crocodile\",\"Juvenile\"],[\"Borneo Crocodile (disputed)\",\"Hatchling\"],[\"Morelet's Crocodile\",\"Subadult\"],[\"Borneo Crocodile (disputed)\",\"Juvenile\"],[\"Nile Crocodile\",\"Adult\"],[\"American Crocodile\",\"Juvenile\"],[\"Philippine Crocodile\",\"Adult\"],[\"Philippine Crocodile\",\"Juvenile\"],[\"Morelet's Crocodile\",\"Adult\"],[\"Borneo Crocodile (disputed)\",\"Subadult\"],[\"American Crocodile\",\"Adult\"],[\"Mugger Crocodile (Marsh Crocodile)\",\"Subadult\"],[\"Mugger Crocodile (Marsh Crocodile)\",\"Juvenile\"],[\"Morelet's Crocodile\",\"Subadult\"],[\"Cuban Crocodile\",\"Adult\"],[\"Mugger Crocodile (Marsh Crocodile)\",\"Juvenile\"],[\"Siamese Crocodile\",\"Subadult\"],[\"Philippine Crocodile\",\"Adult\"],[\"Mugger Crocodile (Marsh Crocodile)\",\"Adult\"],[\"Saltwater Crocodile\",\"Juvenile\"],[\"Siamese Crocodile\",\"Hatchling\"],[\"Morelet's Crocodile\",\"Adult\"],[\"West African Dwarf Crocodile\",\"Adult\"],[\"West African Crocodile\",\"Subadult\"],[\"Saltwater Crocodile\",\"Adult\"],[\"American Crocodile\",\"Adult\"],[\"West African Crocodile\",\"Subadult\"],[\"Borneo Crocodile (disputed)\",\"Juvenile\"],[\"Siamese Crocodile\",\"Adult\"],[\"Congo Dwarf Crocodile\",\"Adult\"],[\"Borneo Crocodile (disputed)\",\"Subadult\"],[\"Philippine Crocodile\",\"Subadult\"],[\"Congo Dwarf Crocodile\",\"Subadult\"],[\"Congo Dwarf Crocodile\",\"Juvenile\"],[\"Cuban Crocodile\",\"Hatchling\"],[\"Siamese Crocodile\",\"Adult\"],[\"Hall's New Guinea Crocodile\",\"Adult\"],[\"Congo Dwarf Crocodile\",\"Subadult\"],[\"Morelet's Crocodile\",\"Subadult\"],[\"New Guinea Crocodile\",\"Juvenile\"],[\"American Crocodile\",\"Adult\"],[\"West African Slender-snouted Crocodile\",\"Adult\"],[\"Borneo Crocodile (disputed)\",\"Adult\"],[\"Congo Dwarf Crocodile\",\"Hatchling\"],[\"Cuban Crocodile\",\"Adult\"],[\"Borneo Crocodile (disputed)\",\"Adult\"],[\"Philippine Crocodile\",\"Adult\"],[\"Nile Crocodile\",\"Adult\"],[\"Philippine Crocodile\",\"Juvenile\"],[\"Hall's New Guinea Crocodile\",\"Juvenile\"],[\"Nile Crocodile\",\"Adult\"],[\"American Crocodile\",\"Adult\"],[\"Philippine Crocodile\",\"Subadult\"],[\"New Guinea Crocodile\",\"Adult\"],[\"West African Dwarf Crocodile\",\"Subadult\"],[\"Central African Slender-snouted Crocodile\",\"Subadult\"],[\"Orinoco Crocodile\",\"Adult\"],[\"Philippine Crocodile\",\"Subadult\"],[\"Central African Slender-snouted Crocodile\",\"Subadult\"],[\"Borneo Crocodile (disputed)\",\"Adult\"],[\"West African Slender-snouted Crocodile\",\"Adult\"],[\"Cuban Crocodile\",\"Subadult\"],[\"Hall's New Guinea Crocodile\",\"Adult\"],[\"American Crocodile\",\"Subadult\"],[\"Siamese Crocodile\",\"Hatchling\"],[\"New Guinea Crocodile\",\"Adult\"],[\"Orinoco Crocodile\",\"Adult\"],[\"Hall's New Guinea Crocodile\",\"Adult\"],[\"Hall's New Guinea Crocodile\",\"Adult\"],[\"West African Slender-snouted Crocodile\",\"Hatchling\"],[\"Borneo Crocodile (disputed)\",\"Adult\"],[\"Orinoco Crocodile\",\"Adult\"],[\"Hall's New Guinea Crocodile\",\"Juvenile\"],[\"Borneo Crocodile (disputed)\",\"Juvenile\"],[\"Saltwater Crocodile\",\"Adult\"],[\"Orinoco Crocodile\",\"Adult\"],[\"Central African Slender-snouted Crocodile\",\"Adult\"],[\"Saltwater Crocodile\",\"Adult\"],[\"Central African Slender-snouted Crocodile\",\"Subadult\"],[\"Morelet's Crocodile\",\"Subadult\"],[\"Morelet's Crocodile\",\"Adult\"],[\"West African Slender-snouted Crocodile\",\"Subadult\"],[\"Borneo Crocodile (disputed)\",\"Subadult\"],[\"American Crocodile\",\"Adult\"],[\"New Guinea Crocodile\",\"Adult\"],[\"Philippine Crocodile\",\"Adult\"],[\"Cuban Crocodile\",\"Adult\"],[\"West African Crocodile\",\"Adult\"],[\"Nile Crocodile\",\"Adult\"],[\"Congo Dwarf Crocodile\",\"Subadult\"],[\"West African Slender-snouted Crocodile\",\"Adult\"],[\"Mugger Crocodile (Marsh Crocodile)\",\"Hatchling\"],[\"Central African Slender-snouted Crocodile\",\"Adult\"],[\"American Crocodile\",\"Adult\"],[\"Borneo Crocodile (disputed)\",\"Adult\"],[\"Hall's New Guinea Crocodile\",\"Juvenile\"],[\"Morelet's Crocodile\",\"Adult\"],[\"Nile Crocodile\",\"Subadult\"],[\"West African Slender-snouted Crocodile\",\"Juvenile\"],[\"Orinoco Crocodile\",\"Adult\"],[\"Borneo Crocodile (disputed)\",\"Adult\"],[\"West African Slender-snouted Crocodile\",\"Subadult\"],[\"Nile Crocodile\",\"Juvenile\"],[\"Borneo Crocodile (disputed)\",\"Adult\"],[\"Orinoco Crocodile\",\"Juvenile\"],[\"Morelet's Crocodile\",\"Subadult\"],[\"Morelet's Crocodile\",\"Adult\"],[\"Central African Slender-snouted Crocodile\",\"Hatchling\"],[\"Hall's New Guinea Crocodile\",\"Juvenile\"]],\"hovertemplate\":\"sex=Unknown<br>observed_length_m=%{x}<br>observed_weight_kg=%{y}<br>common_name=%{customdata[0]}<br>age_class=%{customdata[1]}<extra></extra>\",\"legendgroup\":\"Unknown\",\"marker\":{\"color\":\"#EF553B\",\"symbol\":\"circle\"},\"mode\":\"markers\",\"name\":\"Unknown\",\"orientation\":\"v\",\"showlegend\":true,\"x\":[1.08,3.75,0.35,2.63,2.0,1.98,1.07,2.52,0.34,3.22,2.04,1.01,0.76,2.96,3.25,0.29,2.33,3.04,2.96,5.83,2.05,3.04,2.56,3.66,1.2,2.63,2.13,0.79,1.23,2.82,2.76,2.45,2.51,3.32,3.88,2.21,4.86,2.27,2.93,2.26,1.77,1.59,1.77,4.68,3.32,2.87,3.32,1.55,2.26,2.81,3.05,2.82,2.5,1.94,2.36,2.45,1.53,0.88,0.16,2.21,2.22,0.96,3.1,2.75,5.48,1.13,4.21,3.75,2.85,2.79,2.98,2.18,2.13,2.36,2.89,4.62,2.96,1.51,2.23,2.76,3.88,3.14,1.94,2.94,1.9,1.99,1.46,1.69,2.14,1.42,3.55,1.03,3.51,3.53,3.06,2.82,2.31,2.68,5.18,2.67,2.69,1.28,3.25,1.31,2.76,2.29,2.89,1.2,3.06,1.11,1.63,2.78,1.35,3.62,2.61,1.12,2.26,1.51,4.33,2.94,1.9,2.73,1.73,3.22,2.8,2.28,2.33,1.94,2.13,3.32,3.49,2.8,2.59,2.92,2.02,3.28,1.46,2.28,4.16,3.03,0.88,3.25,1.58,1.82,2.06,0.64,2.6,1.66,1.73,0.53,3.12,0.46,2.92,2.02,3.07,3.44,2.11,3.02,1.31,2.93,2.31,3.85,2.55,1.54,4.33,3.74,3.25,1.23,2.63,3.87,0.7,3.83,0.91,3.52,2.34,1.68,1.37,0.93,2.52,2.96,2.01,0.28,2.41,2.63,2.77,2.85,4.71,1.13,2.35,1.0,2.78,2.25,5.79,3.44,1.96,3.65,2.7,0.33,4.35,0.91,3.62,2.82,2.58,0.72,2.05,3.9,0.46,4.99,2.32,1.16,2.08,2.6,2.85,2.94,3.61,2.3,2.6,2.29,2.23,3.71,2.83,1.35,2.56,2.68,2.16,3.42,0.8,1.74,1.52,0.26,2.53,3.46,1.58,4.02,4.29,4.18,3.98,2.29,2.58,4.51,2.51,1.05,0.17,2.53,0.43,0.69,0.53,2.89,1.92,3.59,2.63,1.52,0.7,2.76,3.11,3.64,3.3,2.5,2.66,2.96,1.99,2.34,1.8,3.26,3.58,0.6,2.96,1.49,2.05,4.33,3.18,2.17,1.55,2.76,1.71,2.25,2.09,1.15,1.06,0.56,1.98,2.9,1.3,2.79,1.86,4.18,3.07,2.98,0.14,2.12,3.23,2.33,4.14,1.48,0.95,4.22,2.71,1.86,2.88,1.35,2.22,3.98,1.69,2.35,3.16,2.62,2.69,3.03,3.09,0.27,2.21,4.79,2.74,2.83,0.61,3.6,4.54,0.8,2.02,4.1,4.16,2.08,5.13,2.27,2.9,2.47,2.76,2.59,3.74,2.81,2.27,3.14,2.6,3.43,1.28,3.06,0.47,2.69,3.67,2.18,1.93,3.1,4.5,1.48,3.38,3.02,2.84,2.07,2.37,1.73,2.1,2.3,0.35,1.73],\"xaxis\":\"x\",\"y\":[118.2,269.4,4.7,121.3,67.9,61.5,31.1,89.6,42.4,196.6,80.2,28.9,36.7,182.7,195.6,33.2,74.0,155.0,149.9,953.9,70.8,133.9,136.2,262.6,38.0,107.9,86.4,34.2,13.1,159.3,152.5,75.8,102.4,309.5,273.6,64.9,760.5,76.7,147.4,74.5,159.9,37.4,38.1,692.4,163.4,199.9,213.1,47.9,74.0,126.9,344.0,129.1,120.6,65.9,87.9,121.0,20.3,32.3,28.2,76.1,74.6,10.8,146.8,143.8,878.6,12.3,517.3,259.1,122.1,123.4,153.5,75.2,75.2,83.0,160.1,712.0,120.7,23.7,105.1,94.8,346.7,336.8,54.2,139.7,55.3,78.3,23.3,45.7,143.0,25.1,405.8,10.4,241.3,233.8,162.8,223.0,84.8,286.7,848.2,118.9,125.4,15.4,253.9,21.1,125.2,83.8,144.5,16.9,180.7,14.6,169.1,153.8,23.0,437.6,119.8,15.5,83.5,59.1,658.3,142.5,121.2,104.6,45.3,193.4,218.0,73.1,82.0,71.6,74.7,230.9,305.4,149.4,87.1,139.4,92.5,217.2,41.8,114.0,558.3,145.9,37.6,186.3,36.6,59.0,63.1,47.8,89.9,51.4,36.9,263.9,166.5,5.2,146.9,62.4,195.5,197.1,77.1,183.4,17.3,178.8,62.6,273.7,114.9,91.4,550.0,517.7,147.9,38.0,103.0,347.9,33.4,461.5,26.9,191.7,94.9,102.0,18.9,36.6,106.0,118.0,60.8,73.1,96.7,97.3,133.6,125.8,695.5,12.3,87.5,37.4,127.4,77.0,904.4,200.8,57.1,249.9,115.8,5.5,507.6,36.9,210.4,160.9,87.1,33.8,71.9,428.9,36.7,779.4,102.4,25.5,66.9,101.0,122.1,122.6,210.9,78.4,130.0,84.4,87.7,275.8,125.6,44.0,95.7,134.5,73.6,223.3,24.0,63.9,29.1,34.1,140.1,208.3,48.3,441.0,647.7,571.8,357.4,88.8,91.1,642.3,103.1,35.0,26.0,80.7,5.0,6.4,34.2,134.6,62.6,338.5,140.2,44.6,20.0,115.5,180.2,211.9,214.5,109.2,120.3,139.6,91.7,90.2,44.7,184.9,498.9,29.0,132.0,25.2,74.1,517.9,215.0,91.9,40.9,129.6,38.4,69.6,73.8,14.0,11.5,38.0,69.6,104.1,19.0,115.1,49.2,349.6,183.9,152.6,4.4,79.5,185.8,73.5,515.7,42.6,33.9,482.8,124.6,47.5,115.5,19.8,83.9,445.1,51.5,105.8,155.2,120.6,102.7,118.1,187.3,32.7,77.3,718.2,96.4,119.8,44.6,263.2,593.9,27.7,70.2,514.5,404.5,86.9,765.1,88.4,126.3,86.4,137.8,108.0,252.0,130.0,79.3,173.0,111.8,317.9,20.5,185.2,51.1,125.3,269.8,81.8,61.7,143.3,598.5,63.6,310.3,133.1,138.2,202.3,76.0,117.2,78.2,80.3,26.5,47.4],\"yaxis\":\"y\",\"type\":\"scatter\"},{\"customdata\":[[\"West African Dwarf Crocodile\",\"Adult\"],[\"Nile Crocodile\",\"Adult\"],[\"Mugger Crocodile (Marsh Crocodile)\",\"Adult\"],[\"Orinoco Crocodile\",\"Adult\"],[\"American Crocodile\",\"Adult\"],[\"Cuban Crocodile\",\"Adult\"],[\"West African Dwarf Crocodile\",\"Adult\"],[\"Freshwater Crocodile (Johnstone's)\",\"Juvenile\"],[\"West African Crocodile\",\"Subadult\"],[\"Nile Crocodile\",\"Subadult\"],[\"Orinoco Crocodile\",\"Subadult\"],[\"New Guinea Crocodile\",\"Subadult\"],[\"American Crocodile\",\"Adult\"],[\"New Guinea Crocodile\",\"Subadult\"],[\"West African Slender-snouted Crocodile\",\"Juvenile\"],[\"Orinoco Crocodile\",\"Hatchling\"],[\"West African Dwarf Crocodile\",\"Adult\"],[\"Freshwater Crocodile (Johnstone's)\",\"Adult\"],[\"Congo Dwarf Crocodile\",\"Subadult\"],[\"Cuban Crocodile\",\"Adult\"],[\"West African Slender-snouted Crocodile\",\"Adult\"],[\"Nile Crocodile\",\"Subadult\"],[\"Morelet's Crocodile\",\"Adult\"],[\"Central African Slender-snouted Crocodile\",\"Juvenile\"],[\"Saltwater Crocodile\",\"Adult\"],[\"Morelet's Crocodile\",\"Juvenile\"],[\"Morelet's Crocodile\",\"Adult\"],[\"West African Crocodile\",\"Subadult\"],[\"West African Crocodile\",\"Adult\"],[\"West African Slender-snouted Crocodile\",\"Adult\"],[\"West African Crocodile\",\"Subadult\"],[\"Freshwater Crocodile (Johnstone's)\",\"Adult\"],[\"Saltwater Crocodile\",\"Subadult\"],[\"Saltwater Crocodile\",\"Subadult\"],[\"Orinoco Crocodile\",\"Adult\"],[\"West African Dwarf Crocodile\",\"Juvenile\"],[\"West African Dwarf Crocodile\",\"Adult\"],[\"Mugger Crocodile (Marsh Crocodile)\",\"Adult\"],[\"Siamese Crocodile\",\"Adult\"],[\"Cuban Crocodile\",\"Subadult\"],[\"New Guinea Crocodile\",\"Juvenile\"],[\"West African Crocodile\",\"Juvenile\"],[\"Borneo Crocodile (disputed)\",\"Adult\"],[\"Morelet's Crocodile\",\"Adult\"],[\"Freshwater Crocodile (Johnstone's)\",\"Adult\"],[\"Borneo Crocodile (disputed)\",\"Subadult\"],[\"Congo Dwarf Crocodile\",\"Juvenile\"],[\"Siamese Crocodile\",\"Juvenile\"],[\"Nile Crocodile\",\"Subadult\"],[\"American Crocodile\",\"Hatchling\"],[\"New Guinea Crocodile\",\"Adult\"],[\"Congo Dwarf Crocodile\",\"Adult\"],[\"American Crocodile\",\"Juvenile\"],[\"Central African Slender-snouted Crocodile\",\"Juvenile\"],[\"Orinoco Crocodile\",\"Adult\"],[\"Saltwater Crocodile\",\"Adult\"],[\"New Guinea Crocodile\",\"Adult\"],[\"Cuban Crocodile\",\"Juvenile\"],[\"Central African Slender-snouted Crocodile\",\"Hatchling\"],[\"West African Dwarf Crocodile\",\"Subadult\"],[\"Borneo Crocodile (disputed)\",\"Juvenile\"],[\"Borneo Crocodile (disputed)\",\"Subadult\"],[\"Nile Crocodile\",\"Hatchling\"],[\"Congo Dwarf Crocodile\",\"Adult\"],[\"Saltwater Crocodile\",\"Adult\"],[\"Central African Slender-snouted Crocodile\",\"Hatchling\"],[\"New Guinea Crocodile\",\"Juvenile\"],[\"American Crocodile\",\"Adult\"],[\"American Crocodile\",\"Juvenile\"],[\"Orinoco Crocodile\",\"Juvenile\"],[\"West African Crocodile\",\"Adult\"],[\"New Guinea Crocodile\",\"Juvenile\"],[\"Borneo Crocodile (disputed)\",\"Adult\"],[\"Central African Slender-snouted Crocodile\",\"Adult\"],[\"Nile Crocodile\",\"Adult\"],[\"Mugger Crocodile (Marsh Crocodile)\",\"Subadult\"],[\"Cuban Crocodile\",\"Juvenile\"],[\"Saltwater Crocodile\",\"Juvenile\"],[\"Siamese Crocodile\",\"Adult\"],[\"West African Slender-snouted Crocodile\",\"Adult\"],[\"Saltwater Crocodile\",\"Adult\"],[\"Congo Dwarf Crocodile\",\"Adult\"],[\"New Guinea Crocodile\",\"Juvenile\"],[\"Freshwater Crocodile (Johnstone's)\",\"Juvenile\"],[\"Philippine Crocodile\",\"Adult\"],[\"Congo Dwarf Crocodile\",\"Subadult\"],[\"Saltwater Crocodile\",\"Juvenile\"],[\"Hall's New Guinea Crocodile\",\"Juvenile\"],[\"Borneo Crocodile (disputed)\",\"Adult\"],[\"American Crocodile\",\"Subadult\"],[\"Freshwater Crocodile (Johnstone's)\",\"Juvenile\"],[\"Borneo Crocodile (disputed)\",\"Adult\"],[\"Saltwater Crocodile\",\"Subadult\"],[\"West African Crocodile\",\"Juvenile\"],[\"Siamese Crocodile\",\"Adult\"],[\"American Crocodile\",\"Adult\"],[\"West African Crocodile\",\"Adult\"],[\"West African Slender-snouted Crocodile\",\"Subadult\"],[\"Mugger Crocodile (Marsh Crocodile)\",\"Hatchling\"],[\"Siamese Crocodile\",\"Adult\"],[\"Congo Dwarf Crocodile\",\"Juvenile\"],[\"Congo Dwarf Crocodile\",\"Subadult\"],[\"Central African Slender-snouted Crocodile\",\"Adult\"],[\"New Guinea Crocodile\",\"Subadult\"],[\"West African Slender-snouted Crocodile\",\"Adult\"],[\"Central African Slender-snouted Crocodile\",\"Adult\"],[\"Congo Dwarf Crocodile\",\"Adult\"],[\"Philippine Crocodile\",\"Juvenile\"],[\"West African Dwarf Crocodile\",\"Juvenile\"],[\"Nile Crocodile\",\"Adult\"],[\"Philippine Crocodile\",\"Subadult\"],[\"American Crocodile\",\"Subadult\"],[\"American Crocodile\",\"Adult\"],[\"Central African Slender-snouted Crocodile\",\"Adult\"],[\"Cuban Crocodile\",\"Adult\"],[\"Hall's New Guinea Crocodile\",\"Adult\"],[\"Freshwater Crocodile (Johnstone's)\",\"Adult\"],[\"Philippine Crocodile\",\"Adult\"],[\"Freshwater Crocodile (Johnstone's)\",\"Adult\"],[\"Morelet's Crocodile\",\"Juvenile\"],[\"New Guinea Crocodile\",\"Juvenile\"],[\"New Guinea Crocodile\",\"Juvenile\"],[\"West African Slender-snouted Crocodile\",\"Subadult\"],[\"Congo Dwarf Crocodile\",\"Adult\"],[\"Mugger Crocodile (Marsh Crocodile)\",\"Adult\"],[\"Saltwater Crocodile\",\"Juvenile\"],[\"Congo Dwarf Crocodile\",\"Subadult\"],[\"Freshwater Crocodile (Johnstone's)\",\"Adult\"],[\"New Guinea Crocodile\",\"Adult\"],[\"West African Crocodile\",\"Adult\"],[\"American Crocodile\",\"Hatchling\"],[\"Central African Slender-snouted Crocodile\",\"Juvenile\"],[\"Nile Crocodile\",\"Subadult\"],[\"Cuban Crocodile\",\"Adult\"],[\"Congo Dwarf Crocodile\",\"Subadult\"],[\"Borneo Crocodile (disputed)\",\"Juvenile\"],[\"Central African Slender-snouted Crocodile\",\"Subadult\"],[\"Mugger Crocodile (Marsh Crocodile)\",\"Adult\"],[\"New Guinea Crocodile\",\"Adult\"],[\"Hall's New Guinea Crocodile\",\"Adult\"],[\"Borneo Crocodile (disputed)\",\"Juvenile\"],[\"Cuban Crocodile\",\"Subadult\"],[\"Morelet's Crocodile\",\"Adult\"],[\"Morelet's Crocodile\",\"Adult\"],[\"Nile Crocodile\",\"Adult\"],[\"Central African Slender-snouted Crocodile\",\"Subadult\"],[\"Orinoco Crocodile\",\"Juvenile\"],[\"West African Crocodile\",\"Adult\"],[\"Freshwater Crocodile (Johnstone's)\",\"Hatchling\"],[\"Siamese Crocodile\",\"Juvenile\"],[\"Central African Slender-snouted Crocodile\",\"Subadult\"],[\"Orinoco Crocodile\",\"Adult\"],[\"Freshwater Crocodile (Johnstone's)\",\"Juvenile\"],[\"Philippine Crocodile\",\"Juvenile\"],[\"West African Dwarf Crocodile\",\"Adult\"],[\"Philippine Crocodile\",\"Subadult\"],[\"West African Crocodile\",\"Adult\"],[\"New Guinea Crocodile\",\"Subadult\"],[\"Nile Crocodile\",\"Adult\"],[\"West African Slender-snouted Crocodile\",\"Hatchling\"],[\"Cuban Crocodile\",\"Juvenile\"],[\"Morelet's Crocodile\",\"Juvenile\"],[\"Nile Crocodile\",\"Adult\"],[\"West African Crocodile\",\"Adult\"],[\"Orinoco Crocodile\",\"Juvenile\"],[\"Cuban Crocodile\",\"Subadult\"],[\"Siamese Crocodile\",\"Adult\"],[\"Freshwater Crocodile (Johnstone's)\",\"Hatchling\"],[\"Cuban Crocodile\",\"Adult\"],[\"Borneo Crocodile (disputed)\",\"Subadult\"],[\"Orinoco Crocodile\",\"Subadult\"],[\"Saltwater Crocodile\",\"Subadult\"],[\"Cuban Crocodile\",\"Subadult\"],[\"Philippine Crocodile\",\"Hatchling\"],[\"Borneo Crocodile (disputed)\",\"Adult\"],[\"West African Dwarf Crocodile\",\"Juvenile\"],[\"Morelet's Crocodile\",\"Hatchling\"],[\"Mugger Crocodile (Marsh Crocodile)\",\"Subadult\"],[\"West African Crocodile\",\"Adult\"],[\"New Guinea Crocodile\",\"Adult\"],[\"Saltwater Crocodile\",\"Subadult\"],[\"American Crocodile\",\"Subadult\"],[\"Mugger Crocodile (Marsh Crocodile)\",\"Subadult\"],[\"Freshwater Crocodile (Johnstone's)\",\"Adult\"],[\"New Guinea Crocodile\",\"Juvenile\"],[\"American Crocodile\",\"Hatchling\"],[\"Central African Slender-snouted Crocodile\",\"Subadult\"],[\"Freshwater Crocodile (Johnstone's)\",\"Subadult\"],[\"Philippine Crocodile\",\"Adult\"],[\"Congo Dwarf Crocodile\",\"Adult\"],[\"Mugger Crocodile (Marsh Crocodile)\",\"Subadult\"],[\"Orinoco Crocodile\",\"Subadult\"],[\"New Guinea Crocodile\",\"Subadult\"],[\"Saltwater Crocodile\",\"Subadult\"],[\"Philippine Crocodile\",\"Adult\"],[\"Philippine Crocodile\",\"Adult\"],[\"West African Crocodile\",\"Juvenile\"],[\"Cuban Crocodile\",\"Adult\"],[\"West African Crocodile\",\"Subadult\"],[\"Morelet's Crocodile\",\"Adult\"],[\"Borneo Crocodile (disputed)\",\"Subadult\"],[\"West African Slender-snouted Crocodile\",\"Juvenile\"],[\"Cuban Crocodile\",\"Adult\"],[\"West African Dwarf Crocodile\",\"Adult\"],[\"Saltwater Crocodile\",\"Juvenile\"],[\"Siamese Crocodile\",\"Juvenile\"],[\"West African Dwarf Crocodile\",\"Adult\"],[\"Congo Dwarf Crocodile\",\"Subadult\"],[\"Cuban Crocodile\",\"Subadult\"],[\"American Crocodile\",\"Adult\"],[\"Siamese Crocodile\",\"Hatchling\"],[\"Siamese Crocodile\",\"Subadult\"],[\"Philippine Crocodile\",\"Juvenile\"],[\"Orinoco Crocodile\",\"Adult\"],[\"Philippine Crocodile\",\"Subadult\"],[\"Orinoco Crocodile\",\"Hatchling\"],[\"Mugger Crocodile (Marsh Crocodile)\",\"Adult\"],[\"Mugger Crocodile (Marsh Crocodile)\",\"Adult\"],[\"Cuban Crocodile\",\"Subadult\"],[\"Freshwater Crocodile (Johnstone's)\",\"Subadult\"],[\"Hall's New Guinea Crocodile\",\"Adult\"],[\"West African Crocodile\",\"Juvenile\"],[\"New Guinea Crocodile\",\"Adult\"],[\"Nile Crocodile\",\"Subadult\"],[\"Hall's New Guinea Crocodile\",\"Adult\"],[\"West African Slender-snouted Crocodile\",\"Adult\"],[\"Hall's New Guinea Crocodile\",\"Adult\"],[\"Saltwater Crocodile\",\"Adult\"],[\"American Crocodile\",\"Adult\"],[\"Philippine Crocodile\",\"Adult\"],[\"American Crocodile\",\"Adult\"],[\"Philippine Crocodile\",\"Adult\"],[\"Borneo Crocodile (disputed)\",\"Adult\"],[\"Saltwater Crocodile\",\"Subadult\"],[\"Nile Crocodile\",\"Juvenile\"],[\"Philippine Crocodile\",\"Adult\"],[\"Cuban Crocodile\",\"Juvenile\"],[\"West African Slender-snouted Crocodile\",\"Hatchling\"],[\"Borneo Crocodile (disputed)\",\"Subadult\"],[\"West African Dwarf Crocodile\",\"Adult\"],[\"Mugger Crocodile (Marsh Crocodile)\",\"Adult\"],[\"Morelet's Crocodile\",\"Subadult\"],[\"Philippine Crocodile\",\"Subadult\"],[\"West African Slender-snouted Crocodile\",\"Subadult\"],[\"Cuban Crocodile\",\"Subadult\"],[\"West African Dwarf Crocodile\",\"Adult\"],[\"West African Dwarf Crocodile\",\"Subadult\"],[\"Orinoco Crocodile\",\"Juvenile\"],[\"West African Dwarf Crocodile\",\"Adult\"],[\"Orinoco Crocodile\",\"Juvenile\"],[\"Congo Dwarf Crocodile\",\"Hatchling\"],[\"Mugger Crocodile (Marsh Crocodile)\",\"Subadult\"],[\"Freshwater Crocodile (Johnstone's)\",\"Subadult\"],[\"American Crocodile\",\"Adult\"],[\"Orinoco Crocodile\",\"Adult\"],[\"Mugger Crocodile (Marsh Crocodile)\",\"Adult\"],[\"Hall's New Guinea Crocodile\",\"Subadult\"],[\"New Guinea Crocodile\",\"Adult\"],[\"Orinoco Crocodile\",\"Adult\"],[\"Central African Slender-snouted Crocodile\",\"Juvenile\"],[\"Borneo Crocodile (disputed)\",\"Adult\"],[\"Nile Crocodile\",\"Adult\"],[\"New Guinea Crocodile\",\"Adult\"],[\"Hall's New Guinea Crocodile\",\"Adult\"],[\"Siamese Crocodile\",\"Adult\"],[\"American Crocodile\",\"Juvenile\"],[\"Congo Dwarf Crocodile\",\"Adult\"],[\"Cuban Crocodile\",\"Adult\"],[\"Morelet's Crocodile\",\"Juvenile\"],[\"Hall's New Guinea Crocodile\",\"Juvenile\"],[\"Philippine Crocodile\",\"Subadult\"],[\"Saltwater Crocodile\",\"Adult\"],[\"Siamese Crocodile\",\"Adult\"],[\"Philippine Crocodile\",\"Adult\"],[\"New Guinea Crocodile\",\"Juvenile\"],[\"Saltwater Crocodile\",\"Adult\"],[\"Orinoco Crocodile\",\"Subadult\"],[\"Orinoco Crocodile\",\"Adult\"],[\"Cuban Crocodile\",\"Adult\"],[\"Mugger Crocodile (Marsh Crocodile)\",\"Adult\"],[\"Central African Slender-snouted Crocodile\",\"Adult\"],[\"West African Crocodile\",\"Adult\"],[\"Siamese Crocodile\",\"Adult\"],[\"West African Crocodile\",\"Adult\"],[\"American Crocodile\",\"Juvenile\"],[\"West African Crocodile\",\"Adult\"],[\"Morelet's Crocodile\",\"Subadult\"],[\"Mugger Crocodile (Marsh Crocodile)\",\"Subadult\"],[\"Morelet's Crocodile\",\"Adult\"],[\"Mugger Crocodile (Marsh Crocodile)\",\"Juvenile\"],[\"West African Dwarf Crocodile\",\"Subadult\"],[\"Philippine Crocodile\",\"Adult\"],[\"New Guinea Crocodile\",\"Adult\"],[\"Philippine Crocodile\",\"Adult\"],[\"Mugger Crocodile (Marsh Crocodile)\",\"Subadult\"],[\"West African Crocodile\",\"Adult\"],[\"New Guinea Crocodile\",\"Subadult\"],[\"Mugger Crocodile (Marsh Crocodile)\",\"Adult\"],[\"West African Dwarf Crocodile\",\"Adult\"],[\"West African Dwarf Crocodile\",\"Adult\"],[\"Freshwater Crocodile (Johnstone's)\",\"Adult\"],[\"Orinoco Crocodile\",\"Adult\"],[\"Central African Slender-snouted Crocodile\",\"Hatchling\"],[\"Philippine Crocodile\",\"Subadult\"],[\"West African Slender-snouted Crocodile\",\"Adult\"],[\"Morelet's Crocodile\",\"Juvenile\"],[\"Cuban Crocodile\",\"Juvenile\"],[\"Siamese Crocodile\",\"Adult\"],[\"Central African Slender-snouted Crocodile\",\"Adult\"],[\"Hall's New Guinea Crocodile\",\"Subadult\"],[\"West African Crocodile\",\"Adult\"],[\"Philippine Crocodile\",\"Subadult\"],[\"Nile Crocodile\",\"Adult\"],[\"Morelet's Crocodile\",\"Adult\"],[\"West African Dwarf Crocodile\",\"Adult\"],[\"Freshwater Crocodile (Johnstone's)\",\"Adult\"],[\"Siamese Crocodile\",\"Adult\"],[\"West African Dwarf Crocodile\",\"Juvenile\"],[\"Morelet's Crocodile\",\"Adult\"],[\"West African Crocodile\",\"Adult\"],[\"Hall's New Guinea Crocodile\",\"Subadult\"]],\"hovertemplate\":\"sex=Female<br>observed_length_m=%{x}<br>observed_weight_kg=%{y}<br>common_name=%{customdata[0]}<br>age_class=%{customdata[1]}<extra></extra>\",\"legendgroup\":\"Female\",\"marker\":{\"color\":\"#00cc96\",\"symbol\":\"circle\"},\"mode\":\"markers\",\"name\":\"Female\",\"orientation\":\"v\",\"showlegend\":true,\"x\":[1.32,4.37,3.39,4.71,4.11,2.42,1.48,1.05,2.72,3.57,3.4,2.51,3.57,2.97,1.77,0.43,1.18,1.93,1.25,2.23,2.9,4.34,2.15,1.69,5.07,1.1,2.31,2.7,3.08,2.58,2.54,2.57,3.59,5.1,4.55,0.86,1.37,3.19,2.88,2.07,1.52,2.07,3.68,2.42,2.17,3.27,0.6,0.94,3.85,0.36,2.31,1.49,1.69,1.12,3.7,5.32,2.1,2.01,0.5,1.03,0.76,2.54,0.56,1.51,6.02,0.33,1.2,2.77,1.92,2.99,2.98,1.74,2.79,2.86,3.56,2.87,1.56,3.08,2.85,2.08,4.19,1.51,1.76,1.47,2.48,1.47,3.65,1.34,2.81,3.3,1.75,3.0,3.81,1.36,2.81,3.05,2.28,2.95,0.61,2.92,0.9,1.09,2.64,2.5,2.87,2.08,1.28,1.42,0.78,4.1,1.61,3.25,4.07,2.72,3.27,2.81,1.91,1.46,1.89,1.88,1.04,1.84,2.92,1.52,2.66,3.18,1.51,2.07,2.16,2.81,0.49,1.13,3.91,2.91,1.06,1.95,2.2,2.52,2.25,2.95,2.31,2.88,2.82,3.0,3.43,2.29,2.66,2.76,0.27,1.87,2.4,3.77,0.84,1.45,1.61,2.25,2.7,2.22,3.78,0.26,1.95,0.79,4.41,2.61,1.42,2.73,2.66,0.39,3.1,2.52,4.24,4.18,2.76,0.41,2.2,1.01,0.32,2.51,2.74,2.39,4.31,2.97,2.78,2.63,1.24,0.37,1.95,2.34,2.31,1.42,3.09,3.66,1.95,4.44,1.62,2.0,2.04,2.82,2.4,1.76,2.68,1.33,3.38,1.29,1.28,1.49,1.24,1.38,2.95,4.18,0.43,2.59,1.3,4.35,1.68,0.34,2.9,3.91,2.4,2.26,3.41,0.73,2.48,4.39,2.49,2.43,3.42,4.21,4.33,1.78,3.57,2.32,3.17,3.8,2.86,1.61,1.22,0.53,2.26,1.31,3.49,2.64,2.27,1.99,2.12,1.32,0.98,1.41,1.26,2.63,0.17,3.01,2.07,3.45,4.16,2.69,2.97,2.45,3.57,1.87,2.65,3.38,2.35,3.24,2.52,2.46,1.55,2.16,1.52,0.94,1.94,5.2,2.86,1.68,1.98,5.48,3.9,3.26,2.56,3.07,2.01,2.69,2.98,2.05,1.81,2.26,2.35,3.72,1.76,1.22,1.01,2.34,2.75,1.89,3.01,2.99,2.23,3.97,1.3,1.46,2.4,3.61,0.19,1.98,3.21,0.6,1.79,2.69,3.02,3.01,2.9,2.17,4.68,2.41,1.01,2.14,3.04,0.39,3.4,2.55,2.27],\"xaxis\":\"x\",\"y\":[19.2,565.0,174.9,576.6,324.4,85.6,21.9,24.0,150.3,387.4,316.6,87.4,229.3,120.1,71.7,93.9,12.5,46.7,19.3,81.8,165.4,596.2,75.1,63.7,791.7,41.1,90.9,131.1,188.3,109.7,104.3,82.1,402.7,827.2,524.1,8.1,18.1,153.6,154.9,64.8,39.0,75.5,273.7,78.6,60.6,177.7,6.9,39.1,479.0,70.2,88.7,26.9,90.7,41.7,328.6,868.3,70.3,64.3,26.4,11.3,29.5,103.5,133.9,22.3,1085.6,32.6,40.7,130.0,107.4,215.3,190.6,48.3,133.3,164.1,437.1,160.3,47.1,418.9,151.8,82.8,541.7,23.7,48.7,30.9,104.1,25.1,449.3,43.5,138.5,218.0,42.5,130.3,493.9,45.7,127.1,188.0,97.8,170.0,56.4,166.7,9.0,13.9,129.9,97.3,168.0,88.4,19.0,33.3,6.5,513.9,40.4,194.1,352.7,155.3,191.8,110.9,54.2,34.7,42.6,60.1,31.5,60.9,161.0,22.6,116.2,473.1,28.4,53.4,70.5,134.0,63.2,40.5,512.7,114.2,11.2,70.7,79.3,118.3,86.8,126.0,88.6,125.2,133.4,129.6,334.3,88.5,209.5,126.9,19.9,57.7,98.0,400.0,25.0,41.6,25.0,74.6,118.5,66.0,419.4,44.6,69.2,32.4,646.1,136.8,110.1,108.8,115.8,18.0,156.3,100.7,444.1,542.3,126.3,17.5,67.4,10.0,34.1,124.6,150.1,98.6,514.4,168.8,121.0,97.4,38.1,78.9,80.8,65.2,79.3,25.3,145.8,351.5,67.5,509.4,38.9,60.9,75.6,117.4,109.3,51.2,118.3,55.6,203.8,15.6,298.1,55.6,15.1,22.7,147.2,311.2,33.8,107.9,30.7,472.1,45.9,98.1,158.9,280.9,84.3,68.5,198.2,34.8,100.5,578.9,97.9,107.8,167.1,527.9,418.1,53.9,238.3,86.5,164.0,535.1,296.2,43.5,41.4,40.3,78.7,17.0,233.2,117.3,87.5,75.9,83.9,14.6,9.4,113.1,16.9,193.2,4.7,164.6,65.5,201.3,389.4,135.6,117.6,84.4,353.0,73.6,118.4,310.1,84.2,133.7,108.4,112.5,29.5,76.4,50.9,35.8,51.7,751.3,145.6,40.4,58.9,918.4,427.3,307.4,97.8,157.5,78.2,132.0,178.7,77.0,99.8,102.4,89.8,225.8,57.8,54.4,11.6,79.4,117.5,49.8,155.1,192.7,78.8,269.9,17.0,18.0,72.3,364.2,25.8,56.1,219.8,35.4,65.6,131.4,179.1,141.4,146.4,78.2,661.7,92.5,11.3,57.7,163.6,4.9,159.5,112.3,80.3],\"yaxis\":\"y\",\"type\":\"scatter\"}],                        {\"template\":{\"data\":{\"histogram2dcontour\":[{\"type\":\"histogram2dcontour\",\"colorbar\":{\"outlinewidth\":0,\"ticks\":\"\"},\"colorscale\":[[0.0,\"#0d0887\"],[0.1111111111111111,\"#46039f\"],[0.2222222222222222,\"#7201a8\"],[0.3333333333333333,\"#9c179e\"],[0.4444444444444444,\"#bd3786\"],[0.5555555555555556,\"#d8576b\"],[0.6666666666666666,\"#ed7953\"],[0.7777777777777778,\"#fb9f3a\"],[0.8888888888888888,\"#fdca26\"],[1.0,\"#f0f921\"]]}],\"choropleth\":[{\"type\":\"choropleth\",\"colorbar\":{\"outlinewidth\":0,\"ticks\":\"\"}}],\"histogram2d\":[{\"type\":\"histogram2d\",\"colorbar\":{\"outlinewidth\":0,\"ticks\":\"\"},\"colorscale\":[[0.0,\"#0d0887\"],[0.1111111111111111,\"#46039f\"],[0.2222222222222222,\"#7201a8\"],[0.3333333333333333,\"#9c179e\"],[0.4444444444444444,\"#bd3786\"],[0.5555555555555556,\"#d8576b\"],[0.6666666666666666,\"#ed7953\"],[0.7777777777777778,\"#fb9f3a\"],[0.8888888888888888,\"#fdca26\"],[1.0,\"#f0f921\"]]}],\"heatmap\":[{\"type\":\"heatmap\",\"colorbar\":{\"outlinewidth\":0,\"ticks\":\"\"},\"colorscale\":[[0.0,\"#0d0887\"],[0.1111111111111111,\"#46039f\"],[0.2222222222222222,\"#7201a8\"],[0.3333333333333333,\"#9c179e\"],[0.4444444444444444,\"#bd3786\"],[0.5555555555555556,\"#d8576b\"],[0.6666666666666666,\"#ed7953\"],[0.7777777777777778,\"#fb9f3a\"],[0.8888888888888888,\"#fdca26\"],[1.0,\"#f0f921\"]]}],\"heatmapgl\":[{\"type\":\"heatmapgl\",\"colorbar\":{\"outlinewidth\":0,\"ticks\":\"\"},\"colorscale\":[[0.0,\"#0d0887\"],[0.1111111111111111,\"#46039f\"],[0.2222222222222222,\"#7201a8\"],[0.3333333333333333,\"#9c179e\"],[0.4444444444444444,\"#bd3786\"],[0.5555555555555556,\"#d8576b\"],[0.6666666666666666,\"#ed7953\"],[0.7777777777777778,\"#fb9f3a\"],[0.8888888888888888,\"#fdca26\"],[1.0,\"#f0f921\"]]}],\"contourcarpet\":[{\"type\":\"contourcarpet\",\"colorbar\":{\"outlinewidth\":0,\"ticks\":\"\"}}],\"contour\":[{\"type\":\"contour\",\"colorbar\":{\"outlinewidth\":0,\"ticks\":\"\"},\"colorscale\":[[0.0,\"#0d0887\"],[0.1111111111111111,\"#46039f\"],[0.2222222222222222,\"#7201a8\"],[0.3333333333333333,\"#9c179e\"],[0.4444444444444444,\"#bd3786\"],[0.5555555555555556,\"#d8576b\"],[0.6666666666666666,\"#ed7953\"],[0.7777777777777778,\"#fb9f3a\"],[0.8888888888888888,\"#fdca26\"],[1.0,\"#f0f921\"]]}],\"surface\":[{\"type\":\"surface\",\"colorbar\":{\"outlinewidth\":0,\"ticks\":\"\"},\"colorscale\":[[0.0,\"#0d0887\"],[0.1111111111111111,\"#46039f\"],[0.2222222222222222,\"#7201a8\"],[0.3333333333333333,\"#9c179e\"],[0.4444444444444444,\"#bd3786\"],[0.5555555555555556,\"#d8576b\"],[0.6666666666666666,\"#ed7953\"],[0.7777777777777778,\"#fb9f3a\"],[0.8888888888888888,\"#fdca26\"],[1.0,\"#f0f921\"]]}],\"mesh3d\":[{\"type\":\"mesh3d\",\"colorbar\":{\"outlinewidth\":0,\"ticks\":\"\"}}],\"scatter\":[{\"fillpattern\":{\"fillmode\":\"overlay\",\"size\":10,\"solidity\":0.2},\"type\":\"scatter\"}],\"parcoords\":[{\"type\":\"parcoords\",\"line\":{\"colorbar\":{\"outlinewidth\":0,\"ticks\":\"\"}}}],\"scatterpolargl\":[{\"type\":\"scatterpolargl\",\"marker\":{\"colorbar\":{\"outlinewidth\":0,\"ticks\":\"\"}}}],\"bar\":[{\"error_x\":{\"color\":\"#2a3f5f\"},\"error_y\":{\"color\":\"#2a3f5f\"},\"marker\":{\"line\":{\"color\":\"#E5ECF6\",\"width\":0.5},\"pattern\":{\"fillmode\":\"overlay\",\"size\":10,\"solidity\":0.2}},\"type\":\"bar\"}],\"scattergeo\":[{\"type\":\"scattergeo\",\"marker\":{\"colorbar\":{\"outlinewidth\":0,\"ticks\":\"\"}}}],\"scatterpolar\":[{\"type\":\"scatterpolar\",\"marker\":{\"colorbar\":{\"outlinewidth\":0,\"ticks\":\"\"}}}],\"histogram\":[{\"marker\":{\"pattern\":{\"fillmode\":\"overlay\",\"size\":10,\"solidity\":0.2}},\"type\":\"histogram\"}],\"scattergl\":[{\"type\":\"scattergl\",\"marker\":{\"colorbar\":{\"outlinewidth\":0,\"ticks\":\"\"}}}],\"scatter3d\":[{\"type\":\"scatter3d\",\"line\":{\"colorbar\":{\"outlinewidth\":0,\"ticks\":\"\"}},\"marker\":{\"colorbar\":{\"outlinewidth\":0,\"ticks\":\"\"}}}],\"scattermapbox\":[{\"type\":\"scattermapbox\",\"marker\":{\"colorbar\":{\"outlinewidth\":0,\"ticks\":\"\"}}}],\"scatterternary\":[{\"type\":\"scatterternary\",\"marker\":{\"colorbar\":{\"outlinewidth\":0,\"ticks\":\"\"}}}],\"scattercarpet\":[{\"type\":\"scattercarpet\",\"marker\":{\"colorbar\":{\"outlinewidth\":0,\"ticks\":\"\"}}}],\"carpet\":[{\"aaxis\":{\"endlinecolor\":\"#2a3f5f\",\"gridcolor\":\"white\",\"linecolor\":\"white\",\"minorgridcolor\":\"white\",\"startlinecolor\":\"#2a3f5f\"},\"baxis\":{\"endlinecolor\":\"#2a3f5f\",\"gridcolor\":\"white\",\"linecolor\":\"white\",\"minorgridcolor\":\"white\",\"startlinecolor\":\"#2a3f5f\"},\"type\":\"carpet\"}],\"table\":[{\"cells\":{\"fill\":{\"color\":\"#EBF0F8\"},\"line\":{\"color\":\"white\"}},\"header\":{\"fill\":{\"color\":\"#C8D4E3\"},\"line\":{\"color\":\"white\"}},\"type\":\"table\"}],\"barpolar\":[{\"marker\":{\"line\":{\"color\":\"#E5ECF6\",\"width\":0.5},\"pattern\":{\"fillmode\":\"overlay\",\"size\":10,\"solidity\":0.2}},\"type\":\"barpolar\"}],\"pie\":[{\"automargin\":true,\"type\":\"pie\"}]},\"layout\":{\"autotypenumbers\":\"strict\",\"colorway\":[\"#636efa\",\"#EF553B\",\"#00cc96\",\"#ab63fa\",\"#FFA15A\",\"#19d3f3\",\"#FF6692\",\"#B6E880\",\"#FF97FF\",\"#FECB52\"],\"font\":{\"color\":\"#2a3f5f\"},\"hovermode\":\"closest\",\"hoverlabel\":{\"align\":\"left\"},\"paper_bgcolor\":\"white\",\"plot_bgcolor\":\"#E5ECF6\",\"polar\":{\"bgcolor\":\"#E5ECF6\",\"angularaxis\":{\"gridcolor\":\"white\",\"linecolor\":\"white\",\"ticks\":\"\"},\"radialaxis\":{\"gridcolor\":\"white\",\"linecolor\":\"white\",\"ticks\":\"\"}},\"ternary\":{\"bgcolor\":\"#E5ECF6\",\"aaxis\":{\"gridcolor\":\"white\",\"linecolor\":\"white\",\"ticks\":\"\"},\"baxis\":{\"gridcolor\":\"white\",\"linecolor\":\"white\",\"ticks\":\"\"},\"caxis\":{\"gridcolor\":\"white\",\"linecolor\":\"white\",\"ticks\":\"\"}},\"coloraxis\":{\"colorbar\":{\"outlinewidth\":0,\"ticks\":\"\"}},\"colorscale\":{\"sequential\":[[0.0,\"#0d0887\"],[0.1111111111111111,\"#46039f\"],[0.2222222222222222,\"#7201a8\"],[0.3333333333333333,\"#9c179e\"],[0.4444444444444444,\"#bd3786\"],[0.5555555555555556,\"#d8576b\"],[0.6666666666666666,\"#ed7953\"],[0.7777777777777778,\"#fb9f3a\"],[0.8888888888888888,\"#fdca26\"],[1.0,\"#f0f921\"]],\"sequentialminus\":[[0.0,\"#0d0887\"],[0.1111111111111111,\"#46039f\"],[0.2222222222222222,\"#7201a8\"],[0.3333333333333333,\"#9c179e\"],[0.4444444444444444,\"#bd3786\"],[0.5555555555555556,\"#d8576b\"],[0.6666666666666666,\"#ed7953\"],[0.7777777777777778,\"#fb9f3a\"],[0.8888888888888888,\"#fdca26\"],[1.0,\"#f0f921\"]],\"diverging\":[[0,\"#8e0152\"],[0.1,\"#c51b7d\"],[0.2,\"#de77ae\"],[0.3,\"#f1b6da\"],[0.4,\"#fde0ef\"],[0.5,\"#f7f7f7\"],[0.6,\"#e6f5d0\"],[0.7,\"#b8e186\"],[0.8,\"#7fbc41\"],[0.9,\"#4d9221\"],[1,\"#276419\"]]},\"xaxis\":{\"gridcolor\":\"white\",\"linecolor\":\"white\",\"ticks\":\"\",\"title\":{\"standoff\":15},\"zerolinecolor\":\"white\",\"automargin\":true,\"zerolinewidth\":2},\"yaxis\":{\"gridcolor\":\"white\",\"linecolor\":\"white\",\"ticks\":\"\",\"title\":{\"standoff\":15},\"zerolinecolor\":\"white\",\"automargin\":true,\"zerolinewidth\":2},\"scene\":{\"xaxis\":{\"backgroundcolor\":\"#E5ECF6\",\"gridcolor\":\"white\",\"linecolor\":\"white\",\"showbackground\":true,\"ticks\":\"\",\"zerolinecolor\":\"white\",\"gridwidth\":2},\"yaxis\":{\"backgroundcolor\":\"#E5ECF6\",\"gridcolor\":\"white\",\"linecolor\":\"white\",\"showbackground\":true,\"ticks\":\"\",\"zerolinecolor\":\"white\",\"gridwidth\":2},\"zaxis\":{\"backgroundcolor\":\"#E5ECF6\",\"gridcolor\":\"white\",\"linecolor\":\"white\",\"showbackground\":true,\"ticks\":\"\",\"zerolinecolor\":\"white\",\"gridwidth\":2}},\"shapedefaults\":{\"line\":{\"color\":\"#2a3f5f\"}},\"annotationdefaults\":{\"arrowcolor\":\"#2a3f5f\",\"arrowhead\":0,\"arrowwidth\":1},\"geo\":{\"bgcolor\":\"white\",\"landcolor\":\"#E5ECF6\",\"subunitcolor\":\"white\",\"showland\":true,\"showlakes\":true,\"lakecolor\":\"white\"},\"title\":{\"x\":0.05},\"mapbox\":{\"style\":\"light\"}}},\"xaxis\":{\"anchor\":\"y\",\"domain\":[0.0,1.0],\"title\":{\"text\":\"observed_length_m\"}},\"yaxis\":{\"anchor\":\"x\",\"domain\":[0.0,1.0],\"title\":{\"text\":\"observed_weight_kg\"}},\"legend\":{\"title\":{\"text\":\"sex\"},\"tracegroupgap\":0},\"title\":{\"text\":\"Crocodile Length vs Weight by Sex\"}},                        {\"responsive\": true}                    ).then(function(){\n",
       "                            \n",
       "var gd = document.getElementById('73df211b-660d-496f-8151-02de232cd5eb');\n",
       "var x = new MutationObserver(function (mutations, observer) {{\n",
       "        var display = window.getComputedStyle(gd).display;\n",
       "        if (!display || display === 'none') {{\n",
       "            console.log([gd, 'removed!']);\n",
       "            Plotly.purge(gd);\n",
       "            observer.disconnect();\n",
       "        }}\n",
       "}});\n",
       "\n",
       "// Listen for the removal of the full notebook cells\n",
       "var notebookContainer = gd.closest('#notebook-container');\n",
       "if (notebookContainer) {{\n",
       "    x.observe(notebookContainer, {childList: true});\n",
       "}}\n",
       "\n",
       "// Listen for the clearing of the current output cell\n",
       "var outputEl = gd.closest('.output');\n",
       "if (outputEl) {{\n",
       "    x.observe(outputEl, {childList: true});\n",
       "}}\n",
       "\n",
       "                        })                };                });            </script>        </div>"
      ]
     },
     "metadata": {},
     "output_type": "display_data"
    },
    {
     "data": {
      "application/vnd.plotly.v1+json": {
       "config": {
        "plotlyServerURL": "https://plot.ly"
       },
       "data": [
        {
         "alignmentgroup": "True",
         "bingroup": "x",
         "hovertemplate": "common_name=Morelet's Crocodile<br>observed_length_m=%{x}<br>count=%{y}<extra></extra>",
         "legendgroup": "Morelet's Crocodile",
         "marker": {
          "color": "#636efa",
          "opacity": 0.5,
          "pattern": {
           "shape": ""
          }
         },
         "name": "Morelet's Crocodile",
         "nbinsx": 30,
         "offsetgroup": "Morelet's Crocodile",
         "orientation": "v",
         "showlegend": true,
         "type": "histogram",
         "x": [
          1.9,
          2.42,
          3.39,
          1.84,
          2,
          1.98,
          2.33,
          2.5,
          2.52,
          2.15,
          1.1,
          2.31,
          2.51,
          2.46,
          2.42,
          0.16,
          2.22,
          2.79,
          2.18,
          1.83,
          2.78,
          1.9,
          2.67,
          2.79,
          2.59,
          1.82,
          1.88,
          2.57,
          2.16,
          2.82,
          3,
          0.79,
          2.35,
          0.32,
          2.58,
          1.76,
          2.88,
          2.16,
          0.26,
          1.05,
          0.17,
          2.89,
          1.7,
          2.76,
          0.65,
          2.43,
          2.66,
          2.64,
          2.96,
          2.79,
          1.81,
          2.56,
          1.52,
          2.35,
          1.76,
          2.6,
          2.9,
          2.47,
          0.6,
          3.1,
          2.41,
          2.1,
          2.3,
          3.4
         ],
         "xaxis": "x",
         "yaxis": "y"
        },
        {
         "alignmentgroup": "True",
         "bingroup": "x",
         "hovertemplate": "common_name=American Crocodile<br>observed_length_m=%{x}<br>count=%{y}<extra></extra>",
         "legendgroup": "American Crocodile",
         "marker": {
          "color": "#EF553B",
          "opacity": 0.5,
          "pattern": {
           "shape": ""
          }
         },
         "name": "American Crocodile",
         "nbinsx": 30,
         "offsetgroup": "American Crocodile",
         "orientation": "v",
         "showlegend": true,
         "type": "histogram",
         "x": [
          4.09,
          3.65,
          4.11,
          3.04,
          3.57,
          3.66,
          2.76,
          3.88,
          3.04,
          3.32,
          0.36,
          3.75,
          1.69,
          3.88,
          2.44,
          2.77,
          1.92,
          1.01,
          2.8,
          3.51,
          0.58,
          1.78,
          3.3,
          3.05,
          2.02,
          3.25,
          4.07,
          3.14,
          3.07,
          3.02,
          3.36,
          0.49,
          3.85,
          1.54,
          3.75,
          2.68,
          1.68,
          2.86,
          3.94,
          0.28,
          3.62,
          2.97,
          0.37,
          2.6,
          3.71,
          4.18,
          2.24,
          2.63,
          2.76,
          4.33,
          3.57,
          3.64,
          3.62,
          2.94,
          3.18,
          3.45,
          4.18,
          1.51,
          2.71,
          2.46,
          2.8,
          3.09,
          1.81,
          3.74,
          3.67,
          3.25
         ],
         "xaxis": "x",
         "yaxis": "y"
        },
        {
         "alignmentgroup": "True",
         "bingroup": "x",
         "hovertemplate": "common_name=Orinoco Crocodile<br>observed_length_m=%{x}<br>count=%{y}<extra></extra>",
         "legendgroup": "Orinoco Crocodile",
         "marker": {
          "color": "#00cc96",
          "opacity": 0.5,
          "pattern": {
           "shape": ""
          }
         },
         "name": "Orinoco Crocodile",
         "nbinsx": 30,
         "offsetgroup": "Orinoco Crocodile",
         "orientation": "v",
         "showlegend": true,
         "type": "histogram",
         "x": [
          1.08,
          3.94,
          4.71,
          3.4,
          0.43,
          1.96,
          4.55,
          2.87,
          3.7,
          1.13,
          3.88,
          2.99,
          0.82,
          2.14,
          2.82,
          3.25,
          1.9,
          2.8,
          3.49,
          0.65,
          2.88,
          3.87,
          2.63,
          2.66,
          4.22,
          3.77,
          3.96,
          1.42,
          4.24,
          3.9,
          1.25,
          3.66,
          2.08,
          2.68,
          4.02,
          3.98,
          4.35,
          0.34,
          3.9,
          0.8,
          1.41,
          2.63,
          4.16,
          3.57,
          2.02,
          2.95,
          3.98,
          4.81,
          3.9,
          3.26,
          4.79,
          4.54,
          4.16,
          3.61,
          2.75,
          4.5,
          3.38,
          1.73
         ],
         "xaxis": "x",
         "yaxis": "y"
        },
        {
         "alignmentgroup": "True",
         "bingroup": "x",
         "hovertemplate": "common_name=Mugger Crocodile (Marsh Crocodile)<br>observed_length_m=%{x}<br>count=%{y}<extra></extra>",
         "legendgroup": "Mugger Crocodile (Marsh Crocodile)",
         "marker": {
          "color": "#ab63fa",
          "opacity": 0.5,
          "pattern": {
           "shape": ""
          }
         },
         "name": "Mugger Crocodile (Marsh Crocodile)",
         "nbinsx": 30,
         "offsetgroup": "Mugger Crocodile (Marsh Crocodile)",
         "orientation": "v",
         "showlegend": true,
         "type": "histogram",
         "x": [
          3.75,
          2.64,
          3.39,
          3.25,
          2.82,
          1.21,
          3.19,
          3.11,
          2.98,
          2.25,
          3.53,
          2.87,
          3.22,
          0.61,
          2.8,
          3.25,
          0.64,
          2.66,
          1.23,
          2.48,
          2.52,
          3.65,
          2.51,
          2.78,
          3.57,
          3.61,
          3.09,
          3.42,
          3.46,
          2.9,
          3.91,
          4.03,
          3.3,
          2.5,
          1.99,
          3.26,
          3.49,
          3.01,
          2.69,
          3.07,
          3.72,
          1.22,
          3.01,
          2.97,
          3.97,
          0.47,
          2.54
         ],
         "xaxis": "x",
         "yaxis": "y"
        },
        {
         "alignmentgroup": "True",
         "bingroup": "x",
         "hovertemplate": "common_name=Siamese Crocodile<br>observed_length_m=%{x}<br>count=%{y}<extra></extra>",
         "legendgroup": "Siamese Crocodile",
         "marker": {
          "color": "#FFA15A",
          "opacity": 0.5,
          "pattern": {
           "shape": ""
          }
         },
         "name": "Siamese Crocodile",
         "nbinsx": 30,
         "offsetgroup": "Siamese Crocodile",
         "orientation": "v",
         "showlegend": true,
         "type": "histogram",
         "x": [
          2.85,
          2.63,
          3.22,
          2.04,
          0.29,
          0.96,
          2.56,
          1.25,
          2.88,
          2.45,
          0.94,
          2.89,
          1.55,
          1.52,
          2.85,
          2.76,
          2.18,
          2.92,
          2.97,
          2.81,
          2.13,
          2.92,
          0.43,
          2.51,
          2.09,
          1.87,
          2.97,
          2.66,
          3.13,
          0.91,
          1.49,
          2.06,
          2.29,
          0.43,
          2.59,
          2.34,
          0.6,
          2.76,
          1.98,
          2.52,
          2.86,
          2.98,
          0.27,
          2.69,
          3.04
         ],
         "xaxis": "x",
         "yaxis": "y"
        },
        {
         "alignmentgroup": "True",
         "bingroup": "x",
         "hovertemplate": "common_name=Congo Dwarf Crocodile<br>observed_length_m=%{x}<br>count=%{y}<extra></extra>",
         "legendgroup": "Congo Dwarf Crocodile",
         "marker": {
          "color": "#19d3f3",
          "opacity": 0.5,
          "pattern": {
           "shape": ""
          }
         },
         "name": "Congo Dwarf Crocodile",
         "nbinsx": 30,
         "offsetgroup": "Congo Dwarf Crocodile",
         "orientation": "v",
         "showlegend": true,
         "type": "histogram",
         "x": [
          0.35,
          1.77,
          1.25,
          0.6,
          1.49,
          1.04,
          1.51,
          1.51,
          1.4,
          1.46,
          1.42,
          1.51,
          1.31,
          1.2,
          1.36,
          1.11,
          1.35,
          1.12,
          1.47,
          0.9,
          1.09,
          1.28,
          0.84,
          1.73,
          1.52,
          1.51,
          1.06,
          1.56,
          1.45,
          1.37,
          1.13,
          1.54,
          0.33,
          1.35,
          1.4,
          1.42,
          1.52,
          1.38,
          0.17,
          1.71,
          1.41,
          1.15,
          1.06,
          1.3,
          0.14,
          1.55,
          1.28,
          0.6
         ],
         "xaxis": "x",
         "yaxis": "y"
        },
        {
         "alignmentgroup": "True",
         "bingroup": "x",
         "hovertemplate": "common_name=West African Crocodile<br>observed_length_m=%{x}<br>count=%{y}<extra></extra>",
         "legendgroup": "West African Crocodile",
         "marker": {
          "color": "#FF6692",
          "opacity": 0.5,
          "pattern": {
           "shape": ""
          }
         },
         "name": "West African Crocodile",
         "nbinsx": 30,
         "offsetgroup": "West African Crocodile",
         "orientation": "v",
         "showlegend": true,
         "type": "histogram",
         "x": [
          3.05,
          2.72,
          2.13,
          3.02,
          2.7,
          3.08,
          2.54,
          2.28,
          2.9,
          1.55,
          2.07,
          2.52,
          3.04,
          2.4,
          2.98,
          1.99,
          2.78,
          1.36,
          2.28,
          0.9,
          0.48,
          2.81,
          2.76,
          2.7,
          2.41,
          2.77,
          2.61,
          2.74,
          2.32,
          2.04,
          2.4,
          1.18,
          2.42,
          1.74,
          1.97,
          1.58,
          2.56,
          2.64,
          0.73,
          3.01,
          2.05,
          2.17,
          3.35,
          2.69,
          2.05,
          2.26,
          2.99,
          2.6,
          2.9,
          2.76,
          0.92,
          2.55
         ],
         "xaxis": "x",
         "yaxis": "y"
        },
        {
         "alignmentgroup": "True",
         "bingroup": "x",
         "hovertemplate": "common_name=West African Dwarf Crocodile<br>observed_length_m=%{x}<br>count=%{y}<extra></extra>",
         "legendgroup": "West African Dwarf Crocodile",
         "marker": {
          "color": "#B6E880",
          "opacity": 0.5,
          "pattern": {
           "shape": ""
          }
         },
         "name": "West African Dwarf Crocodile",
         "nbinsx": 30,
         "offsetgroup": "West African Dwarf Crocodile",
         "orientation": "v",
         "showlegend": true,
         "type": "histogram",
         "x": [
          1.22,
          1.32,
          1.48,
          1.18,
          1.23,
          0.86,
          1.37,
          1.57,
          1.47,
          1.53,
          0.96,
          1.13,
          1.03,
          1,
          0.99,
          0.93,
          1.24,
          1.03,
          1.05,
          1.28,
          1.18,
          1.64,
          0.15,
          0.78,
          0.46,
          1.31,
          1.33,
          1.61,
          0.97,
          1.6,
          1.01,
          1.09,
          0.97,
          1.29,
          0.23,
          1.24,
          1.29,
          0.43,
          0.69,
          1.45,
          1.31,
          1.32,
          1.04,
          0.98,
          1.06,
          1.49,
          1.26,
          1.34,
          1.14,
          1.35,
          1.01,
          0.8,
          1.3,
          1.46,
          1.01,
          1.01,
          0.39
         ],
         "xaxis": "x",
         "yaxis": "y"
        },
        {
         "alignmentgroup": "True",
         "bingroup": "x",
         "hovertemplate": "common_name=Nile Crocodile<br>observed_length_m=%{x}<br>count=%{y}<extra></extra>",
         "legendgroup": "Nile Crocodile",
         "marker": {
          "color": "#FF97FF",
          "opacity": 0.5,
          "pattern": {
           "shape": ""
          }
         },
         "name": "Nile Crocodile",
         "nbinsx": 30,
         "offsetgroup": "Nile Crocodile",
         "orientation": "v",
         "showlegend": true,
         "type": "histogram",
         "x": [
          4.37,
          4.65,
          3.18,
          3.57,
          3.78,
          4.34,
          3.32,
          1.77,
          4.55,
          3.13,
          3.85,
          0.56,
          4.62,
          3.14,
          3.56,
          4,
          2.68,
          5.18,
          1.63,
          2.04,
          4.1,
          3.91,
          3.83,
          3.43,
          5.31,
          3.69,
          3.78,
          4.41,
          4.35,
          4.37,
          4.69,
          3.39,
          4.29,
          4.18,
          2.46,
          3.59,
          4.39,
          2.86,
          4.14,
          3.38,
          4.22,
          3.02,
          4.48,
          3.43,
          4.5,
          4.68,
          2.07,
          3.13
         ],
         "xaxis": "x",
         "yaxis": "y"
        },
        {
         "alignmentgroup": "True",
         "bingroup": "x",
         "hovertemplate": "common_name=Borneo Crocodile (disputed)<br>observed_length_m=%{x}<br>count=%{y}<extra></extra>",
         "legendgroup": "Borneo Crocodile (disputed)",
         "marker": {
          "color": "#FECB52",
          "opacity": 0.5,
          "pattern": {
           "shape": ""
          }
         },
         "name": "Borneo Crocodile (disputed)",
         "nbinsx": 30,
         "offsetgroup": "Borneo Crocodile (disputed)",
         "orientation": "v",
         "showlegend": true,
         "type": "histogram",
         "x": [
          1.07,
          2.52,
          2.05,
          2.56,
          2.54,
          2.4,
          3.68,
          3.27,
          3.1,
          0.87,
          0.76,
          2.54,
          3.09,
          2.94,
          2.79,
          3.06,
          2.81,
          3,
          2.23,
          0.87,
          1.66,
          2.99,
          3.44,
          2.66,
          1.95,
          2.31,
          3.52,
          0.93,
          2.52,
          2.78,
          2.25,
          3.44,
          2.52,
          2.2,
          2.6,
          1.67,
          2.94,
          2.83,
          0.91,
          2.68,
          3.25,
          2.39,
          0.53,
          1.92,
          2.67,
          3.79,
          3.11,
          3.29,
          3.17,
          2.26,
          1.52,
          1.55,
          2.25,
          2.98,
          3.23,
          3.48,
          2.65,
          2.38,
          3.16,
          3.6,
          2.02,
          2.59,
          2.46,
          2.18,
          3.02,
          2.37,
          3.91
         ],
         "xaxis": "x",
         "yaxis": "y"
        },
        {
         "alignmentgroup": "True",
         "bingroup": "x",
         "hovertemplate": "common_name=Saltwater Crocodile<br>observed_length_m=%{x}<br>count=%{y}<extra></extra>",
         "legendgroup": "Saltwater Crocodile",
         "marker": {
          "color": "#636efa",
          "opacity": 0.5,
          "pattern": {
           "shape": ""
          }
         },
         "name": "Saltwater Crocodile",
         "nbinsx": 30,
         "offsetgroup": "Saltwater Crocodile",
         "orientation": "v",
         "showlegend": true,
         "type": "histogram",
         "x": [
          1.55,
          5.83,
          5.43,
          4.9,
          5.07,
          4.86,
          3.59,
          4.68,
          5.1,
          5.22,
          3.05,
          6.02,
          5.48,
          4.21,
          5.32,
          3.58,
          5.91,
          6.02,
          3.55,
          3.08,
          4.19,
          4.96,
          3.62,
          3.65,
          4.33,
          3.81,
          4.16,
          4.78,
          6.12,
          0.53,
          3.18,
          5.1,
          4.33,
          3.74,
          3.61,
          4.71,
          5.79,
          4.18,
          5.4,
          4.99,
          4.31,
          4.44,
          1.28,
          5.05,
          4.51,
          4.76,
          4.21,
          3.8,
          3.58,
          4.33,
          4.76,
          5.2,
          5.48,
          4.23,
          4.1,
          4.84,
          5.13,
          4.01
         ],
         "xaxis": "x",
         "yaxis": "y"
        },
        {
         "alignmentgroup": "True",
         "bingroup": "x",
         "hovertemplate": "common_name=Cuban Crocodile<br>observed_length_m=%{x}<br>count=%{y}<extra></extra>",
         "legendgroup": "Cuban Crocodile",
         "marker": {
          "color": "#EF553B",
          "opacity": 0.5,
          "pattern": {
           "shape": ""
          }
         },
         "name": "Cuban Crocodile",
         "nbinsx": 30,
         "offsetgroup": "Cuban Crocodile",
         "orientation": "v",
         "showlegend": true,
         "type": "histogram",
         "x": [
          2.44,
          0.34,
          2.42,
          2.23,
          2.63,
          2.71,
          2.93,
          2.26,
          2.07,
          2.75,
          2.01,
          2.74,
          2.13,
          2.96,
          2.07,
          1.56,
          2.61,
          1.51,
          1.94,
          2.92,
          3.27,
          0.79,
          2.92,
          2.11,
          2.91,
          1.94,
          2.63,
          3.01,
          2.88,
          2.34,
          2.63,
          1.95,
          2.89,
          2.41,
          2.17,
          2.73,
          3.1,
          2.7,
          2.76,
          0.46,
          2.82,
          1.35,
          3.38,
          2.42,
          2.95,
          1.53,
          2.4,
          2.96,
          1.22,
          2.12,
          0.56,
          2.12,
          2.16,
          2.48,
          2.69,
          2.56,
          3.14,
          1.79,
          2.28
         ],
         "xaxis": "x",
         "yaxis": "y"
        },
        {
         "alignmentgroup": "True",
         "bingroup": "x",
         "hovertemplate": "common_name=Philippine Crocodile<br>observed_length_m=%{x}<br>count=%{y}<extra></extra>",
         "legendgroup": "Philippine Crocodile",
         "marker": {
          "color": "#00cc96",
          "opacity": 0.5,
          "pattern": {
           "shape": ""
          }
         },
         "name": "Philippine Crocodile",
         "nbinsx": 30,
         "offsetgroup": "Philippine Crocodile",
         "orientation": "v",
         "showlegend": true,
         "type": "histogram",
         "x": [
          1.01,
          2.26,
          1.6,
          2.27,
          1.94,
          2.15,
          2.03,
          1.88,
          0.38,
          2.1,
          2.31,
          2.02,
          2.48,
          1.67,
          1.73,
          1.57,
          2.04,
          1.42,
          1.61,
          1.46,
          2.62,
          1.82,
          1.74,
          1.45,
          2.25,
          0.41,
          1.81,
          2.05,
          1.16,
          2.08,
          2.31,
          2.3,
          2.29,
          1.62,
          2,
          2.23,
          1.3,
          1.68,
          1.52,
          0.7,
          1.78,
          2.32,
          1.61,
          1.8,
          2.27,
          2.09,
          2.33,
          1.48,
          1.86,
          1.69,
          1.94,
          1.68,
          2.34,
          1.89,
          2.27,
          1.98,
          2.17,
          2.04
         ],
         "xaxis": "x",
         "yaxis": "y"
        },
        {
         "alignmentgroup": "True",
         "bingroup": "x",
         "hovertemplate": "common_name=New Guinea Crocodile<br>observed_length_m=%{x}<br>count=%{y}<extra></extra>",
         "legendgroup": "New Guinea Crocodile",
         "marker": {
          "color": "#ab63fa",
          "opacity": 0.5,
          "pattern": {
           "shape": ""
          }
         },
         "name": "New Guinea Crocodile",
         "nbinsx": 30,
         "offsetgroup": "New Guinea Crocodile",
         "orientation": "v",
         "showlegend": true,
         "type": "histogram",
         "x": [
          0.76,
          2.51,
          2.97,
          3.04,
          2.21,
          1.52,
          2.26,
          2.82,
          0.88,
          2.21,
          2.31,
          2.1,
          2.36,
          1.64,
          1.2,
          2.87,
          1.74,
          1.76,
          2.29,
          2.89,
          2.26,
          2.73,
          2.33,
          2.59,
          0.24,
          2.5,
          1.46,
          2.6,
          2.6,
          2.42,
          3.12,
          2.02,
          1.78,
          1.04,
          1.84,
          2.16,
          1.1,
          2.26,
          2.25,
          2.96,
          2.22,
          2.54,
          2.72,
          2.03,
          0.72,
          2.39,
          1.24,
          2.85,
          1.95,
          2.56,
          0.71,
          3.38,
          1.3,
          2.5,
          2.48,
          2.56,
          0.38,
          1.86,
          2.45,
          2.35,
          2.88,
          1.98,
          2.21,
          2.74,
          2.75,
          2.81,
          2.23,
          2.5
         ],
         "xaxis": "x",
         "yaxis": "y"
        },
        {
         "alignmentgroup": "True",
         "bingroup": "x",
         "hovertemplate": "common_name=West African Slender-snouted Crocodile<br>observed_length_m=%{x}<br>count=%{y}<extra></extra>",
         "legendgroup": "West African Slender-snouted Crocodile",
         "marker": {
          "color": "#FFA15A",
          "opacity": 0.5,
          "pattern": {
           "shape": ""
          }
         },
         "name": "West African Slender-snouted Crocodile",
         "nbinsx": 30,
         "offsetgroup": "West African Slender-snouted Crocodile",
         "orientation": "v",
         "showlegend": true,
         "type": "histogram",
         "x": [
          2.96,
          2.43,
          2.96,
          1.77,
          2.26,
          2.9,
          2.58,
          3.07,
          2.05,
          3.41,
          2.64,
          2.75,
          2.23,
          2.07,
          2.89,
          2.08,
          3.15,
          2.94,
          3.32,
          2.95,
          2.87,
          3.28,
          2.28,
          0.88,
          3.07,
          2.92,
          2.93,
          0.26,
          2.71,
          2.78,
          2.81,
          1.33,
          2.53,
          2.58,
          2.44,
          2.43,
          0.53,
          1.99,
          3.07,
          3.22,
          2.48,
          2.62,
          0.61,
          1.89,
          2.76,
          2.53,
          2.79,
          3.21,
          3.06,
          1.48,
          1.93,
          2.84,
          2.26,
          2.34,
          2.82
         ],
         "xaxis": "x",
         "yaxis": "y"
        },
        {
         "alignmentgroup": "True",
         "bingroup": "x",
         "hovertemplate": "common_name=Freshwater Crocodile (Johnstone's)<br>observed_length_m=%{x}<br>count=%{y}<extra></extra>",
         "legendgroup": "Freshwater Crocodile (Johnstone's)",
         "marker": {
          "color": "#19d3f3",
          "opacity": 0.5,
          "pattern": {
           "shape": ""
          }
         },
         "name": "Freshwater Crocodile (Johnstone's)",
         "nbinsx": 30,
         "offsetgroup": "Freshwater Crocodile (Johnstone's)",
         "orientation": "v",
         "showlegend": true,
         "type": "histogram",
         "x": [
          1.05,
          1.93,
          2.57,
          1.59,
          1.77,
          2.17,
          2.85,
          1.94,
          1.69,
          2.86,
          1.47,
          1.75,
          0.88,
          2.04,
          1.58,
          2.06,
          1.91,
          1.89,
          2.07,
          2.34,
          2.31,
          0.91,
          0.88,
          0.27,
          0.84,
          2.01,
          1.96,
          0.39,
          2.63,
          2.34,
          1.68,
          2.13,
          0.8,
          2.36,
          0.81,
          2.72,
          2.26,
          2.18,
          2.71,
          2.07,
          2.06,
          2.54,
          2.4,
          1.32,
          2.14
         ],
         "xaxis": "x",
         "yaxis": "y"
        },
        {
         "alignmentgroup": "True",
         "bingroup": "x",
         "hovertemplate": "common_name=Central African Slender-snouted Crocodile<br>observed_length_m=%{x}<br>count=%{y}<extra></extra>",
         "legendgroup": "Central African Slender-snouted Crocodile",
         "marker": {
          "color": "#FF6692",
          "opacity": 0.5,
          "pattern": {
           "shape": ""
          }
         },
         "name": "Central African Slender-snouted Crocodile",
         "nbinsx": 30,
         "offsetgroup": "Central African Slender-snouted Crocodile",
         "orientation": "v",
         "showlegend": true,
         "type": "histogram",
         "x": [
          1.85,
          1.2,
          1.69,
          0.79,
          2.5,
          2.36,
          1.12,
          0.5,
          2.61,
          0.33,
          1.79,
          2.86,
          2.69,
          3.06,
          2.06,
          0.79,
          0.72,
          2.1,
          2.64,
          2.08,
          2.22,
          2.72,
          1.13,
          2.55,
          2.2,
          0.7,
          2.29,
          1.98,
          2.74,
          2.67,
          2.24,
          2.4,
          2.67,
          2.41,
          0.47,
          2.82,
          1.95,
          2.68,
          2.51,
          1.6,
          3,
          1.87,
          2.52,
          2.22,
          2.25,
          2.35,
          1.1,
          2.01,
          2.08,
          2.27,
          0.19,
          2.51,
          2.69,
          3.02,
          2.65,
          0.35
         ],
         "xaxis": "x",
         "yaxis": "y"
        },
        {
         "alignmentgroup": "True",
         "bingroup": "x",
         "hovertemplate": "common_name=Hall's New Guinea Crocodile<br>observed_length_m=%{x}<br>count=%{y}<extra></extra>",
         "legendgroup": "Hall's New Guinea Crocodile",
         "marker": {
          "color": "#B6E880",
          "opacity": 0.5,
          "pattern": {
           "shape": ""
          }
         },
         "name": "Hall's New Guinea Crocodile",
         "nbinsx": 30,
         "offsetgroup": "Hall's New Guinea Crocodile",
         "orientation": "v",
         "showlegend": true,
         "type": "histogram",
         "x": [
          2.45,
          2.26,
          3.32,
          2.69,
          2.81,
          2.76,
          2.33,
          1.51,
          1.34,
          2.28,
          1.86,
          3.03,
          2.81,
          2.41,
          3.25,
          1.23,
          2.95,
          2.81,
          1.61,
          3.22,
          0.57,
          3.18,
          2.85,
          1,
          3.11,
          0.49,
          2.58,
          2.53,
          2.47,
          3.49,
          3.09,
          3.41,
          2.49,
          3.42,
          2.9,
          2.97,
          0.95,
          3.24,
          0.94,
          3.03,
          2.74,
          2.83,
          0.8,
          1.93,
          3.01,
          1.99,
          2.74,
          2.27,
          1.73
         ],
         "xaxis": "x",
         "yaxis": "y"
        }
       ],
       "layout": {
        "barmode": "overlay",
        "legend": {
         "title": {
          "text": "common_name"
         },
         "tracegroupgap": 0
        },
        "template": {
         "data": {
          "bar": [
           {
            "error_x": {
             "color": "#2a3f5f"
            },
            "error_y": {
             "color": "#2a3f5f"
            },
            "marker": {
             "line": {
              "color": "#E5ECF6",
              "width": 0.5
             },
             "pattern": {
              "fillmode": "overlay",
              "size": 10,
              "solidity": 0.2
             }
            },
            "type": "bar"
           }
          ],
          "barpolar": [
           {
            "marker": {
             "line": {
              "color": "#E5ECF6",
              "width": 0.5
             },
             "pattern": {
              "fillmode": "overlay",
              "size": 10,
              "solidity": 0.2
             }
            },
            "type": "barpolar"
           }
          ],
          "carpet": [
           {
            "aaxis": {
             "endlinecolor": "#2a3f5f",
             "gridcolor": "white",
             "linecolor": "white",
             "minorgridcolor": "white",
             "startlinecolor": "#2a3f5f"
            },
            "baxis": {
             "endlinecolor": "#2a3f5f",
             "gridcolor": "white",
             "linecolor": "white",
             "minorgridcolor": "white",
             "startlinecolor": "#2a3f5f"
            },
            "type": "carpet"
           }
          ],
          "choropleth": [
           {
            "colorbar": {
             "outlinewidth": 0,
             "ticks": ""
            },
            "type": "choropleth"
           }
          ],
          "contour": [
           {
            "colorbar": {
             "outlinewidth": 0,
             "ticks": ""
            },
            "colorscale": [
             [
              0,
              "#0d0887"
             ],
             [
              0.1111111111111111,
              "#46039f"
             ],
             [
              0.2222222222222222,
              "#7201a8"
             ],
             [
              0.3333333333333333,
              "#9c179e"
             ],
             [
              0.4444444444444444,
              "#bd3786"
             ],
             [
              0.5555555555555556,
              "#d8576b"
             ],
             [
              0.6666666666666666,
              "#ed7953"
             ],
             [
              0.7777777777777778,
              "#fb9f3a"
             ],
             [
              0.8888888888888888,
              "#fdca26"
             ],
             [
              1,
              "#f0f921"
             ]
            ],
            "type": "contour"
           }
          ],
          "contourcarpet": [
           {
            "colorbar": {
             "outlinewidth": 0,
             "ticks": ""
            },
            "type": "contourcarpet"
           }
          ],
          "heatmap": [
           {
            "colorbar": {
             "outlinewidth": 0,
             "ticks": ""
            },
            "colorscale": [
             [
              0,
              "#0d0887"
             ],
             [
              0.1111111111111111,
              "#46039f"
             ],
             [
              0.2222222222222222,
              "#7201a8"
             ],
             [
              0.3333333333333333,
              "#9c179e"
             ],
             [
              0.4444444444444444,
              "#bd3786"
             ],
             [
              0.5555555555555556,
              "#d8576b"
             ],
             [
              0.6666666666666666,
              "#ed7953"
             ],
             [
              0.7777777777777778,
              "#fb9f3a"
             ],
             [
              0.8888888888888888,
              "#fdca26"
             ],
             [
              1,
              "#f0f921"
             ]
            ],
            "type": "heatmap"
           }
          ],
          "heatmapgl": [
           {
            "colorbar": {
             "outlinewidth": 0,
             "ticks": ""
            },
            "colorscale": [
             [
              0,
              "#0d0887"
             ],
             [
              0.1111111111111111,
              "#46039f"
             ],
             [
              0.2222222222222222,
              "#7201a8"
             ],
             [
              0.3333333333333333,
              "#9c179e"
             ],
             [
              0.4444444444444444,
              "#bd3786"
             ],
             [
              0.5555555555555556,
              "#d8576b"
             ],
             [
              0.6666666666666666,
              "#ed7953"
             ],
             [
              0.7777777777777778,
              "#fb9f3a"
             ],
             [
              0.8888888888888888,
              "#fdca26"
             ],
             [
              1,
              "#f0f921"
             ]
            ],
            "type": "heatmapgl"
           }
          ],
          "histogram": [
           {
            "marker": {
             "pattern": {
              "fillmode": "overlay",
              "size": 10,
              "solidity": 0.2
             }
            },
            "type": "histogram"
           }
          ],
          "histogram2d": [
           {
            "colorbar": {
             "outlinewidth": 0,
             "ticks": ""
            },
            "colorscale": [
             [
              0,
              "#0d0887"
             ],
             [
              0.1111111111111111,
              "#46039f"
             ],
             [
              0.2222222222222222,
              "#7201a8"
             ],
             [
              0.3333333333333333,
              "#9c179e"
             ],
             [
              0.4444444444444444,
              "#bd3786"
             ],
             [
              0.5555555555555556,
              "#d8576b"
             ],
             [
              0.6666666666666666,
              "#ed7953"
             ],
             [
              0.7777777777777778,
              "#fb9f3a"
             ],
             [
              0.8888888888888888,
              "#fdca26"
             ],
             [
              1,
              "#f0f921"
             ]
            ],
            "type": "histogram2d"
           }
          ],
          "histogram2dcontour": [
           {
            "colorbar": {
             "outlinewidth": 0,
             "ticks": ""
            },
            "colorscale": [
             [
              0,
              "#0d0887"
             ],
             [
              0.1111111111111111,
              "#46039f"
             ],
             [
              0.2222222222222222,
              "#7201a8"
             ],
             [
              0.3333333333333333,
              "#9c179e"
             ],
             [
              0.4444444444444444,
              "#bd3786"
             ],
             [
              0.5555555555555556,
              "#d8576b"
             ],
             [
              0.6666666666666666,
              "#ed7953"
             ],
             [
              0.7777777777777778,
              "#fb9f3a"
             ],
             [
              0.8888888888888888,
              "#fdca26"
             ],
             [
              1,
              "#f0f921"
             ]
            ],
            "type": "histogram2dcontour"
           }
          ],
          "mesh3d": [
           {
            "colorbar": {
             "outlinewidth": 0,
             "ticks": ""
            },
            "type": "mesh3d"
           }
          ],
          "parcoords": [
           {
            "line": {
             "colorbar": {
              "outlinewidth": 0,
              "ticks": ""
             }
            },
            "type": "parcoords"
           }
          ],
          "pie": [
           {
            "automargin": true,
            "type": "pie"
           }
          ],
          "scatter": [
           {
            "fillpattern": {
             "fillmode": "overlay",
             "size": 10,
             "solidity": 0.2
            },
            "type": "scatter"
           }
          ],
          "scatter3d": [
           {
            "line": {
             "colorbar": {
              "outlinewidth": 0,
              "ticks": ""
             }
            },
            "marker": {
             "colorbar": {
              "outlinewidth": 0,
              "ticks": ""
             }
            },
            "type": "scatter3d"
           }
          ],
          "scattercarpet": [
           {
            "marker": {
             "colorbar": {
              "outlinewidth": 0,
              "ticks": ""
             }
            },
            "type": "scattercarpet"
           }
          ],
          "scattergeo": [
           {
            "marker": {
             "colorbar": {
              "outlinewidth": 0,
              "ticks": ""
             }
            },
            "type": "scattergeo"
           }
          ],
          "scattergl": [
           {
            "marker": {
             "colorbar": {
              "outlinewidth": 0,
              "ticks": ""
             }
            },
            "type": "scattergl"
           }
          ],
          "scattermapbox": [
           {
            "marker": {
             "colorbar": {
              "outlinewidth": 0,
              "ticks": ""
             }
            },
            "type": "scattermapbox"
           }
          ],
          "scatterpolar": [
           {
            "marker": {
             "colorbar": {
              "outlinewidth": 0,
              "ticks": ""
             }
            },
            "type": "scatterpolar"
           }
          ],
          "scatterpolargl": [
           {
            "marker": {
             "colorbar": {
              "outlinewidth": 0,
              "ticks": ""
             }
            },
            "type": "scatterpolargl"
           }
          ],
          "scatterternary": [
           {
            "marker": {
             "colorbar": {
              "outlinewidth": 0,
              "ticks": ""
             }
            },
            "type": "scatterternary"
           }
          ],
          "surface": [
           {
            "colorbar": {
             "outlinewidth": 0,
             "ticks": ""
            },
            "colorscale": [
             [
              0,
              "#0d0887"
             ],
             [
              0.1111111111111111,
              "#46039f"
             ],
             [
              0.2222222222222222,
              "#7201a8"
             ],
             [
              0.3333333333333333,
              "#9c179e"
             ],
             [
              0.4444444444444444,
              "#bd3786"
             ],
             [
              0.5555555555555556,
              "#d8576b"
             ],
             [
              0.6666666666666666,
              "#ed7953"
             ],
             [
              0.7777777777777778,
              "#fb9f3a"
             ],
             [
              0.8888888888888888,
              "#fdca26"
             ],
             [
              1,
              "#f0f921"
             ]
            ],
            "type": "surface"
           }
          ],
          "table": [
           {
            "cells": {
             "fill": {
              "color": "#EBF0F8"
             },
             "line": {
              "color": "white"
             }
            },
            "header": {
             "fill": {
              "color": "#C8D4E3"
             },
             "line": {
              "color": "white"
             }
            },
            "type": "table"
           }
          ]
         },
         "layout": {
          "annotationdefaults": {
           "arrowcolor": "#2a3f5f",
           "arrowhead": 0,
           "arrowwidth": 1
          },
          "autotypenumbers": "strict",
          "coloraxis": {
           "colorbar": {
            "outlinewidth": 0,
            "ticks": ""
           }
          },
          "colorscale": {
           "diverging": [
            [
             0,
             "#8e0152"
            ],
            [
             0.1,
             "#c51b7d"
            ],
            [
             0.2,
             "#de77ae"
            ],
            [
             0.3,
             "#f1b6da"
            ],
            [
             0.4,
             "#fde0ef"
            ],
            [
             0.5,
             "#f7f7f7"
            ],
            [
             0.6,
             "#e6f5d0"
            ],
            [
             0.7,
             "#b8e186"
            ],
            [
             0.8,
             "#7fbc41"
            ],
            [
             0.9,
             "#4d9221"
            ],
            [
             1,
             "#276419"
            ]
           ],
           "sequential": [
            [
             0,
             "#0d0887"
            ],
            [
             0.1111111111111111,
             "#46039f"
            ],
            [
             0.2222222222222222,
             "#7201a8"
            ],
            [
             0.3333333333333333,
             "#9c179e"
            ],
            [
             0.4444444444444444,
             "#bd3786"
            ],
            [
             0.5555555555555556,
             "#d8576b"
            ],
            [
             0.6666666666666666,
             "#ed7953"
            ],
            [
             0.7777777777777778,
             "#fb9f3a"
            ],
            [
             0.8888888888888888,
             "#fdca26"
            ],
            [
             1,
             "#f0f921"
            ]
           ],
           "sequentialminus": [
            [
             0,
             "#0d0887"
            ],
            [
             0.1111111111111111,
             "#46039f"
            ],
            [
             0.2222222222222222,
             "#7201a8"
            ],
            [
             0.3333333333333333,
             "#9c179e"
            ],
            [
             0.4444444444444444,
             "#bd3786"
            ],
            [
             0.5555555555555556,
             "#d8576b"
            ],
            [
             0.6666666666666666,
             "#ed7953"
            ],
            [
             0.7777777777777778,
             "#fb9f3a"
            ],
            [
             0.8888888888888888,
             "#fdca26"
            ],
            [
             1,
             "#f0f921"
            ]
           ]
          },
          "colorway": [
           "#636efa",
           "#EF553B",
           "#00cc96",
           "#ab63fa",
           "#FFA15A",
           "#19d3f3",
           "#FF6692",
           "#B6E880",
           "#FF97FF",
           "#FECB52"
          ],
          "font": {
           "color": "#2a3f5f"
          },
          "geo": {
           "bgcolor": "white",
           "lakecolor": "white",
           "landcolor": "#E5ECF6",
           "showlakes": true,
           "showland": true,
           "subunitcolor": "white"
          },
          "hoverlabel": {
           "align": "left"
          },
          "hovermode": "closest",
          "mapbox": {
           "style": "light"
          },
          "paper_bgcolor": "white",
          "plot_bgcolor": "#E5ECF6",
          "polar": {
           "angularaxis": {
            "gridcolor": "white",
            "linecolor": "white",
            "ticks": ""
           },
           "bgcolor": "#E5ECF6",
           "radialaxis": {
            "gridcolor": "white",
            "linecolor": "white",
            "ticks": ""
           }
          },
          "scene": {
           "xaxis": {
            "backgroundcolor": "#E5ECF6",
            "gridcolor": "white",
            "gridwidth": 2,
            "linecolor": "white",
            "showbackground": true,
            "ticks": "",
            "zerolinecolor": "white"
           },
           "yaxis": {
            "backgroundcolor": "#E5ECF6",
            "gridcolor": "white",
            "gridwidth": 2,
            "linecolor": "white",
            "showbackground": true,
            "ticks": "",
            "zerolinecolor": "white"
           },
           "zaxis": {
            "backgroundcolor": "#E5ECF6",
            "gridcolor": "white",
            "gridwidth": 2,
            "linecolor": "white",
            "showbackground": true,
            "ticks": "",
            "zerolinecolor": "white"
           }
          },
          "shapedefaults": {
           "line": {
            "color": "#2a3f5f"
           }
          },
          "ternary": {
           "aaxis": {
            "gridcolor": "white",
            "linecolor": "white",
            "ticks": ""
           },
           "baxis": {
            "gridcolor": "white",
            "linecolor": "white",
            "ticks": ""
           },
           "bgcolor": "#E5ECF6",
           "caxis": {
            "gridcolor": "white",
            "linecolor": "white",
            "ticks": ""
           }
          },
          "title": {
           "x": 0.05
          },
          "xaxis": {
           "automargin": true,
           "gridcolor": "white",
           "linecolor": "white",
           "ticks": "",
           "title": {
            "standoff": 15
           },
           "zerolinecolor": "white",
           "zerolinewidth": 2
          },
          "yaxis": {
           "automargin": true,
           "gridcolor": "white",
           "linecolor": "white",
           "ticks": "",
           "title": {
            "standoff": 15
           },
           "zerolinecolor": "white",
           "zerolinewidth": 2
          }
         }
        },
        "title": {
         "text": "Distribution of Length per Species"
        },
        "xaxis": {
         "anchor": "y",
         "domain": [
          0,
          1
         ],
         "title": {
          "text": "observed_length_m"
         }
        },
        "yaxis": {
         "anchor": "x",
         "domain": [
          0,
          1
         ],
         "title": {
          "text": "count"
         }
        }
       }
      },
      "image/png": "[encoded data removed]",
      "text/html": [
       "<div>                            <div id=\"5c8fe75d-4f79-416b-8cea-fce0b33dafe5\" class=\"plotly-graph-div\" style=\"height:525px; width:100%;\"></div>            <script type=\"text/javascript\">                require([\"plotly\"], function(Plotly) {                    window.PLOTLYENV=window.PLOTLYENV || {};                                    if (document.getElementById(\"5c8fe75d-4f79-416b-8cea-fce0b33dafe5\")) {                    Plotly.newPlot(                        \"5c8fe75d-4f79-416b-8cea-fce0b33dafe5\",                        [{\"alignmentgroup\":\"True\",\"bingroup\":\"x\",\"hovertemplate\":\"common_name=Morelet's Crocodile<br>observed_length_m=%{x}<br>count=%{y}<extra></extra>\",\"legendgroup\":\"Morelet's Crocodile\",\"marker\":{\"color\":\"#636efa\",\"opacity\":0.5,\"pattern\":{\"shape\":\"\"}},\"name\":\"Morelet's Crocodile\",\"nbinsx\":30,\"offsetgroup\":\"Morelet's Crocodile\",\"orientation\":\"v\",\"showlegend\":true,\"x\":[1.9,2.42,3.39,1.84,2.0,1.98,2.33,2.5,2.52,2.15,1.1,2.31,2.51,2.46,2.42,0.16,2.22,2.79,2.18,1.83,2.78,1.9,2.67,2.79,2.59,1.82,1.88,2.57,2.16,2.82,3.0,0.79,2.35,0.32,2.58,1.76,2.88,2.16,0.26,1.05,0.17,2.89,1.7,2.76,0.65,2.43,2.66,2.64,2.96,2.79,1.81,2.56,1.52,2.35,1.76,2.6,2.9,2.47,0.6,3.1,2.41,2.1,2.3,3.4],\"xaxis\":\"x\",\"yaxis\":\"y\",\"type\":\"histogram\"},{\"alignmentgroup\":\"True\",\"bingroup\":\"x\",\"hovertemplate\":\"common_name=American Crocodile<br>observed_length_m=%{x}<br>count=%{y}<extra></extra>\",\"legendgroup\":\"American Crocodile\",\"marker\":{\"color\":\"#EF553B\",\"opacity\":0.5,\"pattern\":{\"shape\":\"\"}},\"name\":\"American Crocodile\",\"nbinsx\":30,\"offsetgroup\":\"American Crocodile\",\"orientation\":\"v\",\"showlegend\":true,\"x\":[4.09,3.65,4.11,3.04,3.57,3.66,2.76,3.88,3.04,3.32,0.36,3.75,1.69,3.88,2.44,2.77,1.92,1.01,2.8,3.51,0.58,1.78,3.3,3.05,2.02,3.25,4.07,3.14,3.07,3.02,3.36,0.49,3.85,1.54,3.75,2.68,1.68,2.86,3.94,0.28,3.62,2.97,0.37,2.6,3.71,4.18,2.24,2.63,2.76,4.33,3.57,3.64,3.62,2.94,3.18,3.45,4.18,1.51,2.71,2.46,2.8,3.09,1.81,3.74,3.67,3.25],\"xaxis\":\"x\",\"yaxis\":\"y\",\"type\":\"histogram\"},{\"alignmentgroup\":\"True\",\"bingroup\":\"x\",\"hovertemplate\":\"common_name=Orinoco Crocodile<br>observed_length_m=%{x}<br>count=%{y}<extra></extra>\",\"legendgroup\":\"Orinoco Crocodile\",\"marker\":{\"color\":\"#00cc96\",\"opacity\":0.5,\"pattern\":{\"shape\":\"\"}},\"name\":\"Orinoco Crocodile\",\"nbinsx\":30,\"offsetgroup\":\"Orinoco Crocodile\",\"orientation\":\"v\",\"showlegend\":true,\"x\":[1.08,3.94,4.71,3.4,0.43,1.96,4.55,2.87,3.7,1.13,3.88,2.99,0.82,2.14,2.82,3.25,1.9,2.8,3.49,0.65,2.88,3.87,2.63,2.66,4.22,3.77,3.96,1.42,4.24,3.9,1.25,3.66,2.08,2.68,4.02,3.98,4.35,0.34,3.9,0.8,1.41,2.63,4.16,3.57,2.02,2.95,3.98,4.81,3.9,3.26,4.79,4.54,4.16,3.61,2.75,4.5,3.38,1.73],\"xaxis\":\"x\",\"yaxis\":\"y\",\"type\":\"histogram\"},{\"alignmentgroup\":\"True\",\"bingroup\":\"x\",\"hovertemplate\":\"common_name=Mugger Crocodile (Marsh Crocodile)<br>observed_length_m=%{x}<br>count=%{y}<extra></extra>\",\"legendgroup\":\"Mugger Crocodile (Marsh Crocodile)\",\"marker\":{\"color\":\"#ab63fa\",\"opacity\":0.5,\"pattern\":{\"shape\":\"\"}},\"name\":\"Mugger Crocodile (Marsh Crocodile)\",\"nbinsx\":30,\"offsetgroup\":\"Mugger Crocodile (Marsh Crocodile)\",\"orientation\":\"v\",\"showlegend\":true,\"x\":[3.75,2.64,3.39,3.25,2.82,1.21,3.19,3.11,2.98,2.25,3.53,2.87,3.22,0.61,2.8,3.25,0.64,2.66,1.23,2.48,2.52,3.65,2.51,2.78,3.57,3.61,3.09,3.42,3.46,2.9,3.91,4.03,3.3,2.5,1.99,3.26,3.49,3.01,2.69,3.07,3.72,1.22,3.01,2.97,3.97,0.47,2.54],\"xaxis\":\"x\",\"yaxis\":\"y\",\"type\":\"histogram\"},{\"alignmentgroup\":\"True\",\"bingroup\":\"x\",\"hovertemplate\":\"common_name=Siamese Crocodile<br>observed_length_m=%{x}<br>count=%{y}<extra></extra>\",\"legendgroup\":\"Siamese Crocodile\",\"marker\":{\"color\":\"#FFA15A\",\"opacity\":0.5,\"pattern\":{\"shape\":\"\"}},\"name\":\"Siamese Crocodile\",\"nbinsx\":30,\"offsetgroup\":\"Siamese Crocodile\",\"orientation\":\"v\",\"showlegend\":true,\"x\":[2.85,2.63,3.22,2.04,0.29,0.96,2.56,1.25,2.88,2.45,0.94,2.89,1.55,1.52,2.85,2.76,2.18,2.92,2.97,2.81,2.13,2.92,0.43,2.51,2.09,1.87,2.97,2.66,3.13,0.91,1.49,2.06,2.29,0.43,2.59,2.34,0.6,2.76,1.98,2.52,2.86,2.98,0.27,2.69,3.04],\"xaxis\":\"x\",\"yaxis\":\"y\",\"type\":\"histogram\"},{\"alignmentgroup\":\"True\",\"bingroup\":\"x\",\"hovertemplate\":\"common_name=Congo Dwarf Crocodile<br>observed_length_m=%{x}<br>count=%{y}<extra></extra>\",\"legendgroup\":\"Congo Dwarf Crocodile\",\"marker\":{\"color\":\"#19d3f3\",\"opacity\":0.5,\"pattern\":{\"shape\":\"\"}},\"name\":\"Congo Dwarf Crocodile\",\"nbinsx\":30,\"offsetgroup\":\"Congo Dwarf Crocodile\",\"orientation\":\"v\",\"showlegend\":true,\"x\":[0.35,1.77,1.25,0.6,1.49,1.04,1.51,1.51,1.4,1.46,1.42,1.51,1.31,1.2,1.36,1.11,1.35,1.12,1.47,0.9,1.09,1.28,0.84,1.73,1.52,1.51,1.06,1.56,1.45,1.37,1.13,1.54,0.33,1.35,1.4,1.42,1.52,1.38,0.17,1.71,1.41,1.15,1.06,1.3,0.14,1.55,1.28,0.6],\"xaxis\":\"x\",\"yaxis\":\"y\",\"type\":\"histogram\"},{\"alignmentgroup\":\"True\",\"bingroup\":\"x\",\"hovertemplate\":\"common_name=West African Crocodile<br>observed_length_m=%{x}<br>count=%{y}<extra></extra>\",\"legendgroup\":\"West African Crocodile\",\"marker\":{\"color\":\"#FF6692\",\"opacity\":0.5,\"pattern\":{\"shape\":\"\"}},\"name\":\"West African Crocodile\",\"nbinsx\":30,\"offsetgroup\":\"West African Crocodile\",\"orientation\":\"v\",\"showlegend\":true,\"x\":[3.05,2.72,2.13,3.02,2.7,3.08,2.54,2.28,2.9,1.55,2.07,2.52,3.04,2.4,2.98,1.99,2.78,1.36,2.28,0.9,0.48,2.81,2.76,2.7,2.41,2.77,2.61,2.74,2.32,2.04,2.4,1.18,2.42,1.74,1.97,1.58,2.56,2.64,0.73,3.01,2.05,2.17,3.35,2.69,2.05,2.26,2.99,2.6,2.9,2.76,0.92,2.55],\"xaxis\":\"x\",\"yaxis\":\"y\",\"type\":\"histogram\"},{\"alignmentgroup\":\"True\",\"bingroup\":\"x\",\"hovertemplate\":\"common_name=West African Dwarf Crocodile<br>observed_length_m=%{x}<br>count=%{y}<extra></extra>\",\"legendgroup\":\"West African Dwarf Crocodile\",\"marker\":{\"color\":\"#B6E880\",\"opacity\":0.5,\"pattern\":{\"shape\":\"\"}},\"name\":\"West African Dwarf Crocodile\",\"nbinsx\":30,\"offsetgroup\":\"West African Dwarf Crocodile\",\"orientation\":\"v\",\"showlegend\":true,\"x\":[1.22,1.32,1.48,1.18,1.23,0.86,1.37,1.57,1.47,1.53,0.96,1.13,1.03,1.0,0.99,0.93,1.24,1.03,1.05,1.28,1.18,1.64,0.15,0.78,0.46,1.31,1.33,1.61,0.97,1.6,1.01,1.09,0.97,1.29,0.23,1.24,1.29,0.43,0.69,1.45,1.31,1.32,1.04,0.98,1.06,1.49,1.26,1.34,1.14,1.35,1.01,0.8,1.3,1.46,1.01,1.01,0.39],\"xaxis\":\"x\",\"yaxis\":\"y\",\"type\":\"histogram\"},{\"alignmentgroup\":\"True\",\"bingroup\":\"x\",\"hovertemplate\":\"common_name=Nile Crocodile<br>observed_length_m=%{x}<br>count=%{y}<extra></extra>\",\"legendgroup\":\"Nile Crocodile\",\"marker\":{\"color\":\"#FF97FF\",\"opacity\":0.5,\"pattern\":{\"shape\":\"\"}},\"name\":\"Nile Crocodile\",\"nbinsx\":30,\"offsetgroup\":\"Nile Crocodile\",\"orientation\":\"v\",\"showlegend\":true,\"x\":[4.37,4.65,3.18,3.57,3.78,4.34,3.32,1.77,4.55,3.13,3.85,0.56,4.62,3.14,3.56,4.0,2.68,5.18,1.63,2.04,4.1,3.91,3.83,3.43,5.31,3.69,3.78,4.41,4.35,4.37,4.69,3.39,4.29,4.18,2.46,3.59,4.39,2.86,4.14,3.38,4.22,3.02,4.48,3.43,4.5,4.68,2.07,3.13],\"xaxis\":\"x\",\"yaxis\":\"y\",\"type\":\"histogram\"},{\"alignmentgroup\":\"True\",\"bingroup\":\"x\",\"hovertemplate\":\"common_name=Borneo Crocodile (disputed)<br>observed_length_m=%{x}<br>count=%{y}<extra></extra>\",\"legendgroup\":\"Borneo Crocodile (disputed)\",\"marker\":{\"color\":\"#FECB52\",\"opacity\":0.5,\"pattern\":{\"shape\":\"\"}},\"name\":\"Borneo Crocodile (disputed)\",\"nbinsx\":30,\"offsetgroup\":\"Borneo Crocodile (disputed)\",\"orientation\":\"v\",\"showlegend\":true,\"x\":[1.07,2.52,2.05,2.56,2.54,2.4,3.68,3.27,3.1,0.87,0.76,2.54,3.09,2.94,2.79,3.06,2.81,3.0,2.23,0.87,1.66,2.99,3.44,2.66,1.95,2.31,3.52,0.93,2.52,2.78,2.25,3.44,2.52,2.2,2.6,1.67,2.94,2.83,0.91,2.68,3.25,2.39,0.53,1.92,2.67,3.79,3.11,3.29,3.17,2.26,1.52,1.55,2.25,2.98,3.23,3.48,2.65,2.38,3.16,3.6,2.02,2.59,2.46,2.18,3.02,2.37,3.91],\"xaxis\":\"x\",\"yaxis\":\"y\",\"type\":\"histogram\"},{\"alignmentgroup\":\"True\",\"bingroup\":\"x\",\"hovertemplate\":\"common_name=Saltwater Crocodile<br>observed_length_m=%{x}<br>count=%{y}<extra></extra>\",\"legendgroup\":\"Saltwater Crocodile\",\"marker\":{\"color\":\"#636efa\",\"opacity\":0.5,\"pattern\":{\"shape\":\"\"}},\"name\":\"Saltwater Crocodile\",\"nbinsx\":30,\"offsetgroup\":\"Saltwater Crocodile\",\"orientation\":\"v\",\"showlegend\":true,\"x\":[1.55,5.83,5.43,4.9,5.07,4.86,3.59,4.68,5.1,5.22,3.05,6.02,5.48,4.21,5.32,3.58,5.91,6.02,3.55,3.08,4.19,4.96,3.62,3.65,4.33,3.81,4.16,4.78,6.12,0.53,3.18,5.1,4.33,3.74,3.61,4.71,5.79,4.18,5.4,4.99,4.31,4.44,1.28,5.05,4.51,4.76,4.21,3.8,3.58,4.33,4.76,5.2,5.48,4.23,4.1,4.84,5.13,4.01],\"xaxis\":\"x\",\"yaxis\":\"y\",\"type\":\"histogram\"},{\"alignmentgroup\":\"True\",\"bingroup\":\"x\",\"hovertemplate\":\"common_name=Cuban Crocodile<br>observed_length_m=%{x}<br>count=%{y}<extra></extra>\",\"legendgroup\":\"Cuban Crocodile\",\"marker\":{\"color\":\"#EF553B\",\"opacity\":0.5,\"pattern\":{\"shape\":\"\"}},\"name\":\"Cuban Crocodile\",\"nbinsx\":30,\"offsetgroup\":\"Cuban Crocodile\",\"orientation\":\"v\",\"showlegend\":true,\"x\":[2.44,0.34,2.42,2.23,2.63,2.71,2.93,2.26,2.07,2.75,2.01,2.74,2.13,2.96,2.07,1.56,2.61,1.51,1.94,2.92,3.27,0.79,2.92,2.11,2.91,1.94,2.63,3.01,2.88,2.34,2.63,1.95,2.89,2.41,2.17,2.73,3.1,2.7,2.76,0.46,2.82,1.35,3.38,2.42,2.95,1.53,2.4,2.96,1.22,2.12,0.56,2.12,2.16,2.48,2.69,2.56,3.14,1.79,2.28],\"xaxis\":\"x\",\"yaxis\":\"y\",\"type\":\"histogram\"},{\"alignmentgroup\":\"True\",\"bingroup\":\"x\",\"hovertemplate\":\"common_name=Philippine Crocodile<br>observed_length_m=%{x}<br>count=%{y}<extra></extra>\",\"legendgroup\":\"Philippine Crocodile\",\"marker\":{\"color\":\"#00cc96\",\"opacity\":0.5,\"pattern\":{\"shape\":\"\"}},\"name\":\"Philippine Crocodile\",\"nbinsx\":30,\"offsetgroup\":\"Philippine Crocodile\",\"orientation\":\"v\",\"showlegend\":true,\"x\":[1.01,2.26,1.6,2.27,1.94,2.15,2.03,1.88,0.38,2.1,2.31,2.02,2.48,1.67,1.73,1.57,2.04,1.42,1.61,1.46,2.62,1.82,1.74,1.45,2.25,0.41,1.81,2.05,1.16,2.08,2.31,2.3,2.29,1.62,2.0,2.23,1.3,1.68,1.52,0.7,1.78,2.32,1.61,1.8,2.27,2.09,2.33,1.48,1.86,1.69,1.94,1.68,2.34,1.89,2.27,1.98,2.17,2.04],\"xaxis\":\"x\",\"yaxis\":\"y\",\"type\":\"histogram\"},{\"alignmentgroup\":\"True\",\"bingroup\":\"x\",\"hovertemplate\":\"common_name=New Guinea Crocodile<br>observed_length_m=%{x}<br>count=%{y}<extra></extra>\",\"legendgroup\":\"New Guinea Crocodile\",\"marker\":{\"color\":\"#ab63fa\",\"opacity\":0.5,\"pattern\":{\"shape\":\"\"}},\"name\":\"New Guinea Crocodile\",\"nbinsx\":30,\"offsetgroup\":\"New Guinea Crocodile\",\"orientation\":\"v\",\"showlegend\":true,\"x\":[0.76,2.51,2.97,3.04,2.21,1.52,2.26,2.82,0.88,2.21,2.31,2.1,2.36,1.64,1.2,2.87,1.74,1.76,2.29,2.89,2.26,2.73,2.33,2.59,0.24,2.5,1.46,2.6,2.6,2.42,3.12,2.02,1.78,1.04,1.84,2.16,1.1,2.26,2.25,2.96,2.22,2.54,2.72,2.03,0.72,2.39,1.24,2.85,1.95,2.56,0.71,3.38,1.3,2.5,2.48,2.56,0.38,1.86,2.45,2.35,2.88,1.98,2.21,2.74,2.75,2.81,2.23,2.5],\"xaxis\":\"x\",\"yaxis\":\"y\",\"type\":\"histogram\"},{\"alignmentgroup\":\"True\",\"bingroup\":\"x\",\"hovertemplate\":\"common_name=West African Slender-snouted Crocodile<br>observed_length_m=%{x}<br>count=%{y}<extra></extra>\",\"legendgroup\":\"West African Slender-snouted Crocodile\",\"marker\":{\"color\":\"#FFA15A\",\"opacity\":0.5,\"pattern\":{\"shape\":\"\"}},\"name\":\"West African Slender-snouted Crocodile\",\"nbinsx\":30,\"offsetgroup\":\"West African Slender-snouted Crocodile\",\"orientation\":\"v\",\"showlegend\":true,\"x\":[2.96,2.43,2.96,1.77,2.26,2.9,2.58,3.07,2.05,3.41,2.64,2.75,2.23,2.07,2.89,2.08,3.15,2.94,3.32,2.95,2.87,3.28,2.28,0.88,3.07,2.92,2.93,0.26,2.71,2.78,2.81,1.33,2.53,2.58,2.44,2.43,0.53,1.99,3.07,3.22,2.48,2.62,0.61,1.89,2.76,2.53,2.79,3.21,3.06,1.48,1.93,2.84,2.26,2.34,2.82],\"xaxis\":\"x\",\"yaxis\":\"y\",\"type\":\"histogram\"},{\"alignmentgroup\":\"True\",\"bingroup\":\"x\",\"hovertemplate\":\"common_name=Freshwater Crocodile (Johnstone's)<br>observed_length_m=%{x}<br>count=%{y}<extra></extra>\",\"legendgroup\":\"Freshwater Crocodile (Johnstone's)\",\"marker\":{\"color\":\"#19d3f3\",\"opacity\":0.5,\"pattern\":{\"shape\":\"\"}},\"name\":\"Freshwater Crocodile (Johnstone's)\",\"nbinsx\":30,\"offsetgroup\":\"Freshwater Crocodile (Johnstone's)\",\"orientation\":\"v\",\"showlegend\":true,\"x\":[1.05,1.93,2.57,1.59,1.77,2.17,2.85,1.94,1.69,2.86,1.47,1.75,0.88,2.04,1.58,2.06,1.91,1.89,2.07,2.34,2.31,0.91,0.88,0.27,0.84,2.01,1.96,0.39,2.63,2.34,1.68,2.13,0.8,2.36,0.81,2.72,2.26,2.18,2.71,2.07,2.06,2.54,2.4,1.32,2.14],\"xaxis\":\"x\",\"yaxis\":\"y\",\"type\":\"histogram\"},{\"alignmentgroup\":\"True\",\"bingroup\":\"x\",\"hovertemplate\":\"common_name=Central African Slender-snouted Crocodile<br>observed_length_m=%{x}<br>count=%{y}<extra></extra>\",\"legendgroup\":\"Central African Slender-snouted Crocodile\",\"marker\":{\"color\":\"#FF6692\",\"opacity\":0.5,\"pattern\":{\"shape\":\"\"}},\"name\":\"Central African Slender-snouted Crocodile\",\"nbinsx\":30,\"offsetgroup\":\"Central African Slender-snouted Crocodile\",\"orientation\":\"v\",\"showlegend\":true,\"x\":[1.85,1.2,1.69,0.79,2.5,2.36,1.12,0.5,2.61,0.33,1.79,2.86,2.69,3.06,2.06,0.79,0.72,2.1,2.64,2.08,2.22,2.72,1.13,2.55,2.2,0.7,2.29,1.98,2.74,2.67,2.24,2.4,2.67,2.41,0.47,2.82,1.95,2.68,2.51,1.6,3.0,1.87,2.52,2.22,2.25,2.35,1.1,2.01,2.08,2.27,0.19,2.51,2.69,3.02,2.65,0.35],\"xaxis\":\"x\",\"yaxis\":\"y\",\"type\":\"histogram\"},{\"alignmentgroup\":\"True\",\"bingroup\":\"x\",\"hovertemplate\":\"common_name=Hall's New Guinea Crocodile<br>observed_length_m=%{x}<br>count=%{y}<extra></extra>\",\"legendgroup\":\"Hall's New Guinea Crocodile\",\"marker\":{\"color\":\"#B6E880\",\"opacity\":0.5,\"pattern\":{\"shape\":\"\"}},\"name\":\"Hall's New Guinea Crocodile\",\"nbinsx\":30,\"offsetgroup\":\"Hall's New Guinea Crocodile\",\"orientation\":\"v\",\"showlegend\":true,\"x\":[2.45,2.26,3.32,2.69,2.81,2.76,2.33,1.51,1.34,2.28,1.86,3.03,2.81,2.41,3.25,1.23,2.95,2.81,1.61,3.22,0.57,3.18,2.85,1.0,3.11,0.49,2.58,2.53,2.47,3.49,3.09,3.41,2.49,3.42,2.9,2.97,0.95,3.24,0.94,3.03,2.74,2.83,0.8,1.93,3.01,1.99,2.74,2.27,1.73],\"xaxis\":\"x\",\"yaxis\":\"y\",\"type\":\"histogram\"}],                        {\"template\":{\"data\":{\"histogram2dcontour\":[{\"type\":\"histogram2dcontour\",\"colorbar\":{\"outlinewidth\":0,\"ticks\":\"\"},\"colorscale\":[[0.0,\"#0d0887\"],[0.1111111111111111,\"#46039f\"],[0.2222222222222222,\"#7201a8\"],[0.3333333333333333,\"#9c179e\"],[0.4444444444444444,\"#bd3786\"],[0.5555555555555556,\"#d8576b\"],[0.6666666666666666,\"#ed7953\"],[0.7777777777777778,\"#fb9f3a\"],[0.8888888888888888,\"#fdca26\"],[1.0,\"#f0f921\"]]}],\"choropleth\":[{\"type\":\"choropleth\",\"colorbar\":{\"outlinewidth\":0,\"ticks\":\"\"}}],\"histogram2d\":[{\"type\":\"histogram2d\",\"colorbar\":{\"outlinewidth\":0,\"ticks\":\"\"},\"colorscale\":[[0.0,\"#0d0887\"],[0.1111111111111111,\"#46039f\"],[0.2222222222222222,\"#7201a8\"],[0.3333333333333333,\"#9c179e\"],[0.4444444444444444,\"#bd3786\"],[0.5555555555555556,\"#d8576b\"],[0.6666666666666666,\"#ed7953\"],[0.7777777777777778,\"#fb9f3a\"],[0.8888888888888888,\"#fdca26\"],[1.0,\"#f0f921\"]]}],\"heatmap\":[{\"type\":\"heatmap\",\"colorbar\":{\"outlinewidth\":0,\"ticks\":\"\"},\"colorscale\":[[0.0,\"#0d0887\"],[0.1111111111111111,\"#46039f\"],[0.2222222222222222,\"#7201a8\"],[0.3333333333333333,\"#9c179e\"],[0.4444444444444444,\"#bd3786\"],[0.5555555555555556,\"#d8576b\"],[0.6666666666666666,\"#ed7953\"],[0.7777777777777778,\"#fb9f3a\"],[0.8888888888888888,\"#fdca26\"],[1.0,\"#f0f921\"]]}],\"heatmapgl\":[{\"type\":\"heatmapgl\",\"colorbar\":{\"outlinewidth\":0,\"ticks\":\"\"},\"colorscale\":[[0.0,\"#0d0887\"],[0.1111111111111111,\"#46039f\"],[0.2222222222222222,\"#7201a8\"],[0.3333333333333333,\"#9c179e\"],[0.4444444444444444,\"#bd3786\"],[0.5555555555555556,\"#d8576b\"],[0.6666666666666666,\"#ed7953\"],[0.7777777777777778,\"#fb9f3a\"],[0.8888888888888888,\"#fdca26\"],[1.0,\"#f0f921\"]]}],\"contourcarpet\":[{\"type\":\"contourcarpet\",\"colorbar\":{\"outlinewidth\":0,\"ticks\":\"\"}}],\"contour\":[{\"type\":\"contour\",\"colorbar\":{\"outlinewidth\":0,\"ticks\":\"\"},\"colorscale\":[[0.0,\"#0d0887\"],[0.1111111111111111,\"#46039f\"],[0.2222222222222222,\"#7201a8\"],[0.3333333333333333,\"#9c179e\"],[0.4444444444444444,\"#bd3786\"],[0.5555555555555556,\"#d8576b\"],[0.6666666666666666,\"#ed7953\"],[0.7777777777777778,\"#fb9f3a\"],[0.8888888888888888,\"#fdca26\"],[1.0,\"#f0f921\"]]}],\"surface\":[{\"type\":\"surface\",\"colorbar\":{\"outlinewidth\":0,\"ticks\":\"\"},\"colorscale\":[[0.0,\"#0d0887\"],[0.1111111111111111,\"#46039f\"],[0.2222222222222222,\"#7201a8\"],[0.3333333333333333,\"#9c179e\"],[0.4444444444444444,\"#bd3786\"],[0.5555555555555556,\"#d8576b\"],[0.6666666666666666,\"#ed7953\"],[0.7777777777777778,\"#fb9f3a\"],[0.8888888888888888,\"#fdca26\"],[1.0,\"#f0f921\"]]}],\"mesh3d\":[{\"type\":\"mesh3d\",\"colorbar\":{\"outlinewidth\":0,\"ticks\":\"\"}}],\"scatter\":[{\"fillpattern\":{\"fillmode\":\"overlay\",\"size\":10,\"solidity\":0.2},\"type\":\"scatter\"}],\"parcoords\":[{\"type\":\"parcoords\",\"line\":{\"colorbar\":{\"outlinewidth\":0,\"ticks\":\"\"}}}],\"scatterpolargl\":[{\"type\":\"scatterpolargl\",\"marker\":{\"colorbar\":{\"outlinewidth\":0,\"ticks\":\"\"}}}],\"bar\":[{\"error_x\":{\"color\":\"#2a3f5f\"},\"error_y\":{\"color\":\"#2a3f5f\"},\"marker\":{\"line\":{\"color\":\"#E5ECF6\",\"width\":0.5},\"pattern\":{\"fillmode\":\"overlay\",\"size\":10,\"solidity\":0.2}},\"type\":\"bar\"}],\"scattergeo\":[{\"type\":\"scattergeo\",\"marker\":{\"colorbar\":{\"outlinewidth\":0,\"ticks\":\"\"}}}],\"scatterpolar\":[{\"type\":\"scatterpolar\",\"marker\":{\"colorbar\":{\"outlinewidth\":0,\"ticks\":\"\"}}}],\"histogram\":[{\"marker\":{\"pattern\":{\"fillmode\":\"overlay\",\"size\":10,\"solidity\":0.2}},\"type\":\"histogram\"}],\"scattergl\":[{\"type\":\"scattergl\",\"marker\":{\"colorbar\":{\"outlinewidth\":0,\"ticks\":\"\"}}}],\"scatter3d\":[{\"type\":\"scatter3d\",\"line\":{\"colorbar\":{\"outlinewidth\":0,\"ticks\":\"\"}},\"marker\":{\"colorbar\":{\"outlinewidth\":0,\"ticks\":\"\"}}}],\"scattermapbox\":[{\"type\":\"scattermapbox\",\"marker\":{\"colorbar\":{\"outlinewidth\":0,\"ticks\":\"\"}}}],\"scatterternary\":[{\"type\":\"scatterternary\",\"marker\":{\"colorbar\":{\"outlinewidth\":0,\"ticks\":\"\"}}}],\"scattercarpet\":[{\"type\":\"scattercarpet\",\"marker\":{\"colorbar\":{\"outlinewidth\":0,\"ticks\":\"\"}}}],\"carpet\":[{\"aaxis\":{\"endlinecolor\":\"#2a3f5f\",\"gridcolor\":\"white\",\"linecolor\":\"white\",\"minorgridcolor\":\"white\",\"startlinecolor\":\"#2a3f5f\"},\"baxis\":{\"endlinecolor\":\"#2a3f5f\",\"gridcolor\":\"white\",\"linecolor\":\"white\",\"minorgridcolor\":\"white\",\"startlinecolor\":\"#2a3f5f\"},\"type\":\"carpet\"}],\"table\":[{\"cells\":{\"fill\":{\"color\":\"#EBF0F8\"},\"line\":{\"color\":\"white\"}},\"header\":{\"fill\":{\"color\":\"#C8D4E3\"},\"line\":{\"color\":\"white\"}},\"type\":\"table\"}],\"barpolar\":[{\"marker\":{\"line\":{\"color\":\"#E5ECF6\",\"width\":0.5},\"pattern\":{\"fillmode\":\"overlay\",\"size\":10,\"solidity\":0.2}},\"type\":\"barpolar\"}],\"pie\":[{\"automargin\":true,\"type\":\"pie\"}]},\"layout\":{\"autotypenumbers\":\"strict\",\"colorway\":[\"#636efa\",\"#EF553B\",\"#00cc96\",\"#ab63fa\",\"#FFA15A\",\"#19d3f3\",\"#FF6692\",\"#B6E880\",\"#FF97FF\",\"#FECB52\"],\"font\":{\"color\":\"#2a3f5f\"},\"hovermode\":\"closest\",\"hoverlabel\":{\"align\":\"left\"},\"paper_bgcolor\":\"white\",\"plot_bgcolor\":\"#E5ECF6\",\"polar\":{\"bgcolor\":\"#E5ECF6\",\"angularaxis\":{\"gridcolor\":\"white\",\"linecolor\":\"white\",\"ticks\":\"\"},\"radialaxis\":{\"gridcolor\":\"white\",\"linecolor\":\"white\",\"ticks\":\"\"}},\"ternary\":{\"bgcolor\":\"#E5ECF6\",\"aaxis\":{\"gridcolor\":\"white\",\"linecolor\":\"white\",\"ticks\":\"\"},\"baxis\":{\"gridcolor\":\"white\",\"linecolor\":\"white\",\"ticks\":\"\"},\"caxis\":{\"gridcolor\":\"white\",\"linecolor\":\"white\",\"ticks\":\"\"}},\"coloraxis\":{\"colorbar\":{\"outlinewidth\":0,\"ticks\":\"\"}},\"colorscale\":{\"sequential\":[[0.0,\"#0d0887\"],[0.1111111111111111,\"#46039f\"],[0.2222222222222222,\"#7201a8\"],[0.3333333333333333,\"#9c179e\"],[0.4444444444444444,\"#bd3786\"],[0.5555555555555556,\"#d8576b\"],[0.6666666666666666,\"#ed7953\"],[0.7777777777777778,\"#fb9f3a\"],[0.8888888888888888,\"#fdca26\"],[1.0,\"#f0f921\"]],\"sequentialminus\":[[0.0,\"#0d0887\"],[0.1111111111111111,\"#46039f\"],[0.2222222222222222,\"#7201a8\"],[0.3333333333333333,\"#9c179e\"],[0.4444444444444444,\"#bd3786\"],[0.5555555555555556,\"#d8576b\"],[0.6666666666666666,\"#ed7953\"],[0.7777777777777778,\"#fb9f3a\"],[0.8888888888888888,\"#fdca26\"],[1.0,\"#f0f921\"]],\"diverging\":[[0,\"#8e0152\"],[0.1,\"#c51b7d\"],[0.2,\"#de77ae\"],[0.3,\"#f1b6da\"],[0.4,\"#fde0ef\"],[0.5,\"#f7f7f7\"],[0.6,\"#e6f5d0\"],[0.7,\"#b8e186\"],[0.8,\"#7fbc41\"],[0.9,\"#4d9221\"],[1,\"#276419\"]]},\"xaxis\":{\"gridcolor\":\"white\",\"linecolor\":\"white\",\"ticks\":\"\",\"title\":{\"standoff\":15},\"zerolinecolor\":\"white\",\"automargin\":true,\"zerolinewidth\":2},\"yaxis\":{\"gridcolor\":\"white\",\"linecolor\":\"white\",\"ticks\":\"\",\"title\":{\"standoff\":15},\"zerolinecolor\":\"white\",\"automargin\":true,\"zerolinewidth\":2},\"scene\":{\"xaxis\":{\"backgroundcolor\":\"#E5ECF6\",\"gridcolor\":\"white\",\"linecolor\":\"white\",\"showbackground\":true,\"ticks\":\"\",\"zerolinecolor\":\"white\",\"gridwidth\":2},\"yaxis\":{\"backgroundcolor\":\"#E5ECF6\",\"gridcolor\":\"white\",\"linecolor\":\"white\",\"showbackground\":true,\"ticks\":\"\",\"zerolinecolor\":\"white\",\"gridwidth\":2},\"zaxis\":{\"backgroundcolor\":\"#E5ECF6\",\"gridcolor\":\"white\",\"linecolor\":\"white\",\"showbackground\":true,\"ticks\":\"\",\"zerolinecolor\":\"white\",\"gridwidth\":2}},\"shapedefaults\":{\"line\":{\"color\":\"#2a3f5f\"}},\"annotationdefaults\":{\"arrowcolor\":\"#2a3f5f\",\"arrowhead\":0,\"arrowwidth\":1},\"geo\":{\"bgcolor\":\"white\",\"landcolor\":\"#E5ECF6\",\"subunitcolor\":\"white\",\"showland\":true,\"showlakes\":true,\"lakecolor\":\"white\"},\"title\":{\"x\":0.05},\"mapbox\":{\"style\":\"light\"}}},\"xaxis\":{\"anchor\":\"y\",\"domain\":[0.0,1.0],\"title\":{\"text\":\"observed_length_m\"}},\"yaxis\":{\"anchor\":\"x\",\"domain\":[0.0,1.0],\"title\":{\"text\":\"count\"}},\"legend\":{\"title\":{\"text\":\"common_name\"},\"tracegroupgap\":0},\"title\":{\"text\":\"Distribution of Length per Species\"},\"barmode\":\"overlay\"},                        {\"responsive\": true}                    ).then(function(){\n",
       "                            \n",
       "var gd = document.getElementById('5c8fe75d-4f79-416b-8cea-fce0b33dafe5');\n",
       "var x = new MutationObserver(function (mutations, observer) {{\n",
       "        var display = window.getComputedStyle(gd).display;\n",
       "        if (!display || display === 'none') {{\n",
       "            console.log([gd, 'removed!']);\n",
       "            Plotly.purge(gd);\n",
       "            observer.disconnect();\n",
       "        }}\n",
       "}});\n",
       "\n",
       "// Listen for the removal of the full notebook cells\n",
       "var notebookContainer = gd.closest('#notebook-container');\n",
       "if (notebookContainer) {{\n",
       "    x.observe(notebookContainer, {childList: true});\n",
       "}}\n",
       "\n",
       "// Listen for the clearing of the current output cell\n",
       "var outputEl = gd.closest('.output');\n",
       "if (outputEl) {{\n",
       "    x.observe(outputEl, {childList: true});\n",
       "}}\n",
       "\n",
       "                        })                };                });            </script>        </div>"
      ]
     },
     "metadata": {},
     "output_type": "display_data"
    }
   ],
   "source": [
    "import plotly.express as px\n",
    "\n",
    "# 1) Scatter: Length vs Weight by Sex\n",
    "if \"observed_length_m\" in df.columns and \"observed_weight_kg\" in df.columns:\n",
    "    if \"sex\" in df.columns and df[\"sex\"].nunique() > 1:\n",
    "        fig = px.scatter(\n",
    "            df,\n",
    "            x=\"observed_length_m\",\n",
    "            y=\"observed_weight_kg\",\n",
    "            color=\"sex\",\n",
    "            hover_data=[\"common_name\",\"age_class\"] if \"common_name\" in df.columns and \"age_class\" in df.columns else None,\n",
    "            title=\"Crocodile Length vs Weight by Sex\"\n",
    "        )\n",
    "    else:\n",
    "        fig = px.scatter(\n",
    "            df,\n",
    "            x=\"observed_length_m\",\n",
    "            y=\"observed_weight_kg\",\n",
    "            title=\"Crocodile Length vs Weight\"\n",
    "        )\n",
    "    fig.show()\n",
    "\n",
    "# 2) Histogram: Length distribution per species\n",
    "if \"observed_length_m\" in df.columns and \"common_name\" in df.columns:\n",
    "    if df[\"common_name\"].nunique() > 1:\n",
    "        fig = px.histogram(\n",
    "            df,\n",
    "            x=\"observed_length_m\",\n",
    "            color=\"common_name\",\n",
    "            nbins=30,\n",
    "            barmode=\"overlay\",\n",
    "            title=\"Distribution of Length per Species\"\n",
    "        )\n",
    "    else:\n",
    "        fig = px.histogram(\n",
    "            df,\n",
    "            x=\"observed_length_m\",\n",
    "            nbins=30,\n",
    "            title=f\"Distribution of Length ({df['common_name'].unique()[0]})\"\n",
    "        )\n",
    "    fig.show()"
   ]
  },
  {
   "cell_type": "code",
   "execution_count": null,
   "id": "82838e09-ff75-42f4-99b4-d997e7fb302d",
   "metadata": {},
   "outputs": [],
   "source": []
  }
 ],
 "metadata": {
  "kernelspec": {
   "display_name": "anaconda-panel-2023.05-py310",
   "language": "python",
   "name": "conda-env-anaconda-panel-2023.05-py310-py"
  },
  "language_info": {
   "codemirror_mode": {
    "name": "ipython",
    "version": 3
   },
   "file_extension": ".py",
   "mimetype": "text/x-python",
   "name": "python",
   "nbconvert_exporter": "python",
   "pygments_lexer": "ipython3",
   "version": "3.11.5"
  }
 },
 "nbformat": 4,
 "nbformat_minor": 5
}
